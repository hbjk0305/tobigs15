{
  "nbformat": 4,
  "nbformat_minor": 0,
  "metadata": {
    "accelerator": "TPU",
    "colab": {
      "name": "15기_week4_Ensemble_실습2.ipynb",
      "provenance": [],
      "collapsed_sections": []
    },
    "kernelspec": {
      "display_name": "Python 3",
      "language": "python",
      "name": "python3"
    },
    "language_info": {
      "codemirror_mode": {
        "name": "ipython",
        "version": 3
      },
      "file_extension": ".py",
      "mimetype": "text/x-python",
      "name": "python",
      "nbconvert_exporter": "python",
      "pygments_lexer": "ipython3",
      "version": "3.7.1"
    }
  },
  "cells": [
    {
      "cell_type": "markdown",
      "metadata": {
        "id": "dCgpw2sATzdT"
      },
      "source": [
        "# Ensemble2\n",
        "앙상블 기법 boosting(adaboost, gradient boosting, 확장된 gradient boosting), stacking에 대한 실습을 진행합니다.  \n",
        "폐암 진단 데이터를 이용한 분류기 만들기 앙상블입니다.  "
      ]
    },
    {
      "cell_type": "code",
      "metadata": {
        "id": "3gtnJHNUctH7"
      },
      "source": [
        "# ready\n",
        "import pandas as pd\n",
        "import numpy as np\n",
        "import warnings\n",
        "warnings.filterwarnings('ignore')\n",
        "pd.options.display.max_rows = 999\n",
        "pd.options.display.max_columns = 999\n",
        "# sklearn \n",
        "from sklearn.datasets import load_breast_cancer\n",
        "from sklearn.model_selection import train_test_split\n",
        "from sklearn.metrics import accuracy_score\n",
        "from sklearn.model_selection import cross_val_score,GridSearchCV"
      ],
      "execution_count": null,
      "outputs": []
    },
    {
      "cell_type": "code",
      "metadata": {
        "colab": {
          "base_uri": "https://localhost:8080/",
          "height": 248
        },
        "id": "Phr2mCZXdTy1",
        "outputId": "dafb785c-5450-4826-f0c5-609540f0d9cd"
      },
      "source": [
        "# load dataset\n",
        "cancer = load_breast_cancer()\n",
        "data = pd.DataFrame(cancer.data, columns=cancer.feature_names)\n",
        "data.head()"
      ],
      "execution_count": null,
      "outputs": [
        {
          "output_type": "execute_result",
          "data": {
            "text/html": [
              "<div>\n",
              "<style scoped>\n",
              "    .dataframe tbody tr th:only-of-type {\n",
              "        vertical-align: middle;\n",
              "    }\n",
              "\n",
              "    .dataframe tbody tr th {\n",
              "        vertical-align: top;\n",
              "    }\n",
              "\n",
              "    .dataframe thead th {\n",
              "        text-align: right;\n",
              "    }\n",
              "</style>\n",
              "<table border=\"1\" class=\"dataframe\">\n",
              "  <thead>\n",
              "    <tr style=\"text-align: right;\">\n",
              "      <th></th>\n",
              "      <th>mean radius</th>\n",
              "      <th>mean texture</th>\n",
              "      <th>mean perimeter</th>\n",
              "      <th>mean area</th>\n",
              "      <th>mean smoothness</th>\n",
              "      <th>mean compactness</th>\n",
              "      <th>mean concavity</th>\n",
              "      <th>mean concave points</th>\n",
              "      <th>mean symmetry</th>\n",
              "      <th>mean fractal dimension</th>\n",
              "      <th>radius error</th>\n",
              "      <th>texture error</th>\n",
              "      <th>perimeter error</th>\n",
              "      <th>area error</th>\n",
              "      <th>smoothness error</th>\n",
              "      <th>compactness error</th>\n",
              "      <th>concavity error</th>\n",
              "      <th>concave points error</th>\n",
              "      <th>symmetry error</th>\n",
              "      <th>fractal dimension error</th>\n",
              "      <th>worst radius</th>\n",
              "      <th>worst texture</th>\n",
              "      <th>worst perimeter</th>\n",
              "      <th>worst area</th>\n",
              "      <th>worst smoothness</th>\n",
              "      <th>worst compactness</th>\n",
              "      <th>worst concavity</th>\n",
              "      <th>worst concave points</th>\n",
              "      <th>worst symmetry</th>\n",
              "      <th>worst fractal dimension</th>\n",
              "    </tr>\n",
              "  </thead>\n",
              "  <tbody>\n",
              "    <tr>\n",
              "      <th>0</th>\n",
              "      <td>17.99</td>\n",
              "      <td>10.38</td>\n",
              "      <td>122.80</td>\n",
              "      <td>1001.0</td>\n",
              "      <td>0.11840</td>\n",
              "      <td>0.27760</td>\n",
              "      <td>0.3001</td>\n",
              "      <td>0.14710</td>\n",
              "      <td>0.2419</td>\n",
              "      <td>0.07871</td>\n",
              "      <td>1.0950</td>\n",
              "      <td>0.9053</td>\n",
              "      <td>8.589</td>\n",
              "      <td>153.40</td>\n",
              "      <td>0.006399</td>\n",
              "      <td>0.04904</td>\n",
              "      <td>0.05373</td>\n",
              "      <td>0.01587</td>\n",
              "      <td>0.03003</td>\n",
              "      <td>0.006193</td>\n",
              "      <td>25.38</td>\n",
              "      <td>17.33</td>\n",
              "      <td>184.60</td>\n",
              "      <td>2019.0</td>\n",
              "      <td>0.1622</td>\n",
              "      <td>0.6656</td>\n",
              "      <td>0.7119</td>\n",
              "      <td>0.2654</td>\n",
              "      <td>0.4601</td>\n",
              "      <td>0.11890</td>\n",
              "    </tr>\n",
              "    <tr>\n",
              "      <th>1</th>\n",
              "      <td>20.57</td>\n",
              "      <td>17.77</td>\n",
              "      <td>132.90</td>\n",
              "      <td>1326.0</td>\n",
              "      <td>0.08474</td>\n",
              "      <td>0.07864</td>\n",
              "      <td>0.0869</td>\n",
              "      <td>0.07017</td>\n",
              "      <td>0.1812</td>\n",
              "      <td>0.05667</td>\n",
              "      <td>0.5435</td>\n",
              "      <td>0.7339</td>\n",
              "      <td>3.398</td>\n",
              "      <td>74.08</td>\n",
              "      <td>0.005225</td>\n",
              "      <td>0.01308</td>\n",
              "      <td>0.01860</td>\n",
              "      <td>0.01340</td>\n",
              "      <td>0.01389</td>\n",
              "      <td>0.003532</td>\n",
              "      <td>24.99</td>\n",
              "      <td>23.41</td>\n",
              "      <td>158.80</td>\n",
              "      <td>1956.0</td>\n",
              "      <td>0.1238</td>\n",
              "      <td>0.1866</td>\n",
              "      <td>0.2416</td>\n",
              "      <td>0.1860</td>\n",
              "      <td>0.2750</td>\n",
              "      <td>0.08902</td>\n",
              "    </tr>\n",
              "    <tr>\n",
              "      <th>2</th>\n",
              "      <td>19.69</td>\n",
              "      <td>21.25</td>\n",
              "      <td>130.00</td>\n",
              "      <td>1203.0</td>\n",
              "      <td>0.10960</td>\n",
              "      <td>0.15990</td>\n",
              "      <td>0.1974</td>\n",
              "      <td>0.12790</td>\n",
              "      <td>0.2069</td>\n",
              "      <td>0.05999</td>\n",
              "      <td>0.7456</td>\n",
              "      <td>0.7869</td>\n",
              "      <td>4.585</td>\n",
              "      <td>94.03</td>\n",
              "      <td>0.006150</td>\n",
              "      <td>0.04006</td>\n",
              "      <td>0.03832</td>\n",
              "      <td>0.02058</td>\n",
              "      <td>0.02250</td>\n",
              "      <td>0.004571</td>\n",
              "      <td>23.57</td>\n",
              "      <td>25.53</td>\n",
              "      <td>152.50</td>\n",
              "      <td>1709.0</td>\n",
              "      <td>0.1444</td>\n",
              "      <td>0.4245</td>\n",
              "      <td>0.4504</td>\n",
              "      <td>0.2430</td>\n",
              "      <td>0.3613</td>\n",
              "      <td>0.08758</td>\n",
              "    </tr>\n",
              "    <tr>\n",
              "      <th>3</th>\n",
              "      <td>11.42</td>\n",
              "      <td>20.38</td>\n",
              "      <td>77.58</td>\n",
              "      <td>386.1</td>\n",
              "      <td>0.14250</td>\n",
              "      <td>0.28390</td>\n",
              "      <td>0.2414</td>\n",
              "      <td>0.10520</td>\n",
              "      <td>0.2597</td>\n",
              "      <td>0.09744</td>\n",
              "      <td>0.4956</td>\n",
              "      <td>1.1560</td>\n",
              "      <td>3.445</td>\n",
              "      <td>27.23</td>\n",
              "      <td>0.009110</td>\n",
              "      <td>0.07458</td>\n",
              "      <td>0.05661</td>\n",
              "      <td>0.01867</td>\n",
              "      <td>0.05963</td>\n",
              "      <td>0.009208</td>\n",
              "      <td>14.91</td>\n",
              "      <td>26.50</td>\n",
              "      <td>98.87</td>\n",
              "      <td>567.7</td>\n",
              "      <td>0.2098</td>\n",
              "      <td>0.8663</td>\n",
              "      <td>0.6869</td>\n",
              "      <td>0.2575</td>\n",
              "      <td>0.6638</td>\n",
              "      <td>0.17300</td>\n",
              "    </tr>\n",
              "    <tr>\n",
              "      <th>4</th>\n",
              "      <td>20.29</td>\n",
              "      <td>14.34</td>\n",
              "      <td>135.10</td>\n",
              "      <td>1297.0</td>\n",
              "      <td>0.10030</td>\n",
              "      <td>0.13280</td>\n",
              "      <td>0.1980</td>\n",
              "      <td>0.10430</td>\n",
              "      <td>0.1809</td>\n",
              "      <td>0.05883</td>\n",
              "      <td>0.7572</td>\n",
              "      <td>0.7813</td>\n",
              "      <td>5.438</td>\n",
              "      <td>94.44</td>\n",
              "      <td>0.011490</td>\n",
              "      <td>0.02461</td>\n",
              "      <td>0.05688</td>\n",
              "      <td>0.01885</td>\n",
              "      <td>0.01756</td>\n",
              "      <td>0.005115</td>\n",
              "      <td>22.54</td>\n",
              "      <td>16.67</td>\n",
              "      <td>152.20</td>\n",
              "      <td>1575.0</td>\n",
              "      <td>0.1374</td>\n",
              "      <td>0.2050</td>\n",
              "      <td>0.4000</td>\n",
              "      <td>0.1625</td>\n",
              "      <td>0.2364</td>\n",
              "      <td>0.07678</td>\n",
              "    </tr>\n",
              "  </tbody>\n",
              "</table>\n",
              "</div>"
            ],
            "text/plain": [
              "   mean radius  mean texture  mean perimeter  mean area  mean smoothness  \\\n",
              "0        17.99         10.38          122.80     1001.0          0.11840   \n",
              "1        20.57         17.77          132.90     1326.0          0.08474   \n",
              "2        19.69         21.25          130.00     1203.0          0.10960   \n",
              "3        11.42         20.38           77.58      386.1          0.14250   \n",
              "4        20.29         14.34          135.10     1297.0          0.10030   \n",
              "\n",
              "   mean compactness  mean concavity  mean concave points  mean symmetry  \\\n",
              "0           0.27760          0.3001              0.14710         0.2419   \n",
              "1           0.07864          0.0869              0.07017         0.1812   \n",
              "2           0.15990          0.1974              0.12790         0.2069   \n",
              "3           0.28390          0.2414              0.10520         0.2597   \n",
              "4           0.13280          0.1980              0.10430         0.1809   \n",
              "\n",
              "   mean fractal dimension  radius error  texture error  perimeter error  \\\n",
              "0                 0.07871        1.0950         0.9053            8.589   \n",
              "1                 0.05667        0.5435         0.7339            3.398   \n",
              "2                 0.05999        0.7456         0.7869            4.585   \n",
              "3                 0.09744        0.4956         1.1560            3.445   \n",
              "4                 0.05883        0.7572         0.7813            5.438   \n",
              "\n",
              "   area error  smoothness error  compactness error  concavity error  \\\n",
              "0      153.40          0.006399            0.04904          0.05373   \n",
              "1       74.08          0.005225            0.01308          0.01860   \n",
              "2       94.03          0.006150            0.04006          0.03832   \n",
              "3       27.23          0.009110            0.07458          0.05661   \n",
              "4       94.44          0.011490            0.02461          0.05688   \n",
              "\n",
              "   concave points error  symmetry error  fractal dimension error  \\\n",
              "0               0.01587         0.03003                 0.006193   \n",
              "1               0.01340         0.01389                 0.003532   \n",
              "2               0.02058         0.02250                 0.004571   \n",
              "3               0.01867         0.05963                 0.009208   \n",
              "4               0.01885         0.01756                 0.005115   \n",
              "\n",
              "   worst radius  worst texture  worst perimeter  worst area  worst smoothness  \\\n",
              "0         25.38          17.33           184.60      2019.0            0.1622   \n",
              "1         24.99          23.41           158.80      1956.0            0.1238   \n",
              "2         23.57          25.53           152.50      1709.0            0.1444   \n",
              "3         14.91          26.50            98.87       567.7            0.2098   \n",
              "4         22.54          16.67           152.20      1575.0            0.1374   \n",
              "\n",
              "   worst compactness  worst concavity  worst concave points  worst symmetry  \\\n",
              "0             0.6656           0.7119                0.2654          0.4601   \n",
              "1             0.1866           0.2416                0.1860          0.2750   \n",
              "2             0.4245           0.4504                0.2430          0.3613   \n",
              "3             0.8663           0.6869                0.2575          0.6638   \n",
              "4             0.2050           0.4000                0.1625          0.2364   \n",
              "\n",
              "   worst fractal dimension  \n",
              "0                  0.11890  \n",
              "1                  0.08902  \n",
              "2                  0.08758  \n",
              "3                  0.17300  \n",
              "4                  0.07678  "
            ]
          },
          "metadata": {
            "tags": []
          },
          "execution_count": 3
        }
      ]
    },
    {
      "cell_type": "code",
      "metadata": {
        "id": "BVhBmBpXhZUg"
      },
      "source": [
        "X,y = cancer.data, cancer.target\n",
        "X_train, X_test, y_train, y_test = train_test_split(cancer.data, cancer.target, test_size=0.2, random_state=1004)"
      ],
      "execution_count": null,
      "outputs": []
    },
    {
      "cell_type": "code",
      "metadata": {
        "colab": {
          "base_uri": "https://localhost:8080/"
        },
        "id": "vJHK717ZRVm6",
        "outputId": "35be7167-8092-4ba5-add0-1a01c34ece41"
      },
      "source": [
        "y_train[:20]"
      ],
      "execution_count": null,
      "outputs": [
        {
          "output_type": "execute_result",
          "data": {
            "text/plain": [
              "array([0, 0, 1, 1, 0, 0, 0, 1, 1, 0, 0, 0, 0, 1, 0, 1, 1, 1, 1, 0])"
            ]
          },
          "metadata": {
            "tags": []
          },
          "execution_count": 4
        }
      ]
    },
    {
      "cell_type": "markdown",
      "metadata": {
        "id": "ZFU5BGm4dUXF"
      },
      "source": [
        "## 1. AdaBoost"
      ]
    },
    {
      "cell_type": "markdown",
      "metadata": {
        "id": "yCgWo2F7BCGj"
      },
      "source": [
        "* base_estimator : 사용하는 모델 \r\n",
        "* n_estimators : The maximum number of estimators at which boosting is terminated. 디폴트 50"
      ]
    },
    {
      "cell_type": "code",
      "metadata": {
        "id": "y0iJzZcTn51Y"
      },
      "source": [
        "from sklearn.ensemble import AdaBoostClassifier\n",
        "from sklearn.tree import DecisionTreeClassifier"
      ],
      "execution_count": null,
      "outputs": []
    },
    {
      "cell_type": "code",
      "metadata": {
        "id": "AJxFTJreiMub"
      },
      "source": [
        "eclf = AdaBoostClassifier(\n",
        "    base_estimator=DecisionTreeClassifier(max_depth=2), n_estimators=500,\n",
        "    learning_rate=0.1, random_state=318)"
      ],
      "execution_count": null,
      "outputs": []
    },
    {
      "cell_type": "code",
      "metadata": {
        "colab": {
          "base_uri": "https://localhost:8080/"
        },
        "id": "e8A-uKbYsJnY",
        "outputId": "ae9f8800-deef-4196-c8a9-615b56d70299"
      },
      "source": [
        "# cv\n",
        "cross_val_score(eclf, X, y, cv=5).mean()"
      ],
      "execution_count": null,
      "outputs": [
        {
          "output_type": "execute_result",
          "data": {
            "text/plain": [
              "0.9701288619779538"
            ]
          },
          "metadata": {
            "tags": []
          },
          "execution_count": 7
        }
      ]
    },
    {
      "cell_type": "code",
      "metadata": {
        "id": "-HRS5aAgevkj"
      },
      "source": [
        "# Grid Search\n",
        "params = {\"base_estimator__criterion\" : [\"gini\", \"entropy\"],\n",
        "          \"base_estimator__max_features\" : [7,8],\n",
        "          \"base_estimator__max_depth\" : [1,2],\n",
        "          \"n_estimators\": [23, 24, 25, 26, 27]}\n",
        "\n",
        "grid = GridSearchCV(estimator=eclf, param_grid=params, cv=5, n_jobs=-1)\n",
        "grid = grid.fit(X, y)"
      ],
      "execution_count": null,
      "outputs": []
    },
    {
      "cell_type": "code",
      "metadata": {
        "colab": {
          "base_uri": "https://localhost:8080/"
        },
        "id": "gZWOAgSGjc08",
        "outputId": "9fe20b93-061d-4520-de73-a98bebbd3b97"
      },
      "source": [
        "# best score & params\n",
        "print(\"best score: \",grid.best_score_)\n",
        "print(\"best parameter: \",grid.best_params_)"
      ],
      "execution_count": null,
      "outputs": [
        {
          "output_type": "stream",
          "text": [
            "best score:  0.9595870206489675\n",
            "best parameter:  {'base_estimator__criterion': 'gini', 'base_estimator__max_depth': 2, 'base_estimator__max_features': 8, 'n_estimators': 26}\n"
          ],
          "name": "stdout"
        }
      ]
    },
    {
      "cell_type": "code",
      "metadata": {
        "colab": {
          "base_uri": "https://localhost:8080/",
          "height": 122
        },
        "id": "_OJUIT_JjlTZ",
        "outputId": "6b63bc83-0186-48df-cabf-3ee76de05384"
      },
      "source": [
        "# Feature Importances\n",
        "grid.best_estimator_.feature_importances_ "
      ],
      "execution_count": null,
      "outputs": [
        {
          "output_type": "execute_result",
          "data": {
            "text/plain": [
              "array([0.00679894, 0.08393732, 0.        , 0.00927962, 0.        ,\n",
              "       0.        , 0.0501088 , 0.06826607, 0.0139775 , 0.        ,\n",
              "       0.02404445, 0.        , 0.02201243, 0.07712993, 0.        ,\n",
              "       0.01063741, 0.00188976, 0.        , 0.00477859, 0.00702932,\n",
              "       0.06985344, 0.12016262, 0.0682317 , 0.11044393, 0.06600203,\n",
              "       0.00497385, 0.07543759, 0.09794108, 0.00706362, 0.        ])"
            ]
          },
          "metadata": {
            "tags": []
          },
          "execution_count": 12
        }
      ]
    },
    {
      "cell_type": "markdown",
      "metadata": {
        "id": "L6lc07OZUg4V"
      },
      "source": [
        "# 2. Gradient Boost"
      ]
    },
    {
      "cell_type": "markdown",
      "metadata": {
        "id": "PDeIeG6kCF7v"
      },
      "source": [
        "* n_estimators :수행할 부스팅 단계의 수. Gradient boosting은 오버피팅의 위험성이 낮기 때문에 이 부스팅 단계 수가 크면 좋은 성능이 나오는 경우가 많습니다."
      ]
    },
    {
      "cell_type": "code",
      "metadata": {
        "id": "4alIFs9_qllw"
      },
      "source": [
        "# model\n",
        "from sklearn.ensemble import GradientBoostingClassifier\n",
        "eclf = GradientBoostingClassifier(n_estimators=100, learning_rate=0.1)"
      ],
      "execution_count": null,
      "outputs": []
    },
    {
      "cell_type": "code",
      "metadata": {
        "colab": {
          "base_uri": "https://localhost:8080/"
        },
        "id": "NPC1M_l1qljX",
        "outputId": "425f206b-cc91-4278-a8b0-c67f271f8f2e"
      },
      "source": [
        "# cv\n",
        "cross_val_score(eclf,X,y,cv=5).mean()"
      ],
      "execution_count": null,
      "outputs": [
        {
          "output_type": "execute_result",
          "data": {
            "text/plain": [
              "0.9578636857630803"
            ]
          },
          "metadata": {
            "tags": []
          },
          "execution_count": 15
        }
      ]
    },
    {
      "cell_type": "code",
      "metadata": {
        "colab": {
          "base_uri": "https://localhost:8080/"
        },
        "id": "IlymQq2-YsOy",
        "outputId": "156165dd-2556-4917-e015-a00350445e8a"
      },
      "source": [
        "# Grid search\n",
        "params ={\n",
        "    \"n_estimators\" : [10, 20, 30, 50, 100, 200],\n",
        "    \"learning_rate\" : [i for i in np.linspace(0.1,1, 10)]}\n",
        "\n",
        "grid = GridSearchCV(estimator=eclf, param_grid=params, cv=5, n_jobs=5,verbose=3)\n",
        "grid = grid.fit(X, y)"
      ],
      "execution_count": null,
      "outputs": [
        {
          "output_type": "stream",
          "text": [
            "Fitting 5 folds for each of 60 candidates, totalling 300 fits\n"
          ],
          "name": "stdout"
        },
        {
          "output_type": "stream",
          "text": [
            "[Parallel(n_jobs=5)]: Using backend LokyBackend with 5 concurrent workers.\n",
            "[Parallel(n_jobs=5)]: Done  22 tasks      | elapsed:    5.7s\n",
            "[Parallel(n_jobs=5)]: Done 118 tasks      | elapsed:   21.7s\n",
            "[Parallel(n_jobs=5)]: Done 278 tasks      | elapsed:   37.5s\n",
            "[Parallel(n_jobs=5)]: Done 300 out of 300 | elapsed:   39.6s finished\n"
          ],
          "name": "stderr"
        }
      ]
    },
    {
      "cell_type": "code",
      "metadata": {
        "colab": {
          "base_uri": "https://localhost:8080/"
        },
        "id": "-brSYDi_YsSL",
        "outputId": "906833da-8c68-4d13-d353-0dfda45e99ba"
      },
      "source": [
        "# best score & params\n",
        "print(\"best score: \", grid.best_score_)\n",
        "print(\"best_params: \", grid.best_params_)"
      ],
      "execution_count": null,
      "outputs": [
        {
          "output_type": "stream",
          "text": [
            "best score:  0.9648812296227295\n",
            "best_params:  {'learning_rate': 0.1, 'n_estimators': 200}\n"
          ],
          "name": "stdout"
        }
      ]
    },
    {
      "cell_type": "markdown",
      "metadata": {
        "id": "VYoNIw0hUkuh"
      },
      "source": [
        "# 3. XGboost"
      ]
    },
    {
      "cell_type": "markdown",
      "metadata": {
        "id": "um9nVgE6k_ps"
      },
      "source": [
        "* 기본적인 xgboost 의 사용\r\n",
        "* GBM의 경우 n_estimators에 지정된 횟수만큼 학습을 끝까지 수행하지만, XGB의 경우 오류가 더 이상 개선되지 않으면 수행을 중지\r\n",
        "* n_estimators 를 200으로 설정하고, 조기 중단 파라미터 값을 50으로 설정하면, 1부터 200회까지 부스팅을 반복하다가 50회를 반복하는 동안 학습오류가 감소하지 않으면 더 이상 부스팅을 진행하지 않고 종료합니다.\r\n",
        "* (가령 100회에서 학습오류 값이 0.8인데 101~150회 반복하는 동안 예측 오류가 0.8보다 작은 값이 하나도 없으면 부스팅을 종료)"
      ]
    },
    {
      "cell_type": "code",
      "metadata": {
        "id": "pkbf3scWqlhC"
      },
      "source": [
        "from xgboost import XGBClassifier\n",
        "import xgboost as xgb"
      ],
      "execution_count": null,
      "outputs": []
    },
    {
      "cell_type": "code",
      "metadata": {
        "id": "meexNqprqleG"
      },
      "source": [
        "# model\n",
        "model = XGBClassifier(n_estimators=1000, max_depth=2, learning_rate=0.5, nthread=7)\n",
        "model.fit(X_train, y_train)\n",
        "y_pred = model.predict(X_test)"
      ],
      "execution_count": null,
      "outputs": []
    },
    {
      "cell_type": "code",
      "metadata": {
        "colab": {
          "base_uri": "https://localhost:8080/"
        },
        "id": "oqGEWMqkqlbO",
        "outputId": "34f9b9f5-7b24-4445-c7ee-42a9bb086818"
      },
      "source": [
        "accuracy_score(y_test, y_pred)"
      ],
      "execution_count": null,
      "outputs": [
        {
          "output_type": "execute_result",
          "data": {
            "text/plain": [
              "0.9298245614035088"
            ]
          },
          "metadata": {
            "tags": []
          },
          "execution_count": 20
        }
      ]
    },
    {
      "cell_type": "markdown",
      "metadata": {
        "id": "dz8TKfONlC0a"
      },
      "source": [
        "* gradient descent 눈으로 보기"
      ]
    },
    {
      "cell_type": "code",
      "metadata": {
        "id": "ag2WT6Vbevqv"
      },
      "source": [
        "dtrain = xgb.DMatrix(data=X_train, label = y_train)\n",
        "dtest = xgb.DMatrix(data=X_test, label=y_test)"
      ],
      "execution_count": null,
      "outputs": []
    },
    {
      "cell_type": "code",
      "metadata": {
        "id": "4fuVp7AMdBst"
      },
      "source": [
        "param = {'max_depth': 2, 'eta': 0.5, 'silent': 1, 'objective': 'binary:logistic'}\n",
        "param['nthread'] = 7\n",
        "param['eval_metric'] = 'auc'\n",
        "evallist = [(dtest, 'eval'), (dtrain, 'train')]\n",
        "plst = param.items()"
      ],
      "execution_count": null,
      "outputs": []
    },
    {
      "cell_type": "code",
      "metadata": {
        "colab": {
          "base_uri": "https://localhost:8080/"
        },
        "id": "AXOtY7bzdSIX",
        "outputId": "e392a103-8122-44bd-c67b-6b483eb6967e"
      },
      "source": [
        "num_round = 50\n",
        "bst = xgb.train(plst,dtrain,num_round,evallist)"
      ],
      "execution_count": null,
      "outputs": [
        {
          "output_type": "stream",
          "text": [
            "[0]\teval-auc:0.907874\ttrain-auc:0.9805\n",
            "[1]\teval-auc:0.925615\ttrain-auc:0.982296\n",
            "[2]\teval-auc:0.94071\ttrain-auc:0.990884\n",
            "[3]\teval-auc:0.959384\ttrain-auc:0.99456\n",
            "[4]\teval-auc:0.967943\ttrain-auc:0.997264\n",
            "[5]\teval-auc:0.971366\ttrain-auc:0.998331\n",
            "[6]\teval-auc:0.972611\ttrain-auc:0.998458\n",
            "[7]\teval-auc:0.982104\ttrain-auc:0.99907\n",
            "[8]\teval-auc:0.980237\ttrain-auc:0.999577\n",
            "[9]\teval-auc:0.979303\ttrain-auc:0.999641\n",
            "[10]\teval-auc:0.97868\ttrain-auc:0.999768\n",
            "[11]\teval-auc:0.980237\ttrain-auc:0.999831\n",
            "[12]\teval-auc:0.983193\ttrain-auc:0.999894\n",
            "[13]\teval-auc:0.982882\ttrain-auc:0.999958\n",
            "[14]\teval-auc:0.98226\ttrain-auc:0.999958\n",
            "[15]\teval-auc:0.983193\ttrain-auc:1\n",
            "[16]\teval-auc:0.984127\ttrain-auc:1\n",
            "[17]\teval-auc:0.982571\ttrain-auc:1\n",
            "[18]\teval-auc:0.982882\ttrain-auc:1\n",
            "[19]\teval-auc:0.984438\ttrain-auc:1\n",
            "[20]\teval-auc:0.985683\ttrain-auc:1\n",
            "[21]\teval-auc:0.986617\ttrain-auc:1\n",
            "[22]\teval-auc:0.986306\ttrain-auc:1\n",
            "[23]\teval-auc:0.986928\ttrain-auc:1\n",
            "[24]\teval-auc:0.986928\ttrain-auc:1\n",
            "[25]\teval-auc:0.986928\ttrain-auc:1\n",
            "[26]\teval-auc:0.986306\ttrain-auc:1\n",
            "[27]\teval-auc:0.986306\ttrain-auc:1\n",
            "[28]\teval-auc:0.986617\ttrain-auc:1\n",
            "[29]\teval-auc:0.986617\ttrain-auc:1\n",
            "[30]\teval-auc:0.986617\ttrain-auc:1\n",
            "[31]\teval-auc:0.986928\ttrain-auc:1\n",
            "[32]\teval-auc:0.986617\ttrain-auc:1\n",
            "[33]\teval-auc:0.986617\ttrain-auc:1\n",
            "[34]\teval-auc:0.986928\ttrain-auc:1\n",
            "[35]\teval-auc:0.986928\ttrain-auc:1\n",
            "[36]\teval-auc:0.986928\ttrain-auc:1\n",
            "[37]\teval-auc:0.986617\ttrain-auc:1\n",
            "[38]\teval-auc:0.986928\ttrain-auc:1\n",
            "[39]\teval-auc:0.986928\ttrain-auc:1\n",
            "[40]\teval-auc:0.986617\ttrain-auc:1\n",
            "[41]\teval-auc:0.986928\ttrain-auc:1\n",
            "[42]\teval-auc:0.986928\ttrain-auc:1\n",
            "[43]\teval-auc:0.986617\ttrain-auc:1\n",
            "[44]\teval-auc:0.986617\ttrain-auc:1\n",
            "[45]\teval-auc:0.986306\ttrain-auc:1\n",
            "[46]\teval-auc:0.986617\ttrain-auc:1\n",
            "[47]\teval-auc:0.986617\ttrain-auc:1\n",
            "[48]\teval-auc:0.986306\ttrain-auc:1\n",
            "[49]\teval-auc:0.985994\ttrain-auc:1\n"
          ],
          "name": "stdout"
        }
      ]
    },
    {
      "cell_type": "code",
      "metadata": {
        "id": "M7_WPlKIdSE9"
      },
      "source": [
        "ypred =  bst.predict(dtest,ntree_limit=bst.best_ntree_limit)"
      ],
      "execution_count": null,
      "outputs": []
    },
    {
      "cell_type": "markdown",
      "metadata": {
        "id": "zqIZig4DkpjK"
      },
      "source": [
        "# 4. Stacking"
      ]
    },
    {
      "cell_type": "code",
      "metadata": {
        "colab": {
          "base_uri": "https://localhost:8080/"
        },
        "id": "Tgk0QxpAkqrP",
        "outputId": "93037960-aad7-4659-8762-345aac9136ce"
      },
      "source": [
        "! pip install xgboost\n",
        "! pip install vecstack\n",
        "! pip install lightgbm"
      ],
      "execution_count": null,
      "outputs": [
        {
          "output_type": "stream",
          "text": [
            "Requirement already satisfied: xgboost in /usr/local/lib/python3.6/dist-packages (0.90)\n",
            "Requirement already satisfied: numpy in /usr/local/lib/python3.6/dist-packages (from xgboost) (1.19.5)\n",
            "Requirement already satisfied: scipy in /usr/local/lib/python3.6/dist-packages (from xgboost) (1.4.1)\n",
            "Collecting vecstack\n",
            "  Downloading https://files.pythonhosted.org/packages/d0/a1/b9a1e9e9e5a12078da1ab9788c7885e4c745358f7e57d5f94d9db6a4e898/vecstack-0.4.0.tar.gz\n",
            "Requirement already satisfied: numpy in /usr/local/lib/python3.6/dist-packages (from vecstack) (1.19.5)\n",
            "Requirement already satisfied: scipy in /usr/local/lib/python3.6/dist-packages (from vecstack) (1.4.1)\n",
            "Requirement already satisfied: scikit-learn>=0.18 in /usr/local/lib/python3.6/dist-packages (from vecstack) (0.22.2.post1)\n",
            "Requirement already satisfied: joblib>=0.11 in /usr/local/lib/python3.6/dist-packages (from scikit-learn>=0.18->vecstack) (1.0.0)\n",
            "Building wheels for collected packages: vecstack\n",
            "  Building wheel for vecstack (setup.py) ... \u001b[?25l\u001b[?25hdone\n",
            "  Created wheel for vecstack: filename=vecstack-0.4.0-cp36-none-any.whl size=19880 sha256=2fca6bc588f1b2c09802e167d61dbb61f377a5b3b5d7aa0f6ebccdf2fe33347a\n",
            "  Stored in directory: /root/.cache/pip/wheels/5f/bb/4e/f6488433d53bc0684673d6845e5bf11a25240577c8151c140e\n",
            "Successfully built vecstack\n",
            "Installing collected packages: vecstack\n",
            "Successfully installed vecstack-0.4.0\n",
            "Requirement already satisfied: lightgbm in /usr/local/lib/python3.6/dist-packages (2.2.3)\n",
            "Requirement already satisfied: scikit-learn in /usr/local/lib/python3.6/dist-packages (from lightgbm) (0.22.2.post1)\n",
            "Requirement already satisfied: numpy in /usr/local/lib/python3.6/dist-packages (from lightgbm) (1.19.5)\n",
            "Requirement already satisfied: scipy in /usr/local/lib/python3.6/dist-packages (from lightgbm) (1.4.1)\n",
            "Requirement already satisfied: joblib>=0.11 in /usr/local/lib/python3.6/dist-packages (from scikit-learn->lightgbm) (1.0.0)\n"
          ],
          "name": "stdout"
        }
      ]
    },
    {
      "cell_type": "code",
      "metadata": {
        "id": "veC6H7pD2bxz"
      },
      "source": [
        "from sklearn.svm import SVC\n",
        "from sklearn.linear_model import LogisticRegression\n",
        "from sklearn.ensemble import ExtraTreesClassifier \n",
        "from sklearn.ensemble import RandomForestClassifier \n",
        "from xgboost import XGBClassifier \n",
        "from vecstack import stacking\n",
        "from lightgbm import LGBMClassifier\n",
        "import numpy as np"
      ],
      "execution_count": null,
      "outputs": []
    },
    {
      "cell_type": "code",
      "metadata": {
        "id": "MDt1RME86uGD"
      },
      "source": [
        "#Stacking은 validation이 꼭 필요해서 validation 데이터를 다시 split합니다.\r\n",
        "X_train, X_val, y_train, y_val = train_test_split(X_train, y_train, test_size=0.25, random_state=1004)"
      ],
      "execution_count": null,
      "outputs": []
    },
    {
      "cell_type": "markdown",
      "metadata": {
        "id": "LkLy03oi2uvl"
      },
      "source": [
        "* 개별 모델 준비 (베이스모델 2가지 이상)"
      ]
    },
    {
      "cell_type": "code",
      "metadata": {
        "colab": {
          "base_uri": "https://localhost:8080/"
        },
        "id": "yGtO9tVu2o3h",
        "outputId": "3d7162ef-4e89-48e1-973a-ac66a93cfffc"
      },
      "source": [
        "# 개별 모델들\n",
        "svm = SVC(random_state = 0)\n",
        "rf = RandomForestClassifier(n_estimators =200, random_state=0)\n",
        "lr = LogisticRegression()\n",
        "\n",
        "# 최종 모델\n",
        "lgbm = LGBMClassifier()\n",
        "\n",
        "#개별 모델을 먼저 학습, 예측\n",
        "svm.fit(X_train,y_train)\n",
        "rf.fit(X_train,y_train)\n",
        "lr.fit(X_train,y_train)"
      ],
      "execution_count": null,
      "outputs": [
        {
          "output_type": "execute_result",
          "data": {
            "text/plain": [
              "LogisticRegression(C=1.0, class_weight=None, dual=False, fit_intercept=True,\n",
              "                   intercept_scaling=1, l1_ratio=None, max_iter=100,\n",
              "                   multi_class='auto', n_jobs=None, penalty='l2',\n",
              "                   random_state=None, solver='lbfgs', tol=0.0001, verbose=0,\n",
              "                   warm_start=False)"
            ]
          },
          "metadata": {
            "tags": []
          },
          "execution_count": 10
        }
      ]
    },
    {
      "cell_type": "code",
      "metadata": {
        "colab": {
          "base_uri": "https://localhost:8080/"
        },
        "id": "RE3timOY274R",
        "outputId": "19952509-8701-4ec0-c926-146e86ead105"
      },
      "source": [
        "svm_pred = svm.predict(X_val)\n",
        "rf_pred = rf.predict(X_val)\n",
        "lr_pred = lr.predict(X_val)\n",
        "\n",
        "print(\"svm : {0:.4f}, rf : {1:.4f}, lr : {2:.4f}\".format(accuracy_score(y_val, svm_pred),accuracy_score(y_val, rf_pred),accuracy_score(y_val, lr_pred)))"
      ],
      "execution_count": null,
      "outputs": [
        {
          "output_type": "stream",
          "text": [
            "svm : 0.8947, rf : 0.9649, lr : 0.9386\n"
          ],
          "name": "stdout"
        }
      ]
    },
    {
      "cell_type": "markdown",
      "metadata": {
        "id": "WDZKuldC3BxQ"
      },
      "source": [
        "* stacking 개별 모델 합쳐주기"
      ]
    },
    {
      "cell_type": "code",
      "metadata": {
        "colab": {
          "base_uri": "https://localhost:8080/"
        },
        "id": "vv3JUO1u3FiT",
        "outputId": "ae3c6365-5576-4c61-c145-6a3c4dc43844"
      },
      "source": [
        "new_data = np.array([svm_pred,rf_pred,lr_pred])\n",
        "new_data.shape"
      ],
      "execution_count": null,
      "outputs": [
        {
          "output_type": "execute_result",
          "data": {
            "text/plain": [
              "(3, 114)"
            ]
          },
          "metadata": {
            "tags": []
          },
          "execution_count": 19
        }
      ]
    },
    {
      "cell_type": "code",
      "metadata": {
        "colab": {
          "base_uri": "https://localhost:8080/"
        },
        "id": "t6AnviFP0Vmk",
        "outputId": "a4412650-cbb8-402d-f19e-d93bc704d374"
      },
      "source": [
        "new_data"
      ],
      "execution_count": null,
      "outputs": [
        {
          "output_type": "execute_result",
          "data": {
            "text/plain": [
              "array([[0, 1, 1, 1, 0, 1, 1, 1, 1, 1, 1, 1, 1, 0, 1, 1, 1, 1, 1, 0, 1, 1,\n",
              "        1, 1, 0, 1, 1, 0, 0, 1, 0, 1, 0, 1, 1, 1, 1, 0, 1, 0, 1, 0, 0, 1,\n",
              "        1, 0, 1, 0, 1, 1, 1, 1, 1, 1, 1, 1, 1, 1, 1, 0, 1, 0, 1, 1, 1, 1,\n",
              "        1, 1, 1, 1, 1, 1, 1, 1, 0, 1, 1, 0, 0, 1, 0, 1, 1, 1, 0, 0, 1, 1,\n",
              "        1, 1, 1, 1, 1, 0, 1, 1, 0, 1, 1, 1, 1, 0, 1, 1, 1, 0, 1, 1, 1, 0,\n",
              "        1, 1, 0, 1],\n",
              "       [0, 1, 0, 1, 0, 1, 1, 1, 1, 1, 1, 1, 1, 0, 1, 1, 1, 1, 1, 0, 1, 1,\n",
              "        1, 1, 0, 1, 1, 0, 0, 1, 0, 1, 0, 1, 1, 1, 0, 0, 1, 0, 1, 0, 0, 1,\n",
              "        1, 0, 1, 0, 1, 1, 1, 0, 0, 1, 1, 1, 1, 1, 1, 0, 1, 0, 1, 1, 1, 0,\n",
              "        1, 1, 1, 1, 1, 1, 1, 0, 0, 1, 1, 0, 0, 1, 0, 1, 1, 1, 0, 0, 1, 1,\n",
              "        1, 1, 0, 1, 1, 0, 1, 1, 0, 1, 0, 1, 1, 0, 1, 0, 1, 0, 1, 1, 1, 0,\n",
              "        1, 1, 0, 0],\n",
              "       [0, 1, 0, 1, 0, 1, 1, 1, 1, 1, 1, 1, 1, 0, 1, 1, 1, 1, 1, 0, 1, 1,\n",
              "        1, 1, 0, 1, 0, 0, 0, 1, 0, 1, 0, 1, 1, 1, 0, 0, 1, 0, 1, 0, 0, 1,\n",
              "        1, 0, 1, 0, 1, 1, 1, 0, 1, 1, 1, 1, 1, 1, 1, 0, 1, 0, 1, 1, 1, 0,\n",
              "        1, 1, 1, 1, 1, 1, 1, 0, 0, 1, 1, 0, 0, 1, 0, 1, 1, 1, 0, 0, 1, 1,\n",
              "        1, 1, 0, 1, 0, 0, 1, 1, 0, 1, 1, 1, 0, 0, 1, 1, 1, 0, 1, 1, 1, 0,\n",
              "        1, 1, 0, 1]])"
            ]
          },
          "metadata": {
            "tags": []
          },
          "execution_count": 20
        }
      ]
    },
    {
      "cell_type": "markdown",
      "metadata": {
        "id": "OUdePYZo3QEt"
      },
      "source": [
        "* shape 변경  \n",
        "합친 pred 값이 다시 훈련 데이터로 들어가기 때문에 shape 을 바꿔줍니다.  \n",
        "row 는 X_test 와 일치해야하고, 114개의 데이터가 다시 훈련 데이터가 됩니다.\n",
        "따라서 합친 데이터를 transpose해야 합니다."
      ]
    },
    {
      "cell_type": "code",
      "metadata": {
        "colab": {
          "base_uri": "https://localhost:8080/"
        },
        "id": "Dtj8TZ4w3H8M",
        "outputId": "c105e746-0e27-4d6c-b1e0-01c8d7d4d00d"
      },
      "source": [
        "new_data = np.transpose(new_data)\n",
        "new_data.shape"
      ],
      "execution_count": null,
      "outputs": [
        {
          "output_type": "execute_result",
          "data": {
            "text/plain": [
              "(114, 3)"
            ]
          },
          "metadata": {
            "tags": []
          },
          "execution_count": 21
        }
      ]
    },
    {
      "cell_type": "code",
      "metadata": {
        "colab": {
          "base_uri": "https://localhost:8080/"
        },
        "id": "hA_HDdh03jSt",
        "outputId": "6849708d-f353-402e-9f66-9dc0516fa87a"
      },
      "source": [
        "new_data[:10]        # 확인"
      ],
      "execution_count": null,
      "outputs": [
        {
          "output_type": "execute_result",
          "data": {
            "text/plain": [
              "array([[0, 0, 0],\n",
              "       [1, 1, 1],\n",
              "       [1, 0, 0],\n",
              "       [1, 1, 1],\n",
              "       [0, 0, 0],\n",
              "       [1, 1, 1],\n",
              "       [1, 1, 1],\n",
              "       [1, 1, 1],\n",
              "       [1, 1, 1],\n",
              "       [1, 1, 1]])"
            ]
          },
          "metadata": {
            "tags": []
          },
          "execution_count": 22
        }
      ]
    },
    {
      "cell_type": "markdown",
      "metadata": {
        "id": "Hm3TA_fs3yhN"
      },
      "source": [
        "* 최종 모델 훈련, 예측"
      ]
    },
    {
      "cell_type": "code",
      "metadata": {
        "colab": {
          "base_uri": "https://localhost:8080/"
        },
        "id": "XRyyscT33pF-",
        "outputId": "3e0a0153-649c-4a0a-8128-1934fb6d9a25"
      },
      "source": [
        "lgbm.fit(new_data,y_val)"
      ],
      "execution_count": null,
      "outputs": [
        {
          "output_type": "execute_result",
          "data": {
            "text/plain": [
              "LGBMClassifier(boosting_type='gbdt', class_weight=None, colsample_bytree=1.0,\n",
              "               importance_type='split', learning_rate=0.1, max_depth=-1,\n",
              "               min_child_samples=20, min_child_weight=0.001, min_split_gain=0.0,\n",
              "               n_estimators=100, n_jobs=-1, num_leaves=31, objective=None,\n",
              "               random_state=None, reg_alpha=0.0, reg_lambda=0.0, silent=True,\n",
              "               subsample=1.0, subsample_for_bin=200000, subsample_freq=0)"
            ]
          },
          "metadata": {
            "tags": []
          },
          "execution_count": 25
        }
      ]
    },
    {
      "cell_type": "code",
      "metadata": {
        "colab": {
          "base_uri": "https://localhost:8080/"
        },
        "id": "QqDswUvD8IIn",
        "outputId": "836dc508-fc50-41cf-bcb9-c35f066d9caa"
      },
      "source": [
        "#test용 new_test 생성?? (3개 stacking)\r\n",
        "svm_pred_2 = svm.predict(X_test)\r\n",
        "rf_pred_2 = rf.predict(X_test)\r\n",
        "lr_pred_2 = lr.predict(X_test)\r\n",
        "new_test = np.array([svm_pred_2,rf_pred_2,lr_pred_2])\r\n",
        "new_test.shape"
      ],
      "execution_count": null,
      "outputs": [
        {
          "output_type": "execute_result",
          "data": {
            "text/plain": [
              "(3, 114)"
            ]
          },
          "metadata": {
            "tags": []
          },
          "execution_count": 26
        }
      ]
    },
    {
      "cell_type": "code",
      "metadata": {
        "colab": {
          "base_uri": "https://localhost:8080/"
        },
        "id": "roGUm3h-9DxG",
        "outputId": "45c4687e-a627-4321-e5a6-89fe14126083"
      },
      "source": [
        "new_test = np.transpose(new_test)\r\n",
        "new_test.shape"
      ],
      "execution_count": null,
      "outputs": [
        {
          "output_type": "execute_result",
          "data": {
            "text/plain": [
              "(114, 3)"
            ]
          },
          "metadata": {
            "tags": []
          },
          "execution_count": 27
        }
      ]
    },
    {
      "cell_type": "code",
      "metadata": {
        "colab": {
          "base_uri": "https://localhost:8080/"
        },
        "id": "BA_2PIhM79IO",
        "outputId": "62d31dc4-7480-4ea3-c3f8-3c4e9c85651c"
      },
      "source": [
        "lgbm_pred = lgbm.predict(new_test)\r\n",
        "# 예측값으로 실제값을 예측한다.\r\n",
        "print('정확도 : {0:.4f}'.format(accuracy_score(y_test, lgbm_pred)))"
      ],
      "execution_count": null,
      "outputs": [
        {
          "output_type": "stream",
          "text": [
            "정확도 : 0.9298\n"
          ],
          "name": "stdout"
        }
      ]
    },
    {
      "cell_type": "markdown",
      "metadata": {
        "id": "e7KiXvju32Dn"
      },
      "source": [
        "이 stacking은 단순히 합쳐서 예측하는 basic stacking 입니다."
      ]
    },
    {
      "cell_type": "markdown",
      "metadata": {
        "id": "EOnV_UzX-4dc"
      },
      "source": [
        "## CV 기반 Stacking"
      ]
    },
    {
      "cell_type": "code",
      "metadata": {
        "id": "F6StpPoRE5bZ"
      },
      "source": [
        "data = load_breast_cancer()\r\n",
        "\r\n",
        "X_data = data.data\r\n",
        "y_data = data.target\r\n",
        "\r\n",
        "X_train, X_test, y_train, y_test = train_test_split(X_data, y_data, test_size = 0.2, random_state = 0)"
      ],
      "execution_count": null,
      "outputs": []
    },
    {
      "cell_type": "code",
      "metadata": {
        "id": "Jqbct_Oi3pfr"
      },
      "source": [
        "svm = SVC(random_state = 0)\r\n",
        "rf = RandomForestClassifier(n_estimators =200, random_state=0)\r\n",
        "lr = LogisticRegression()"
      ],
      "execution_count": null,
      "outputs": []
    },
    {
      "cell_type": "code",
      "metadata": {
        "id": "DGJ3WB1fFDT0"
      },
      "source": [
        "from sklearn.model_selection import KFold, StratifiedKFold\r\n",
        "\r\n",
        "def get_stacking_data(model, X_train, y_train, X_test, n_folds=5):\r\n",
        "    kfold = KFold(n_splits = n_folds, random_state = 0)\r\n",
        "    \r\n",
        "    # 최종 모델에서 사용할 데이터 셋 셋팅(0 값으로)\r\n",
        "    # 데이터 shape이 (100, col) 이면 폴드의 검증 과정에서 저장할 데이터의 shape는 (100, 1) 입니다. \r\n",
        "    # (결국 validation 데이터로 예측한 predicted val_y 값의 column은 1개니까 !!)\r\n",
        "    train_fold_predict = np.zeros((X_train.shape[0], 1))\r\n",
        "    # test는 X_test 값을 이용해서 매 폴드마다 예측을 하기 때문에 (100, fold개수) 만큼의 shape를 갖게 됩니다.(추후 평균내서 (100,1) 사이즈로 만들것)\r\n",
        "    # 그래서 해당 폴드마다 X_test의 예측 값을 해당 fold에 해당되는 열에 넣습니다.\r\n",
        "    test_predict = np.zeros((X_test.shape[0], n_folds))\r\n",
        "    print(\"model : \", model.__class__.__name__)\r\n",
        "    \r\n",
        "    for cnt, (train_index, valid_index) in enumerate(kfold.split(X_train)):\r\n",
        "        #fold별로 데이터 split하는 부분\r\n",
        "        X_train_ = X_train[train_index]\r\n",
        "        y_train_ = y_train[train_index]\r\n",
        "        X_validation = X_train[valid_index]\r\n",
        "        \r\n",
        "        #해당 fold 학습\r\n",
        "        model.fit(X_train_, y_train_)\r\n",
        "        \r\n",
        "        #해당 fold에서 학습된 모델에다가 검증 데이터(X_validation)로 예측 후 저장\r\n",
        "        #validation에 해당하는 인덱스가 전체의 1/fold수 이므로 해당 fold의 validation 데이터에 해당하는 부분\r\n",
        "        train_fold_predict[valid_index, :] = model.predict(X_validation).reshape(-1, 1) \r\n",
        "        \r\n",
        "        #해당 fold에서 생성된 모델에게 원본 테스트 데이터(X_test)를 이용해서 예측을 수행하고 저장(추후 모델별로 합쳐서 new_test 데이터 생성)\r\n",
        "        test_predict[:, cnt] = model.predict(X_test)\r\n",
        "    \r\n",
        "    #for문이 끝나면 test_pred는 평균을 내서 하나로 합친다.\r\n",
        "    test_predict_mean = np.mean(test_predict, axis =1).reshape(-1, 1)\r\n",
        "    \r\n",
        "    return train_fold_predict, test_predict_mean"
      ],
      "execution_count": null,
      "outputs": []
    },
    {
      "cell_type": "code",
      "metadata": {
        "colab": {
          "base_uri": "https://localhost:8080/"
        },
        "id": "Yp-T521VFFxm",
        "outputId": "9a3425f7-54fc-4f86-c026-ec9297b41a50"
      },
      "source": [
        "svm_train, svm_test = get_stacking_data(svm, X_train, y_train, X_test)\r\n",
        "rf_train, rf_test = get_stacking_data(rf, X_train, y_train, X_test)\r\n",
        "lr_train, lr_test = get_stacking_data(lr, X_train, y_train, X_test)"
      ],
      "execution_count": null,
      "outputs": [
        {
          "output_type": "stream",
          "text": [
            "model :  SVC\n",
            "model :  RandomForestClassifier\n",
            "model :  LogisticRegression\n"
          ],
          "name": "stdout"
        }
      ]
    },
    {
      "cell_type": "code",
      "metadata": {
        "colab": {
          "base_uri": "https://localhost:8080/"
        },
        "id": "fYyuKQRu3uLs",
        "outputId": "b6842cbb-3a2a-48df-93c3-8ab3316363a7"
      },
      "source": [
        "svm_train.shape    #한 모델 당 column 1개씩"
      ],
      "execution_count": null,
      "outputs": [
        {
          "output_type": "execute_result",
          "data": {
            "text/plain": [
              "(455, 1)"
            ]
          },
          "metadata": {
            "tags": []
          },
          "execution_count": 15
        }
      ]
    },
    {
      "cell_type": "code",
      "metadata": {
        "id": "neV9ljEuFIRG"
      },
      "source": [
        "new_X_train = np.concatenate((svm_train, rf_train, lr_train), axis = 1)\r\n",
        "new_X_test = np.concatenate((svm_test, rf_test,lr_test), axis = 1)"
      ],
      "execution_count": null,
      "outputs": []
    },
    {
      "cell_type": "code",
      "metadata": {
        "colab": {
          "base_uri": "https://localhost:8080/"
        },
        "id": "sELLnFQ_FKKP",
        "outputId": "13b63e5e-b733-4e97-c5d6-18efb6d23512"
      },
      "source": [
        "print(\"원본 : \", X_train.shape, X_test.shape)\r\n",
        "print(\"새로운 : \", new_X_train.shape, new_X_test.shape)"
      ],
      "execution_count": null,
      "outputs": [
        {
          "output_type": "stream",
          "text": [
            "원본 :  (455, 30) (114, 30)\n",
            "새로운 :  (455, 3) (114, 3)\n"
          ],
          "name": "stdout"
        }
      ]
    },
    {
      "cell_type": "code",
      "metadata": {
        "colab": {
          "base_uri": "https://localhost:8080/"
        },
        "id": "AMfXmRA1FMBu",
        "outputId": "f63dda65-7ec3-4d3d-c49d-302761c89fb4"
      },
      "source": [
        "\r\n",
        "lgbm.fit(new_X_train, y_train)\r\n",
        "stack_pred = lgbm.predict(new_X_test)\r\n",
        "\r\n",
        "print(\"정확도 : {0:.4f}\".format(accuracy_score(stack_pred, y_test)))"
      ],
      "execution_count": null,
      "outputs": [
        {
          "output_type": "stream",
          "text": [
            "정확도 : 0.9649\n"
          ],
          "name": "stdout"
        }
      ]
    }
  ]
}