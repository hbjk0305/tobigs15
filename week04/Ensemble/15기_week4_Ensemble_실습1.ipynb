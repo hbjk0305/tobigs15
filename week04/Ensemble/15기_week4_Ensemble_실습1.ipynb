{
  "nbformat": 4,
  "nbformat_minor": 0,
  "metadata": {
    "accelerator": "TPU",
    "colab": {
      "name": "15기_week4_Ensemble_실습1.ipynb",
      "provenance": [],
      "collapsed_sections": []
    },
    "kernelspec": {
      "display_name": "Python 3",
      "language": "python",
      "name": "python3"
    },
    "language_info": {
      "codemirror_mode": {
        "name": "ipython",
        "version": 3
      },
      "file_extension": ".py",
      "mimetype": "text/x-python",
      "name": "python",
      "nbconvert_exporter": "python",
      "pygments_lexer": "ipython3",
      "version": "3.7.1"
    }
  },
  "cells": [
    {
      "cell_type": "markdown",
      "metadata": {
        "id": "dCgpw2sATzdT"
      },
      "source": [
        "# Ensemble1\n",
        "앙상블 기법 voting, bagging, random forest에 대한 실습을 진행합니다.  \n",
        "폐암 진단 데이터를 이용한 분류기 만들기 앙상블입니다.  "
      ]
    },
    {
      "cell_type": "code",
      "metadata": {
        "id": "3gtnJHNUctH7"
      },
      "source": [
        "# ready\n",
        "import pandas as pd\n",
        "import numpy as np\n",
        "import warnings\n",
        "warnings.filterwarnings('ignore')\n",
        "pd.options.display.max_rows = 999\n",
        "pd.options.display.max_columns = 999\n",
        "# sklearn \n",
        "\n",
        "from sklearn.linear_model import LogisticRegression\n",
        "from sklearn.tree import DecisionTreeClassifier\n",
        "from sklearn.naive_bayes import GaussianNB     \n",
        "from sklearn.neighbors import KNeighborsClassifier\n",
        "from sklearn.svm import SVC\n",
        "\n",
        "from sklearn.datasets import load_breast_cancer\n",
        "from sklearn.model_selection import train_test_split\n",
        "from sklearn.metrics import accuracy_score"
      ],
      "execution_count": 1,
      "outputs": []
    },
    {
      "cell_type": "markdown",
      "metadata": {
        "id": "ZFU5BGm4dUXF"
      },
      "source": [
        "## 1. Voting : hard & soft\n",
        "sklearn 내장 데이터인 breast cancer dataset을 사용했습니다.  \n",
        "2주차와 3주차에 배웠던 머신러닝 분류모델들을 모두 사용해보겠습니다."
      ]
    },
    {
      "cell_type": "code",
      "metadata": {
        "colab": {
          "base_uri": "https://localhost:8080/",
          "height": 248
        },
        "id": "Phr2mCZXdTy1",
        "outputId": "ca2638de-da3e-46c2-9174-a399302e40b6"
      },
      "source": [
        "# load dataset\n",
        "cancer = load_breast_cancer()\n",
        "data = pd.DataFrame(cancer.data, columns=cancer.feature_names)\n",
        "data.head()"
      ],
      "execution_count": 2,
      "outputs": [
        {
          "output_type": "execute_result",
          "data": {
            "text/html": [
              "<div>\n",
              "<style scoped>\n",
              "    .dataframe tbody tr th:only-of-type {\n",
              "        vertical-align: middle;\n",
              "    }\n",
              "\n",
              "    .dataframe tbody tr th {\n",
              "        vertical-align: top;\n",
              "    }\n",
              "\n",
              "    .dataframe thead th {\n",
              "        text-align: right;\n",
              "    }\n",
              "</style>\n",
              "<table border=\"1\" class=\"dataframe\">\n",
              "  <thead>\n",
              "    <tr style=\"text-align: right;\">\n",
              "      <th></th>\n",
              "      <th>mean radius</th>\n",
              "      <th>mean texture</th>\n",
              "      <th>mean perimeter</th>\n",
              "      <th>mean area</th>\n",
              "      <th>mean smoothness</th>\n",
              "      <th>mean compactness</th>\n",
              "      <th>mean concavity</th>\n",
              "      <th>mean concave points</th>\n",
              "      <th>mean symmetry</th>\n",
              "      <th>mean fractal dimension</th>\n",
              "      <th>radius error</th>\n",
              "      <th>texture error</th>\n",
              "      <th>perimeter error</th>\n",
              "      <th>area error</th>\n",
              "      <th>smoothness error</th>\n",
              "      <th>compactness error</th>\n",
              "      <th>concavity error</th>\n",
              "      <th>concave points error</th>\n",
              "      <th>symmetry error</th>\n",
              "      <th>fractal dimension error</th>\n",
              "      <th>worst radius</th>\n",
              "      <th>worst texture</th>\n",
              "      <th>worst perimeter</th>\n",
              "      <th>worst area</th>\n",
              "      <th>worst smoothness</th>\n",
              "      <th>worst compactness</th>\n",
              "      <th>worst concavity</th>\n",
              "      <th>worst concave points</th>\n",
              "      <th>worst symmetry</th>\n",
              "      <th>worst fractal dimension</th>\n",
              "    </tr>\n",
              "  </thead>\n",
              "  <tbody>\n",
              "    <tr>\n",
              "      <th>0</th>\n",
              "      <td>17.99</td>\n",
              "      <td>10.38</td>\n",
              "      <td>122.80</td>\n",
              "      <td>1001.0</td>\n",
              "      <td>0.11840</td>\n",
              "      <td>0.27760</td>\n",
              "      <td>0.3001</td>\n",
              "      <td>0.14710</td>\n",
              "      <td>0.2419</td>\n",
              "      <td>0.07871</td>\n",
              "      <td>1.0950</td>\n",
              "      <td>0.9053</td>\n",
              "      <td>8.589</td>\n",
              "      <td>153.40</td>\n",
              "      <td>0.006399</td>\n",
              "      <td>0.04904</td>\n",
              "      <td>0.05373</td>\n",
              "      <td>0.01587</td>\n",
              "      <td>0.03003</td>\n",
              "      <td>0.006193</td>\n",
              "      <td>25.38</td>\n",
              "      <td>17.33</td>\n",
              "      <td>184.60</td>\n",
              "      <td>2019.0</td>\n",
              "      <td>0.1622</td>\n",
              "      <td>0.6656</td>\n",
              "      <td>0.7119</td>\n",
              "      <td>0.2654</td>\n",
              "      <td>0.4601</td>\n",
              "      <td>0.11890</td>\n",
              "    </tr>\n",
              "    <tr>\n",
              "      <th>1</th>\n",
              "      <td>20.57</td>\n",
              "      <td>17.77</td>\n",
              "      <td>132.90</td>\n",
              "      <td>1326.0</td>\n",
              "      <td>0.08474</td>\n",
              "      <td>0.07864</td>\n",
              "      <td>0.0869</td>\n",
              "      <td>0.07017</td>\n",
              "      <td>0.1812</td>\n",
              "      <td>0.05667</td>\n",
              "      <td>0.5435</td>\n",
              "      <td>0.7339</td>\n",
              "      <td>3.398</td>\n",
              "      <td>74.08</td>\n",
              "      <td>0.005225</td>\n",
              "      <td>0.01308</td>\n",
              "      <td>0.01860</td>\n",
              "      <td>0.01340</td>\n",
              "      <td>0.01389</td>\n",
              "      <td>0.003532</td>\n",
              "      <td>24.99</td>\n",
              "      <td>23.41</td>\n",
              "      <td>158.80</td>\n",
              "      <td>1956.0</td>\n",
              "      <td>0.1238</td>\n",
              "      <td>0.1866</td>\n",
              "      <td>0.2416</td>\n",
              "      <td>0.1860</td>\n",
              "      <td>0.2750</td>\n",
              "      <td>0.08902</td>\n",
              "    </tr>\n",
              "    <tr>\n",
              "      <th>2</th>\n",
              "      <td>19.69</td>\n",
              "      <td>21.25</td>\n",
              "      <td>130.00</td>\n",
              "      <td>1203.0</td>\n",
              "      <td>0.10960</td>\n",
              "      <td>0.15990</td>\n",
              "      <td>0.1974</td>\n",
              "      <td>0.12790</td>\n",
              "      <td>0.2069</td>\n",
              "      <td>0.05999</td>\n",
              "      <td>0.7456</td>\n",
              "      <td>0.7869</td>\n",
              "      <td>4.585</td>\n",
              "      <td>94.03</td>\n",
              "      <td>0.006150</td>\n",
              "      <td>0.04006</td>\n",
              "      <td>0.03832</td>\n",
              "      <td>0.02058</td>\n",
              "      <td>0.02250</td>\n",
              "      <td>0.004571</td>\n",
              "      <td>23.57</td>\n",
              "      <td>25.53</td>\n",
              "      <td>152.50</td>\n",
              "      <td>1709.0</td>\n",
              "      <td>0.1444</td>\n",
              "      <td>0.4245</td>\n",
              "      <td>0.4504</td>\n",
              "      <td>0.2430</td>\n",
              "      <td>0.3613</td>\n",
              "      <td>0.08758</td>\n",
              "    </tr>\n",
              "    <tr>\n",
              "      <th>3</th>\n",
              "      <td>11.42</td>\n",
              "      <td>20.38</td>\n",
              "      <td>77.58</td>\n",
              "      <td>386.1</td>\n",
              "      <td>0.14250</td>\n",
              "      <td>0.28390</td>\n",
              "      <td>0.2414</td>\n",
              "      <td>0.10520</td>\n",
              "      <td>0.2597</td>\n",
              "      <td>0.09744</td>\n",
              "      <td>0.4956</td>\n",
              "      <td>1.1560</td>\n",
              "      <td>3.445</td>\n",
              "      <td>27.23</td>\n",
              "      <td>0.009110</td>\n",
              "      <td>0.07458</td>\n",
              "      <td>0.05661</td>\n",
              "      <td>0.01867</td>\n",
              "      <td>0.05963</td>\n",
              "      <td>0.009208</td>\n",
              "      <td>14.91</td>\n",
              "      <td>26.50</td>\n",
              "      <td>98.87</td>\n",
              "      <td>567.7</td>\n",
              "      <td>0.2098</td>\n",
              "      <td>0.8663</td>\n",
              "      <td>0.6869</td>\n",
              "      <td>0.2575</td>\n",
              "      <td>0.6638</td>\n",
              "      <td>0.17300</td>\n",
              "    </tr>\n",
              "    <tr>\n",
              "      <th>4</th>\n",
              "      <td>20.29</td>\n",
              "      <td>14.34</td>\n",
              "      <td>135.10</td>\n",
              "      <td>1297.0</td>\n",
              "      <td>0.10030</td>\n",
              "      <td>0.13280</td>\n",
              "      <td>0.1980</td>\n",
              "      <td>0.10430</td>\n",
              "      <td>0.1809</td>\n",
              "      <td>0.05883</td>\n",
              "      <td>0.7572</td>\n",
              "      <td>0.7813</td>\n",
              "      <td>5.438</td>\n",
              "      <td>94.44</td>\n",
              "      <td>0.011490</td>\n",
              "      <td>0.02461</td>\n",
              "      <td>0.05688</td>\n",
              "      <td>0.01885</td>\n",
              "      <td>0.01756</td>\n",
              "      <td>0.005115</td>\n",
              "      <td>22.54</td>\n",
              "      <td>16.67</td>\n",
              "      <td>152.20</td>\n",
              "      <td>1575.0</td>\n",
              "      <td>0.1374</td>\n",
              "      <td>0.2050</td>\n",
              "      <td>0.4000</td>\n",
              "      <td>0.1625</td>\n",
              "      <td>0.2364</td>\n",
              "      <td>0.07678</td>\n",
              "    </tr>\n",
              "  </tbody>\n",
              "</table>\n",
              "</div>"
            ],
            "text/plain": [
              "   mean radius  mean texture  mean perimeter  mean area  mean smoothness  \\\n",
              "0        17.99         10.38          122.80     1001.0          0.11840   \n",
              "1        20.57         17.77          132.90     1326.0          0.08474   \n",
              "2        19.69         21.25          130.00     1203.0          0.10960   \n",
              "3        11.42         20.38           77.58      386.1          0.14250   \n",
              "4        20.29         14.34          135.10     1297.0          0.10030   \n",
              "\n",
              "   mean compactness  mean concavity  mean concave points  mean symmetry  \\\n",
              "0           0.27760          0.3001              0.14710         0.2419   \n",
              "1           0.07864          0.0869              0.07017         0.1812   \n",
              "2           0.15990          0.1974              0.12790         0.2069   \n",
              "3           0.28390          0.2414              0.10520         0.2597   \n",
              "4           0.13280          0.1980              0.10430         0.1809   \n",
              "\n",
              "   mean fractal dimension  radius error  texture error  perimeter error  \\\n",
              "0                 0.07871        1.0950         0.9053            8.589   \n",
              "1                 0.05667        0.5435         0.7339            3.398   \n",
              "2                 0.05999        0.7456         0.7869            4.585   \n",
              "3                 0.09744        0.4956         1.1560            3.445   \n",
              "4                 0.05883        0.7572         0.7813            5.438   \n",
              "\n",
              "   area error  smoothness error  compactness error  concavity error  \\\n",
              "0      153.40          0.006399            0.04904          0.05373   \n",
              "1       74.08          0.005225            0.01308          0.01860   \n",
              "2       94.03          0.006150            0.04006          0.03832   \n",
              "3       27.23          0.009110            0.07458          0.05661   \n",
              "4       94.44          0.011490            0.02461          0.05688   \n",
              "\n",
              "   concave points error  symmetry error  fractal dimension error  \\\n",
              "0               0.01587         0.03003                 0.006193   \n",
              "1               0.01340         0.01389                 0.003532   \n",
              "2               0.02058         0.02250                 0.004571   \n",
              "3               0.01867         0.05963                 0.009208   \n",
              "4               0.01885         0.01756                 0.005115   \n",
              "\n",
              "   worst radius  worst texture  worst perimeter  worst area  worst smoothness  \\\n",
              "0         25.38          17.33           184.60      2019.0            0.1622   \n",
              "1         24.99          23.41           158.80      1956.0            0.1238   \n",
              "2         23.57          25.53           152.50      1709.0            0.1444   \n",
              "3         14.91          26.50            98.87       567.7            0.2098   \n",
              "4         22.54          16.67           152.20      1575.0            0.1374   \n",
              "\n",
              "   worst compactness  worst concavity  worst concave points  worst symmetry  \\\n",
              "0             0.6656           0.7119                0.2654          0.4601   \n",
              "1             0.1866           0.2416                0.1860          0.2750   \n",
              "2             0.4245           0.4504                0.2430          0.3613   \n",
              "3             0.8663           0.6869                0.2575          0.6638   \n",
              "4             0.2050           0.4000                0.1625          0.2364   \n",
              "\n",
              "   worst fractal dimension  \n",
              "0                  0.11890  \n",
              "1                  0.08902  \n",
              "2                  0.08758  \n",
              "3                  0.17300  \n",
              "4                  0.07678  "
            ]
          },
          "metadata": {
            "tags": []
          },
          "execution_count": 2
        }
      ]
    },
    {
      "cell_type": "code",
      "metadata": {
        "id": "BVhBmBpXhZUg"
      },
      "source": [
        "X,y = cancer.data, cancer.target  \n",
        "X_train, X_test, y_train, y_test = train_test_split(cancer.data, cancer.target, test_size=0.2, random_state=1004)"
      ],
      "execution_count": 3,
      "outputs": []
    },
    {
      "cell_type": "code",
      "metadata": {
        "colab": {
          "base_uri": "https://localhost:8080/"
        },
        "id": "vJHK717ZRVm6",
        "outputId": "2034ed81-6ddc-4723-e04f-9426a3460f1e"
      },
      "source": [
        "y_train[:20]  #cancer 여부"
      ],
      "execution_count": 4,
      "outputs": [
        {
          "output_type": "execute_result",
          "data": {
            "text/plain": [
              "array([0, 0, 1, 1, 0, 0, 0, 1, 1, 0, 0, 0, 0, 1, 0, 1, 1, 1, 1, 0])"
            ]
          },
          "metadata": {
            "tags": []
          },
          "execution_count": 4
        }
      ]
    },
    {
      "cell_type": "markdown",
      "metadata": {
        "id": "IEPZ7ryPcR3q"
      },
      "source": [
        "* 개별 모델의 성능"
      ]
    },
    {
      "cell_type": "code",
      "metadata": {
        "colab": {
          "base_uri": "https://localhost:8080/"
        },
        "id": "y0iJzZcTn51Y",
        "outputId": "dbd7a7f6-7ff4-48a0-875c-0952f8872dfe"
      },
      "source": [
        "#Logistic Regression\n",
        "lr = LogisticRegression()\n",
        "lr.fit(X_train,y_train)\n",
        "pred = lr.predict(X_test)\n",
        "print('test acurracy : {0:4f}'.format(accuracy_score(y_test, pred)))"
      ],
      "execution_count": 5,
      "outputs": [
        {
          "output_type": "stream",
          "text": [
            "test acurracy : 0.912281\n"
          ],
          "name": "stdout"
        }
      ]
    },
    {
      "cell_type": "code",
      "metadata": {
        "colab": {
          "base_uri": "https://localhost:8080/"
        },
        "id": "e8A-uKbYsJnY",
        "outputId": "4697be06-14c5-43ad-a63e-f42c4470ba62"
      },
      "source": [
        "#Decision Tree\n",
        "dt = DecisionTreeClassifier(random_state=318)\n",
        "dt.fit(X_train,y_train)\n",
        "pred = dt.predict(X_test)\n",
        "print('test acurracy : {0:4f}'.format(accuracy_score(y_test, pred)))"
      ],
      "execution_count": 6,
      "outputs": [
        {
          "output_type": "stream",
          "text": [
            "test acurracy : 0.885965\n"
          ],
          "name": "stdout"
        }
      ]
    },
    {
      "cell_type": "code",
      "metadata": {
        "colab": {
          "base_uri": "https://localhost:8080/"
        },
        "id": "qEscg0dbofFs",
        "outputId": "ccc4931d-530c-4eaf-c56a-36c9df4ace30"
      },
      "source": [
        "knn = KNeighborsClassifier(n_neighbors=9)\n",
        "knn.fit(X_train, y_train)\n",
        "pred = knn.predict(X_test)\n",
        "print('test acurracy : {0:4f}'.format(accuracy_score(y_test, pred)))"
      ],
      "execution_count": 7,
      "outputs": [
        {
          "output_type": "stream",
          "text": [
            "test acurracy : 0.894737\n"
          ],
          "name": "stdout"
        }
      ]
    },
    {
      "cell_type": "code",
      "metadata": {
        "colab": {
          "base_uri": "https://localhost:8080/"
        },
        "id": "1V-3W7s9oWo8",
        "outputId": "e76262fe-efb3-43ad-9f59-1156dcc63dc8"
      },
      "source": [
        "#SVM Classifier\n",
        "svc = SVC(probability=True)  #SVM for Regression : SVR\n",
        "svc.fit(X_train,y_train)\n",
        "pred = svc.predict(X_test)\n",
        "print('test acurracy : {0:4f}'.format(accuracy_score(y_test, pred)))"
      ],
      "execution_count": 8,
      "outputs": [
        {
          "output_type": "stream",
          "text": [
            "test acurracy : 0.868421\n"
          ],
          "name": "stdout"
        }
      ]
    },
    {
      "cell_type": "markdown",
      "metadata": {
        "id": "XDKgROYkcVTQ"
      },
      "source": [
        "* Voting 모델의 성능"
      ]
    },
    {
      "cell_type": "code",
      "metadata": {
        "colab": {
          "base_uri": "https://localhost:8080/"
        },
        "id": "-HRS5aAgevkj",
        "outputId": "2c411fc9-c2cf-45fb-b961-53a8c7085515"
      },
      "source": [
        "#Voting\n",
        "from sklearn.ensemble import VotingClassifier\n",
        "\n",
        "# base model 설정\n",
        "lr = LogisticRegression()\n",
        "dt = DecisionTreeClassifier(random_state=318)\n",
        "knn = KNeighborsClassifier(n_neighbors=9)\n",
        "\n",
        "# 앙상블 모델 - hard, soft 설정\n",
        "vo_hard = VotingClassifier(estimators=[(\"LR\",lr),(\"dt\",dt),(\"KNN\",knn)],voting=\"hard\") \n",
        "vo_soft = VotingClassifier(estimators=[(\"LR\",lr),(\"dt\",dt),(\"KNN\",knn)],voting=\"soft\")\n",
        "\n",
        "# VotingClassifier 학습/예측/평가\n",
        "vo_hard.fit(X_train,y_train)\n",
        "pred_h = vo_hard.predict(X_test)\n",
        "print('Hard Voting 분류기 정확도: {0:4f}'.format(accuracy_score(y_test, pred_h)))\n",
        "\n",
        "vo_soft.fit(X_train,y_train)\n",
        "pred_s = vo_soft.predict(X_test)\n",
        "print('Soft Voting 분류기 정확도: {0:4f}'.format(accuracy_score(y_test, pred_s)))"
      ],
      "execution_count": 9,
      "outputs": [
        {
          "output_type": "stream",
          "text": [
            "Hard Voting 분류기 정확도: 0.921053\n",
            "Soft Voting 분류기 정확도: 0.929825\n"
          ],
          "name": "stdout"
        }
      ]
    },
    {
      "cell_type": "markdown",
      "metadata": {
        "id": "DvHDQTGPqQmW"
      },
      "source": [
        "미세하게 soft voting으로 만든 앙상블 모델이 가장 좋은 성능을 가집니다."
      ]
    },
    {
      "cell_type": "markdown",
      "metadata": {
        "id": "h2uysdvot2wJ"
      },
      "source": [
        "Naive Bayes, SVM 모델로 Voting\r\n",
        "* 개별 모델 성능"
      ]
    },
    {
      "cell_type": "code",
      "metadata": {
        "colab": {
          "base_uri": "https://localhost:8080/"
        },
        "id": "owieqMWyuvIe",
        "outputId": "937ba765-1513-4c4b-90ce-04e3dea909f7"
      },
      "source": [
        "nb = GaussianNB()\n",
        "nb.fit(X_train, y_train)\n",
        "pred = nb.predict(X_test)\n",
        "print('test acurracy : {0:4f}'.format(accuracy_score(y_test, pred)))"
      ],
      "execution_count": 10,
      "outputs": [
        {
          "output_type": "stream",
          "text": [
            "test acurracy : 0.903509\n"
          ],
          "name": "stdout"
        }
      ]
    },
    {
      "cell_type": "code",
      "metadata": {
        "colab": {
          "base_uri": "https://localhost:8080/"
        },
        "id": "a0a_Y9XbuvDa",
        "outputId": "a57f840a-e9f0-4214-a3fc-41e4889ca0cb"
      },
      "source": [
        "svc = SVC(probability=True)\n",
        "svc.fit(X_train, y_train)\n",
        "pred = svc.predict(X_test)\n",
        "print('test acurracy : {0:4f}'.format(accuracy_score(y_test, pred)))"
      ],
      "execution_count": 11,
      "outputs": [
        {
          "output_type": "stream",
          "text": [
            "test acurracy : 0.868421\n"
          ],
          "name": "stdout"
        }
      ]
    },
    {
      "cell_type": "markdown",
      "metadata": {
        "id": "jjai2dK9fIRQ"
      },
      "source": [
        "* Voting모델 성능"
      ]
    },
    {
      "cell_type": "code",
      "metadata": {
        "colab": {
          "base_uri": "https://localhost:8080/"
        },
        "id": "izM3UizqevuH",
        "outputId": "d5b0cbc5-2ccc-49f4-fdb7-26337143a457"
      },
      "source": [
        "# svc 추가\n",
        "# base model 설정\n",
        "nb = GaussianNB()\n",
        "svc = SVC(probability=True)\n",
        "\n",
        "# 앙상블 모델 - hard, soft 설정\n",
        "vo_hard = VotingClassifier(estimators=[(\"nb\",nb),(\"svc\",svc)],voting=\"hard\")\n",
        "vo_soft = VotingClassifier(estimators=[(\"nb\",nb),(\"svc\",svc)],voting=\"soft\")\n",
        "\n",
        "# VotingClassifier 학습/예측/평가\n",
        "vo_hard.fit(X_train,y_train)\n",
        "pred_h = vo_hard.predict(X_test)\n",
        "print('Hard Voting 분류기 정확도: {0:4f}'.format(accuracy_score(y_test, pred_h)))\n",
        "\n",
        "vo_soft.fit(X_train,y_train)\n",
        "pred_s = vo_soft.predict(X_test)\n",
        "print('Soft Voting 분류기 정확도: {0:4f}'.format(accuracy_score(y_test, pred_s)))"
      ],
      "execution_count": 12,
      "outputs": [
        {
          "output_type": "stream",
          "text": [
            "Hard Voting 분류기 정확도: 0.912281\n",
            "Soft Voting 분류기 정확도: 0.885965\n"
          ],
          "name": "stdout"
        }
      ]
    },
    {
      "cell_type": "markdown",
      "metadata": {
        "id": "EQsIao2CvON9"
      },
      "source": [
        "나이브베이즈와 svm 으로 만든 앙상블 모델은 hard voting이 성능이 제일 좋았습니다. 무조건 soft가 더 성능이 좋은 것은 아님을 알 수 있습니다."
      ]
    },
    {
      "cell_type": "markdown",
      "metadata": {
        "id": "L6lc07OZUg4V"
      },
      "source": [
        "# 2. Bagging"
      ]
    },
    {
      "cell_type": "markdown",
      "metadata": {
        "id": "8gd5kgQuX7xI"
      },
      "source": [
        "Scikit-Learn 의 ensemble 서브패키지는 배깅 모형 결합을 위한 BaggingClassifier() 클래스를 제공합니다. 파라미터의 의미는 다음과 같습니다.  \n",
        "\n",
        "- base_estimator: 기본 모델 지정. 디폴트 Decision Tree  \n",
        "- n_estimators: 모델 갯수. 디폴트 10  \n",
        "- bootstrap: 데이터의 중복 사용 여부. 디폴트 True  \n",
        "- max_samples: 데이터 샘플 중 선택할 샘플의 수. 디폴트 1.0  \n",
        "- max_features: 다차원 독립 변수 중 선택할 변수의 수 1.0  \n",
        "- bootstrap_features: 특징 차원의 중복 사용 여부. 디폴트 False  \n"
      ]
    },
    {
      "cell_type": "code",
      "metadata": {
        "id": "tC7pg7UfUhA-"
      },
      "source": [
        "from sklearn.ensemble import BaggingClassifier\n",
        "from sklearn.model_selection import cross_val_score\n",
        "from sklearn.model_selection import GridSearchCV"
      ],
      "execution_count": 13,
      "outputs": []
    },
    {
      "cell_type": "markdown",
      "metadata": {
        "id": "iRcl6kSktd_9"
      },
      "source": [
        "* Decision tree를 이용하여 Bagging 수행"
      ]
    },
    {
      "cell_type": "code",
      "metadata": {
        "id": "4alIFs9_qllw"
      },
      "source": [
        "# model\n",
        "clf = DecisionTreeClassifier(random_state=318)\n",
        "eclf = BaggingClassifier(clf,oob_score=True)"
      ],
      "execution_count": 14,
      "outputs": []
    },
    {
      "cell_type": "code",
      "metadata": {
        "colab": {
          "base_uri": "https://localhost:8080/"
        },
        "id": "NPC1M_l1qljX",
        "outputId": "62c8cb45-5420-40b0-b5b1-3b802ce01abb"
      },
      "source": [
        "# cv\n",
        "cross_val_score(eclf,X,y,cv=5).mean()"
      ],
      "execution_count": 15,
      "outputs": [
        {
          "output_type": "execute_result",
          "data": {
            "text/plain": [
              "0.9543704393727681"
            ]
          },
          "metadata": {
            "tags": []
          },
          "execution_count": 15
        }
      ]
    },
    {
      "cell_type": "markdown",
      "metadata": {
        "id": "Ehinm_UYtkT5"
      },
      "source": [
        "Grid search로 최적의 파라미터를 찾습니다.\r\n",
        "* estimator: 학습이 안된 빈 모델 (이것저것 시도해봐야 하니까)\r\n",
        "* param_grid: \"Dictionary with parameters\", 시도해보고 싶은 파라미터 목록을 딕셔너리 형태로\r\n",
        "* cv: cross validation split 수, Kfold로도 대체 가능, 디폴트 5\r\n",
        "* n_jobs: Number of jobs to run in parallel, -1 means using all processors\r\n",
        "* refit : 최적의 파라미터로 다시 모델을 피팅할것인지의 여부. 디폴트 True\r\n",
        "\r\n",
        "결과 관련 attributes\r\n",
        "* best_params_ : 최적의 파라미터\r\n",
        "* best_score_ : 최적의 파라미터에서의 성능 (최적의 성능)\r\n",
        "* best_estimator_ : 최적의 파라미터로 refit한 모델"
      ]
    },
    {
      "cell_type": "code",
      "metadata": {
        "id": "IlymQq2-YsOy"
      },
      "source": [
        "# Grid search\n",
        "bagging = BaggingClassifier(clf,oob_score=True) # 빈 모델\n",
        "params ={\n",
        "    \"n_estimators\" : [10,20,30,40,50,55],\n",
        "    \"max_samples\" : [0.5,0.6,0.7,0.8,0.9,1]}\n",
        "\n",
        "grid = GridSearchCV(estimator=bagging, param_grid=params, cv=5, n_jobs=-1)\n",
        "grid = grid.fit(X, y)"
      ],
      "execution_count": 16,
      "outputs": []
    },
    {
      "cell_type": "code",
      "metadata": {
        "colab": {
          "base_uri": "https://localhost:8080/"
        },
        "id": "-brSYDi_YsSL",
        "outputId": "f6f3639a-8d9a-4b5b-8e16-ece8a6cb4b60"
      },
      "source": [
        "# best score & params\n",
        "print(\"best score: \", grid.best_score_)  #최적의 스코어\n",
        "print(\"best parameters: \", grid.best_params_) #최적의 파라미터\n",
        "\n",
        "# oob score\n",
        "print(\"oob score: \", grid.best_estimator_.oob_score_) #최적의 파라미터로 설정된 모델에서의 oob score"
      ],
      "execution_count": null,
      "outputs": [
        {
          "output_type": "stream",
          "text": [
            "best score:  0.9718987734823784\n",
            "best parameters:  {'max_features': 4, 'n_estimators': 30}\n",
            "oob score:  0.9595782073813708\n"
          ],
          "name": "stdout"
        }
      ]
    },
    {
      "cell_type": "markdown",
      "metadata": {
        "id": "SeuKBlJiZfr0"
      },
      "source": [
        "단순 voting 과 비교했을 때(voting은 0.88~0.91), 튜닝을 진행한 bagging 모델이 성능이 월등히 좋아보입니다."
      ]
    },
    {
      "cell_type": "markdown",
      "metadata": {
        "id": "VYoNIw0hUkuh"
      },
      "source": [
        "# 3. Random Forest"
      ]
    },
    {
      "cell_type": "markdown",
      "metadata": {
        "id": "sxwuJG814pbr"
      },
      "source": [
        ""
      ]
    },
    {
      "cell_type": "code",
      "metadata": {
        "id": "meexNqprqleG"
      },
      "source": [
        "# model\n",
        "from sklearn.ensemble import RandomForestClassifier\n",
        "rf = RandomForestClassifier(n_estimators=100, max_features=2, n_jobs=-1, oob_score=True)"
      ],
      "execution_count": null,
      "outputs": []
    },
    {
      "cell_type": "code",
      "metadata": {
        "colab": {
          "base_uri": "https://localhost:8080/"
        },
        "id": "oqGEWMqkqlbO",
        "outputId": "391d86e7-d1a5-49da-8f36-73cd3cc11530"
      },
      "source": [
        "# cv\n",
        "cross_val_score(rf, X, y, cv=5).mean()"
      ],
      "execution_count": null,
      "outputs": [
        {
          "output_type": "execute_result",
          "data": {
            "text/plain": [
              "0.9648657040832168"
            ]
          },
          "metadata": {
            "tags": []
          },
          "execution_count": 24
        }
      ]
    },
    {
      "cell_type": "code",
      "metadata": {
        "id": "ag2WT6Vbevqv"
      },
      "source": [
        "# Grid search\n",
        "rf2 = RandomForestClassifier(n_estimators=100, max_features=2, n_jobs=-1, oob_score=True)\n",
        "params ={\n",
        "    \"n_estimators\" : [10, 20, 30, 50, 100],\n",
        "    \"max_features\" : [1,2,3,4,5,6,7, 10, 15, 20, 25, len(X[0])]\n",
        "    }\n",
        "\n",
        "grid = GridSearchCV(estimator=rf, param_grid=params, cv=5, n_jobs=-1)\n",
        "grid = grid.fit(X, y)"
      ],
      "execution_count": null,
      "outputs": []
    },
    {
      "cell_type": "code",
      "metadata": {
        "colab": {
          "base_uri": "https://localhost:8080/"
        },
        "id": "4fuVp7AMdBst",
        "outputId": "6df77898-53a2-48c4-95b1-6e8ee864afa0"
      },
      "source": [
        "# best score & params\n",
        "print(\"best score: \", grid.best_score_)  \n",
        "print(\"best parameters: \", grid.best_params_)\n",
        "\n",
        "# oob score\n",
        "print(\"oob score: \",grid.best_estimator_.oob_score_)"
      ],
      "execution_count": null,
      "outputs": [
        {
          "output_type": "stream",
          "text": [
            "best score:  0.9718987734823784\n",
            "best parameters:  {'max_features': 4, 'n_estimators': 30}\n",
            "oob score:  0.9595782073813708\n"
          ],
          "name": "stdout"
        }
      ]
    },
    {
      "cell_type": "markdown",
      "metadata": {
        "id": "fvMxWqxP48Io"
      },
      "source": [
        "Feature Importances\r\n",
        "* impurity-based feature importances.(Gini importance) 높을수록 더 중요한 feature\r\n",
        "* 해당 feature가 얼마나 impurity를 개선하는지"
      ]
    },
    {
      "cell_type": "code",
      "metadata": {
        "colab": {
          "base_uri": "https://localhost:8080/"
        },
        "id": "AXOtY7bzdSIX",
        "outputId": "d4dae9bd-aa6c-4940-ebea-2137335ecfbd"
      },
      "source": [
        "grid.best_estimator_.feature_importances_  #데이터의 feature(column) 수가 30개. 각 feature의 중요도를 나타냄"
      ],
      "execution_count": null,
      "outputs": [
        {
          "output_type": "execute_result",
          "data": {
            "text/plain": [
              "array([0.09024372, 0.02257772, 0.06606393, 0.01196214, 0.00804551,\n",
              "       0.00749603, 0.03796903, 0.10023773, 0.00790435, 0.00311315,\n",
              "       0.01804004, 0.00383068, 0.01022444, 0.04610047, 0.00450703,\n",
              "       0.00368308, 0.00363821, 0.00268246, 0.00251732, 0.00237052,\n",
              "       0.093805  , 0.01881718, 0.16020502, 0.0872881 , 0.01783188,\n",
              "       0.00460009, 0.03080236, 0.11489141, 0.00913497, 0.00941643])"
            ]
          },
          "metadata": {
            "tags": []
          },
          "execution_count": 26
        }
      ]
    },
    {
      "cell_type": "code",
      "metadata": {
        "colab": {
          "base_uri": "https://localhost:8080/"
        },
        "id": "M7_WPlKIdSE9",
        "outputId": "2aaffc17-db78-4584-e397-7027e43266da"
      },
      "source": [
        "np.argsort(grid.best_estimator_.feature_importances_)[::-1] "
      ],
      "execution_count": null,
      "outputs": [
        {
          "output_type": "execute_result",
          "data": {
            "text/plain": [
              "array([22, 27,  7, 20,  0, 23,  2, 13,  6, 26,  1, 21, 10, 24,  3, 12, 29,\n",
              "       28,  4,  8,  5, 25, 14, 11, 15, 16,  9, 17, 18, 19])"
            ]
          },
          "metadata": {
            "tags": []
          },
          "execution_count": 27
        }
      ]
    },
    {
      "cell_type": "markdown",
      "metadata": {
        "id": "mNwue6Tq5xL1"
      },
      "source": [
        "중요도가 높은 것부터 인덱스 정렬. 인덱스 22가 0.16020502로 중요도가 가장 높고, 인덱스 27이 0.11489141로 두번째로 높음"
      ]
    }
  ]
}