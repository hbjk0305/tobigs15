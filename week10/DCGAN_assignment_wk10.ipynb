{
  "nbformat": 4,
  "nbformat_minor": 0,
  "metadata": {
    "colab": {
      "name": "DCGAN_assignment_wk10.ipynb",
      "provenance": [],
      "collapsed_sections": []
    },
    "kernelspec": {
      "name": "python3",
      "display_name": "Python 3"
    },
    "language_info": {
      "name": "python"
    },
    "accelerator": "GPU"
  },
  "cells": [
    {
      "cell_type": "markdown",
      "metadata": {
        "id": "lqHSUXBAp2DQ"
      },
      "source": [
        "# 투빅스 15기 정규세션 10주차 DCGAN 구현 과제\n",
        "\"빈칸\" 부분을 채우는 과제입니다. \"빈칸\"뿐만 아니라 중간중간 주석 또는 마크다운으로 설명 부탁드립니다  \n",
        "https://github.com/pytorch/tutorials/blob/master/beginner_source/dcgan_faces_tutorial.py  \n",
        "위의 주소는 pytorch dcgan 공식 튜토리얼 코드로 해당 코드를 바탕으로 과제를 만들었습니다. 튜토리얼 코드와 과제 코드가 상당부분 유사하므로 어려운 점이 있을 때 참고하면 좋을 것 같습니다  \n",
        "다만, 그대로 복붙이 아닌 코드를 이해해 나가면서 과제를 수행해주시기 바랍니다  \n",
        "마지막 과제인 만큼 다들 화이팅!"
      ]
    },
    {
      "cell_type": "markdown",
      "metadata": {
        "id": "zW6ONB7fqANg"
      },
      "source": [
        "## 드라이브 연결"
      ]
    },
    {
      "cell_type": "code",
      "metadata": {
        "id": "8sl5iSXfj9Et",
        "colab": {
          "base_uri": "https://localhost:8080/"
        },
        "outputId": "482fab7a-8339-4b54-8013-a0b26454e62d"
      },
      "source": [
        "# gdrive에 mount\n",
        "from google.colab import drive\n",
        "drive.mount('/content/gdrive')\n",
        "# 경로 설정\n",
        "import os\n",
        "os.chdir('/content/gdrive/My Drive/')"
      ],
      "execution_count": 17,
      "outputs": [
        {
          "output_type": "stream",
          "text": [
            "Drive already mounted at /content/gdrive; to attempt to forcibly remount, call drive.mount(\"/content/gdrive\", force_remount=True).\n"
          ],
          "name": "stdout"
        }
      ]
    },
    {
      "cell_type": "markdown",
      "metadata": {
        "id": "XlrC-8uBqFbK"
      },
      "source": [
        "## 패키지 임포트"
      ]
    },
    {
      "cell_type": "code",
      "metadata": {
        "id": "1jXGcTmgk4sf"
      },
      "source": [
        "%matplotlib inline\n",
        "from matplotlib import pyplot as plt\n",
        "import numpy as np\n",
        "import random\n",
        "import torch\n",
        "import torch.nn as nn\n",
        "import torch.optim as optim\n",
        "import torch.utils.data\n",
        "import torchvision.datasets as dset\n",
        "import torchvision.transforms as transforms"
      ],
      "execution_count": 18,
      "outputs": []
    },
    {
      "cell_type": "markdown",
      "metadata": {
        "id": "mS080UbJqKMQ"
      },
      "source": [
        "## MNIST 데이터 불러오기\n",
        "기존의 MNIST 손글씨 데이터의 경우 1x28x28 이미지 -> dcgan 모델 적용을 위해 1x64x64 이미지로 크기 조절 (물론 28x28이미지도 사용가능하지만 네트워크 구조 수정 필요)  \n",
        "처음 데이터를 사용할때는 download=True로 데이터를 다운 받기  \n",
        "이후에 사용할때는 데이터가 이미 다운되있으므로 download=False로 바꿔서 사용"
      ]
    },
    {
      "cell_type": "code",
      "metadata": {
        "id": "4kg3Cy9kk55K"
      },
      "source": [
        "# MNIST dataset\n",
        "dataroot = './mnist_data/'\n",
        "imageSize = 64 # the height / width of the input image to network\n",
        "\n",
        "dataset = dset.MNIST(root = dataroot, download= False,\n",
        "                     transform = transforms.Compose([\n",
        "                                                     transforms.Resize(imageSize), #이미지 64x64로 크기 변환\n",
        "                                                     transforms.ToTensor(), #텐서자료형으로 변환\n",
        "                                                     transforms.Normalize((0.5,), (0.5,)), #노말라이즈를 통해 -1.~1.의 값을 갖게 변환\n",
        "                     ]))"
      ],
      "execution_count": 19,
      "outputs": []
    },
    {
      "cell_type": "markdown",
      "metadata": {
        "id": "cBqDKK5Qp1En"
      },
      "source": [
        "### 데이터 확인하기"
      ]
    },
    {
      "cell_type": "code",
      "metadata": {
        "id": "JZoKpxaKoIh8",
        "colab": {
          "base_uri": "https://localhost:8080/"
        },
        "outputId": "ff95e4a9-b7ce-4474-84be-2e56106488f4"
      },
      "source": [
        "print('number of training data: ', len(dataset)) #데이터 수 확인\n",
        "image,_ = dataset[0]\n",
        "\n",
        "print('Image')\n",
        "print('========================================')\n",
        "print('shape of this image\\t:', image.shape) #데이터 차원(모양)확인하기"
      ],
      "execution_count": 20,
      "outputs": [
        {
          "output_type": "stream",
          "text": [
            "number of training data:  60000\n",
            "Image\n",
            "========================================\n",
            "shape of this image\t: torch.Size([1, 64, 64])\n"
          ],
          "name": "stdout"
        }
      ]
    },
    {
      "cell_type": "code",
      "metadata": {
        "id": "AvL1QHLgoJLs",
        "colab": {
          "base_uri": "https://localhost:8080/",
          "height": 211
        },
        "outputId": "5c2931ed-9985-4bfd-ed61-494c8702ff66"
      },
      "source": [
        "# 학습 데이터 시각화\n",
        "fig = plt.figure()\n",
        "\n",
        "for i in range(10):\n",
        "    image,_ = dataset[i]\n",
        "    image = (image+1)/2\n",
        "    image = image.squeeze()\n",
        "    np_img = image.numpy()\n",
        "    \n",
        "    subplot = fig.add_subplot(2, 5, i+1)\n",
        "    subplot.set_xticks([])\n",
        "    subplot.set_yticks([])\n",
        "    subplot.imshow(np_img, cmap = 'gray')\n",
        "\n",
        "plt.show()"
      ],
      "execution_count": 21,
      "outputs": [
        {
          "output_type": "display_data",
          "data": {
            "image/png": "[encoded data removed]",
            "text/plain": [
              "<Figure size 432x288 with 10 Axes>"
            ]
          },
          "metadata": {
            "tags": []
          }
        }
      ]
    },
    {
      "cell_type": "markdown",
      "metadata": {
        "id": "GV1hsEW7r7lH"
      },
      "source": [
        "### 데이터 로더 정의"
      ]
    },
    {
      "cell_type": "code",
      "metadata": {
        "id": "dk1AQgq3r60l"
      },
      "source": [
        "# dataloader\n",
        "batch_size = 256\n",
        "workers = 2\n",
        "\n",
        "dataloader = torch.utils.data.DataLoader(dataset, batch_size=batch_size,\n",
        "                                         shuffle = True, num_workers = workers)"
      ],
      "execution_count": 22,
      "outputs": []
    },
    {
      "cell_type": "markdown",
      "metadata": {
        "id": "50srPc9CsrUW"
      },
      "source": [
        "## device 정의"
      ]
    },
    {
      "cell_type": "code",
      "metadata": {
        "id": "_1bDrz7ZsvOq",
        "colab": {
          "base_uri": "https://localhost:8080/"
        },
        "outputId": "bcc9befb-652f-4f24-fd60-52907919e6ed"
      },
      "source": [
        "# device\n",
        "device = torch.device(\"cuda:0\" if torch.cuda.is_available() else \"cpu\")\n",
        "print(device)"
      ],
      "execution_count": 23,
      "outputs": [
        {
          "output_type": "stream",
          "text": [
            "cuda:0\n"
          ],
          "name": "stdout"
        }
      ]
    },
    {
      "cell_type": "markdown",
      "metadata": {
        "id": "FF2wxeW7s8hf"
      },
      "source": [
        "## 신경망 "
      ]
    },
    {
      "cell_type": "code",
      "metadata": {
        "id": "VMoPm64ltmiq"
      },
      "source": [
        "#네트워크 하이퍼파라미터 설정\n",
        "nc = 1 # number of channels in the training images\n",
        "nz = 100 # size of z latent vector\n",
        "ngf = 64 # size of feature maps in generator\n",
        "ndf = 64 # size of feature maps in discriminator\n"
      ],
      "execution_count": 24,
      "outputs": []
    },
    {
      "cell_type": "markdown",
      "metadata": {
        "id": "CY2ffq8WtDkb"
      },
      "source": [
        "### 신경망 가중치 초기화 함수 정의\n",
        "신경망의 가중치 초기화 방법에 대해 논문에 자세히 나와있습니다.  \n",
        "다음 사이트는 파이토치에서 가중치 초기화에 관련된 글 입니다  \n",
        "https://www.javaer101.com/ko/article/1010427.html"
      ]
    },
    {
      "cell_type": "code",
      "metadata": {
        "id": "PuRj6bngtBpr"
      },
      "source": [
        "# 논문에 따라 가중치들을 N(0, 0.02^2)으로 초기화한다.\n",
        "def weights_init(m):\n",
        "    classname = m.__class__.__name__\n",
        "    if classname.find('Conv') != -1:\n",
        "        nn.init.normal_(m.weight.data, 0.0, 0.02)\n",
        "    elif classname.find('BatchNorm') != -1:\n",
        "        nn.init.normal_(m.weight.data, 1.0, 0.02)\n",
        "        nn.init.constant_(m.bias.data, 0)"
      ],
      "execution_count": 25,
      "outputs": []
    },
    {
      "cell_type": "markdown",
      "metadata": {
        "id": "KIzdwP6Otb4Q"
      },
      "source": [
        "### 생성자 클래스\n",
        "\n",
        "trasposed convolution 관련 자료: https://yonghyuc.wordpress.com/2019/08/08/transposed-convolutions-aka-deconvolution/"
      ]
    },
    {
      "cell_type": "code",
      "metadata": {
        "id": "uWkHRbFvtbFg"
      },
      "source": [
        "class Generator(nn.Module):\n",
        "    def __init__(self):\n",
        "        super(Generator, self).__init__()\n",
        "        self.main = nn.Sequential(\n",
        "            nn.ConvTranspose2d(in_channels=nz, out_channels=ngf * 8, kernel_size=4, stride=1, padding=0, bias=False),   # stride를 통해 pooling을 대체한다.\n",
        "            nn.BatchNorm2d(ngf * 8),    # 레이어마다 batchnorm을 사용하여 학습의 안정성을 높인다. generator의 마지막 레이어 제외\n",
        "            nn.ReLU(True),              # 마지막 레이어를 제외하고는 activation함수는 ReLU를 사용한다.\n",
        "            # state size. (ngf*8) x 4 x 4\n",
        "            \n",
        "            nn.ConvTranspose2d(ngf * 8, ngf * 4, 4, 2, 1, bias=False),\n",
        "            nn.BatchNorm2d(ngf * 4),\n",
        "            nn.ReLU(True),\n",
        "            # state size. (ngf*4) x 8 x 8\n",
        "            nn.ConvTranspose2d( ngf * 4, ngf * 2, 4, 2, 1, bias=False),\n",
        "            nn.BatchNorm2d(ngf * 2),\n",
        "            nn.ReLU(True),\n",
        "            # state size. (ngf*2) x 16 x 16\n",
        "            nn.ConvTranspose2d( ngf * 2, ngf, 4, 2, 1, bias=False),\n",
        "            nn.BatchNorm2d(ngf),\n",
        "            nn.ReLU(True),\n",
        "            # state size. (ngf) x 32 x 32\n",
        "            nn.ConvTranspose2d( ngf, nc, 4, 2, 1, bias=False),\n",
        "            nn.Tanh()           # 마지막 레이어의 activation함수는 tanh를 사용한다.\n",
        "            # state size. (nc) x 64 x 64\n",
        "        )\n",
        "\n",
        "    def forward(self, input):\n",
        "        return self.main(input)"
      ],
      "execution_count": 26,
      "outputs": []
    },
    {
      "cell_type": "code",
      "metadata": {
        "id": "8MFp5nD_uOFn",
        "colab": {
          "base_uri": "https://localhost:8080/"
        },
        "outputId": "bf228b1a-3dcb-4bbd-9ea5-f68372f5c117"
      },
      "source": [
        "netG = Generator().to(device) # 생성자 객체 생성\n",
        "netG.apply(weights_init) # 위의 정의한 함수로 가중치 초기화\n",
        "\n",
        "# 생성자 출력\n",
        "print(netG)"
      ],
      "execution_count": 27,
      "outputs": [
        {
          "output_type": "stream",
          "text": [
            "Generator(\n",
            "  (main): Sequential(\n",
            "    (0): ConvTranspose2d(100, 512, kernel_size=(4, 4), stride=(1, 1), bias=False)\n",
            "    (1): BatchNorm2d(512, eps=1e-05, momentum=0.1, affine=True, track_running_stats=True)\n",
            "    (2): ReLU(inplace=True)\n",
            "    (3): ConvTranspose2d(512, 256, kernel_size=(4, 4), stride=(2, 2), padding=(1, 1), bias=False)\n",
            "    (4): BatchNorm2d(256, eps=1e-05, momentum=0.1, affine=True, track_running_stats=True)\n",
            "    (5): ReLU(inplace=True)\n",
            "    (6): ConvTranspose2d(256, 128, kernel_size=(4, 4), stride=(2, 2), padding=(1, 1), bias=False)\n",
            "    (7): BatchNorm2d(128, eps=1e-05, momentum=0.1, affine=True, track_running_stats=True)\n",
            "    (8): ReLU(inplace=True)\n",
            "    (9): ConvTranspose2d(128, 64, kernel_size=(4, 4), stride=(2, 2), padding=(1, 1), bias=False)\n",
            "    (10): BatchNorm2d(64, eps=1e-05, momentum=0.1, affine=True, track_running_stats=True)\n",
            "    (11): ReLU(inplace=True)\n",
            "    (12): ConvTranspose2d(64, 1, kernel_size=(4, 4), stride=(2, 2), padding=(1, 1), bias=False)\n",
            "    (13): Tanh()\n",
            "  )\n",
            ")\n"
          ],
          "name": "stdout"
        }
      ]
    },
    {
      "cell_type": "markdown",
      "metadata": {
        "id": "YKnrGeQJu5IC"
      },
      "source": [
        "### 판별자 클래스"
      ]
    },
    {
      "cell_type": "code",
      "metadata": {
        "id": "gPOn7rHEu4Zw"
      },
      "source": [
        "class Discriminator(nn.Module):\n",
        "    def __init__(self):\n",
        "        super(Discriminator, self).__init__()\n",
        "        self.main = nn.Sequential(\n",
        "            # (nc) x 64 x 64)\n",
        "            nn.Conv2d(nc, ndf, 4,2,1,bias=False),   \n",
        "            nn.LeakyReLU(0.2, inplace=True),    # activation function은 leakyReLU를 사용한다.\n",
        "\n",
        "            # ndf x 32 x 32\n",
        "            nn.Conv2d(ndf, ndf * 2, 4, 2, 1, bias=False),\n",
        "            nn.BatchNorm2d(ndf * 2),        # batchnorm을 사용하여 학습의 안정성을 높인다. discriminator의 첫번째 레이어 제외\n",
        "            nn.LeakyReLU(0.2, inplace=True),\n",
        "\n",
        "            # (ndf * 2) x 16 x 16\n",
        "            nn.Conv2d(ndf*2, ndf*4, 4, 2, 1, bias=False),\n",
        "            nn.BatchNorm2d(ndf * 4),\n",
        "            nn.LeakyReLU(0.2, inplace=True),\n",
        "\n",
        "            # (ndf * 4) x 8 x 8\n",
        "            nn.Conv2d(ndf * 4, ndf * 8, 4, 2, 1, bias=False),\n",
        "            nn.BatchNorm2d(ndf*8),\n",
        "            nn.LeakyReLU(0.2, inplace=True),\n",
        "\n",
        "            nn.Conv2d(ndf*8, 1, 4, 1, 0, bias=False),\n",
        "            nn.Sigmoid()        # 해당 사진이 진짜인지 가짜인지를 구분ㄴ한ㄴ다.\n",
        "        )\n",
        "\n",
        "    def forward(self, input):\n",
        "        output = self.main(input)\n",
        "        return output.view(-1, 1).squeeze(1)"
      ],
      "execution_count": 28,
      "outputs": []
    },
    {
      "cell_type": "code",
      "metadata": {
        "id": "bNznWbGevHnk",
        "colab": {
          "base_uri": "https://localhost:8080/"
        },
        "outputId": "7365df3c-1e3f-44be-f722-14d7bf5b3936"
      },
      "source": [
        "netD = Discriminator().to(device) # 생성자 객체 생성\n",
        "netD.apply(weights_init) # 위의 정의한 함수로 가중치 초기화\n",
        "\n",
        "# 판별자 출력\n",
        "print(netD)"
      ],
      "execution_count": 29,
      "outputs": [
        {
          "output_type": "stream",
          "text": [
            "Discriminator(\n",
            "  (main): Sequential(\n",
            "    (0): Conv2d(1, 64, kernel_size=(4, 4), stride=(2, 2), padding=(1, 1), bias=False)\n",
            "    (1): LeakyReLU(negative_slope=0.2, inplace=True)\n",
            "    (2): Conv2d(64, 128, kernel_size=(4, 4), stride=(2, 2), padding=(1, 1), bias=False)\n",
            "    (3): BatchNorm2d(128, eps=1e-05, momentum=0.1, affine=True, track_running_stats=True)\n",
            "    (4): LeakyReLU(negative_slope=0.2, inplace=True)\n",
            "    (5): Conv2d(128, 256, kernel_size=(4, 4), stride=(2, 2), padding=(1, 1), bias=False)\n",
            "    (6): BatchNorm2d(256, eps=1e-05, momentum=0.1, affine=True, track_running_stats=True)\n",
            "    (7): LeakyReLU(negative_slope=0.2, inplace=True)\n",
            "    (8): Conv2d(256, 512, kernel_size=(4, 4), stride=(2, 2), padding=(1, 1), bias=False)\n",
            "    (9): BatchNorm2d(512, eps=1e-05, momentum=0.1, affine=True, track_running_stats=True)\n",
            "    (10): LeakyReLU(negative_slope=0.2, inplace=True)\n",
            "    (11): Conv2d(512, 1, kernel_size=(4, 4), stride=(1, 1), bias=False)\n",
            "    (12): Sigmoid()\n",
            "  )\n",
            ")\n"
          ],
          "name": "stdout"
        }
      ]
    },
    {
      "cell_type": "markdown",
      "metadata": {
        "id": "pO6E3WcLvaca"
      },
      "source": [
        "## Loss Function & Optimizer"
      ]
    },
    {
      "cell_type": "code",
      "metadata": {
        "id": "q3zo8MjNvT9r"
      },
      "source": [
        "# 손실함수\n",
        "criterion = nn.BCELoss()\n",
        "\n",
        "real_label = 1.\n",
        "fake_label = 0.\n",
        "\n",
        "# optimizer hyperparameters\n",
        "learning_rate = 0.0001\n",
        "beta1 = 0.5\n",
        "\n",
        "# optimizers\n",
        "# Adam을 사용하고 모멘텀항을 추가한다.\n",
        "optimizerD = optim.Adam(netD.parameters(), lr = learning_rate, betas=(beta1, 0.999))\n",
        "optimizerG = optim.Adam(netG.parameters(), lr = learning_rate, betas=(beta1, 0.999))"
      ],
      "execution_count": 30,
      "outputs": []
    },
    {
      "cell_type": "markdown",
      "metadata": {
        "id": "EzI4vYfzxF_k"
      },
      "source": [
        "## Train\n",
        "\"빈칸\"을 채우고, 각각의 변수 및 메소드가 무엇을 나태는지 혹은 어떻게 계산되는지를 주석으로 설명 부탁드립니다.  \n",
        "참고하면 좋은 사이트: https://redstarhong.tistory.com/64"
      ]
    },
    {
      "cell_type": "code",
      "metadata": {
        "id": "zommtabuxHkC",
        "colab": {
          "base_uri": "https://localhost:8080/"
        },
        "outputId": "0667a7fe-486f-4e6c-d73f-7fa1dd30a9b8"
      },
      "source": [
        "import torchvision.utils as vutils\n",
        "num_epochs = 100\n",
        "img_list = []\n",
        "fixed_noise = torch.randn(64, nz, 1, 1, device=device)\n",
        "for epoch in range(num_epochs):\n",
        "    for i, data in enumerate(dataloader, 0):\n",
        "\n",
        "        netD.zero_grad() # Discriminator의 gradient를 초기화한다.\n",
        "        real_cpu = data[0].to(device)\n",
        "        b_size = real_cpu.size(0)\n",
        "        label = torch.full((b_size,), real_label, dtype=torch.float, device=device) # 진짜 이미지에 대해 라벨을 붙인다.\n",
        "        output = netD(real_cpu).view(-1)    # 진짜 이미지에 대해 discriminator로 나온 결과\n",
        "        errD_real = criterion(output, label)    # loss를 계산한다.\n",
        "        errD_real.backward()                # gradient를 계산한다.\n",
        "        D_x = output.mean().item()          \n",
        "\n",
        "        noise = torch.randn(b_size, nz, 1, 1, device=device)    # 랜덤한 노이즈를 만든다.\n",
        "        fake = netG(noise)              # generator를 통해 fake image를 생성한다.\n",
        "        label.fill_(fake_label)             # fake label을 만든다.\n",
        "        output = netD(fake.detach()).view(-1)   # discriminator로 fake image를 분류한다.\n",
        "        errD_fake = criterion(output, label)    # loss를 계산한다.\n",
        "        errD_fake.backward()            # gradient를 계산하다.\n",
        "        D_G_z1 = output.mean().item()\n",
        "\n",
        "        errD = errD_real + errD_fake    # discriminator의 Loss는 fake image에 대한 loss와 real image에 대한 loss를 더한 값이다.\n",
        "        optimizerD.step()               # discriminator를 업데이트한다.\n",
        "\n",
        "\n",
        "        netG.zero_grad() # generator의 기울기 초기화\n",
        "        label.fill_(real_label)         # generator의 입장에서는 discriminator가 자시이 만든 사진을 진짜라고 분류해야 하므로 real label을 붙인다. \n",
        "        output = netD(fake).view(-1)    # fake image를 discriminator로 분류한다.\n",
        "        errG = criterion(output, label)     # loss를 계산한다.\n",
        "        errG.backward()                 # gradient를 계산한다.\n",
        "        D_G_z2 = output.mean().item()\n",
        "\n",
        "        optimizerG.step()   # generator를 업데이트한다.\n",
        "\n",
        "        # 학습 경과 출력\n",
        "        if i % 50 == 0:\n",
        "            print('[%d/%d][%d/%d]\\tLoss_D: %.4f\\tLoss_G: %.4f\\tD(x): %.4f\\tD(G(z)): %.4f / %.4f'\n",
        "            % (epoch, num_epochs, i, len(dataloader),\n",
        "                errD.item(), errG.item(), D_x, D_G_z1, D_G_z2))\n",
        "        \n",
        "        if (i % 500 == 0) or ((epoch == num_epochs-1) and (i == len(dataloader)-1)):\n",
        "            with torch.no_grad():\n",
        "                fake = netG(fixed_noise).detach().cpu()     # 후에 시각화를 위해 fake image를 저장하였다.\n",
        "            img_list.append(vutils.make_grid(fake, padding=2, normalize=True))"
      ],
      "execution_count": 31,
      "outputs": [
        {
          "output_type": "stream",
          "text": [
            "[0/100][0/235]\tLoss_D: 1.9916\tLoss_G: 2.0691\tD(x): 0.5020\tD(G(z)): 0.6219 / 0.1763\n",
            "[0/100][50/235]\tLoss_D: 0.0255\tLoss_G: 7.6386\tD(x): 0.9892\tD(G(z)): 0.0139 / 0.0006\n",
            "[0/100][100/235]\tLoss_D: 0.0150\tLoss_G: 7.8305\tD(x): 0.9942\tD(G(z)): 0.0074 / 0.0005\n",
            "[0/100][150/235]\tLoss_D: 0.0040\tLoss_G: 7.7592\tD(x): 0.9990\tD(G(z)): 0.0030 / 0.0005\n",
            "[0/100][200/235]\tLoss_D: 0.0033\tLoss_G: 8.0820\tD(x): 0.9989\tD(G(z)): 0.0021 / 0.0004\n",
            "[1/100][0/235]\tLoss_D: 0.0034\tLoss_G: 8.2815\tD(x): 0.9996\tD(G(z)): 0.0030 / 0.0003\n",
            "[1/100][50/235]\tLoss_D: 0.0019\tLoss_G: 8.0961\tD(x): 0.9998\tD(G(z)): 0.0017 / 0.0003\n",
            "[1/100][100/235]\tLoss_D: 0.0011\tLoss_G: 8.0480\tD(x): 0.9998\tD(G(z)): 0.0009 / 0.0004\n",
            "[1/100][150/235]\tLoss_D: 0.0017\tLoss_G: 7.7829\tD(x): 0.9998\tD(G(z)): 0.0015 / 0.0005\n",
            "[1/100][200/235]\tLoss_D: 0.0011\tLoss_G: 7.9740\tD(x): 0.9997\tD(G(z)): 0.0008 / 0.0004\n",
            "[2/100][0/235]\tLoss_D: 0.0009\tLoss_G: 8.0896\tD(x): 0.9998\tD(G(z)): 0.0007 / 0.0003\n",
            "[2/100][50/235]\tLoss_D: 0.0006\tLoss_G: 8.3319\tD(x): 0.9999\tD(G(z)): 0.0004 / 0.0003\n",
            "[2/100][100/235]\tLoss_D: 0.0008\tLoss_G: 8.0347\tD(x): 0.9998\tD(G(z)): 0.0006 / 0.0003\n",
            "[2/100][150/235]\tLoss_D: 0.0007\tLoss_G: 8.3365\tD(x): 0.9997\tD(G(z)): 0.0004 / 0.0003\n",
            "[2/100][200/235]\tLoss_D: 0.0005\tLoss_G: 8.4844\tD(x): 0.9999\tD(G(z)): 0.0004 / 0.0002\n",
            "[3/100][0/235]\tLoss_D: 0.0004\tLoss_G: 8.4372\tD(x): 1.0000\tD(G(z)): 0.0004 / 0.0002\n",
            "[3/100][50/235]\tLoss_D: 0.0003\tLoss_G: 8.9639\tD(x): 0.9999\tD(G(z)): 0.0002 / 0.0001\n",
            "[3/100][100/235]\tLoss_D: 0.0002\tLoss_G: 9.0316\tD(x): 1.0000\tD(G(z)): 0.0002 / 0.0001\n",
            "[3/100][150/235]\tLoss_D: 0.0002\tLoss_G: 8.9696\tD(x): 1.0000\tD(G(z)): 0.0002 / 0.0001\n",
            "[3/100][200/235]\tLoss_D: 0.0002\tLoss_G: 8.8292\tD(x): 1.0000\tD(G(z)): 0.0002 / 0.0002\n",
            "[4/100][0/235]\tLoss_D: 0.0001\tLoss_G: 9.4213\tD(x): 1.0000\tD(G(z)): 0.0001 / 0.0001\n",
            "[4/100][50/235]\tLoss_D: 0.0002\tLoss_G: 9.1199\tD(x): 1.0000\tD(G(z)): 0.0002 / 0.0001\n",
            "[4/100][100/235]\tLoss_D: 0.0001\tLoss_G: 9.2427\tD(x): 1.0000\tD(G(z)): 0.0001 / 0.0001\n",
            "[4/100][150/235]\tLoss_D: 0.0001\tLoss_G: 9.4298\tD(x): 1.0000\tD(G(z)): 0.0001 / 0.0001\n",
            "[4/100][200/235]\tLoss_D: 0.0001\tLoss_G: 9.6318\tD(x): 1.0000\tD(G(z)): 0.0001 / 0.0001\n",
            "[5/100][0/235]\tLoss_D: 0.0001\tLoss_G: 9.6210\tD(x): 1.0000\tD(G(z)): 0.0001 / 0.0001\n",
            "[5/100][50/235]\tLoss_D: 0.0001\tLoss_G: 9.6086\tD(x): 1.0000\tD(G(z)): 0.0001 / 0.0001\n",
            "[5/100][100/235]\tLoss_D: 0.0002\tLoss_G: 9.7136\tD(x): 0.9999\tD(G(z)): 0.0001 / 0.0001\n",
            "[5/100][150/235]\tLoss_D: 0.0001\tLoss_G: 9.7425\tD(x): 1.0000\tD(G(z)): 0.0001 / 0.0001\n",
            "[5/100][200/235]\tLoss_D: 0.0001\tLoss_G: 9.9159\tD(x): 1.0000\tD(G(z)): 0.0001 / 0.0001\n",
            "[6/100][0/235]\tLoss_D: 0.0001\tLoss_G: 9.8439\tD(x): 1.0000\tD(G(z)): 0.0001 / 0.0001\n",
            "[6/100][50/235]\tLoss_D: 0.0001\tLoss_G: 10.0405\tD(x): 1.0000\tD(G(z)): 0.0001 / 0.0000\n",
            "[6/100][100/235]\tLoss_D: 0.0001\tLoss_G: 10.1420\tD(x): 1.0000\tD(G(z)): 0.0000 / 0.0000\n",
            "[6/100][150/235]\tLoss_D: 0.0001\tLoss_G: 10.0051\tD(x): 1.0000\tD(G(z)): 0.0001 / 0.0000\n",
            "[6/100][200/235]\tLoss_D: 0.0000\tLoss_G: 10.1794\tD(x): 1.0000\tD(G(z)): 0.0000 / 0.0000\n",
            "[7/100][0/235]\tLoss_D: 0.0000\tLoss_G: 10.2818\tD(x): 1.0000\tD(G(z)): 0.0000 / 0.0000\n",
            "[7/100][50/235]\tLoss_D: 0.0000\tLoss_G: 10.3771\tD(x): 1.0000\tD(G(z)): 0.0000 / 0.0000\n",
            "[7/100][100/235]\tLoss_D: 0.0000\tLoss_G: 10.3453\tD(x): 1.0000\tD(G(z)): 0.0000 / 0.0000\n",
            "[7/100][150/235]\tLoss_D: 0.0000\tLoss_G: 10.4069\tD(x): 1.0000\tD(G(z)): 0.0000 / 0.0000\n",
            "[7/100][200/235]\tLoss_D: 0.0000\tLoss_G: 10.6163\tD(x): 1.0000\tD(G(z)): 0.0000 / 0.0000\n",
            "[8/100][0/235]\tLoss_D: 0.0000\tLoss_G: 10.6552\tD(x): 1.0000\tD(G(z)): 0.0000 / 0.0000\n",
            "[8/100][50/235]\tLoss_D: 0.0000\tLoss_G: 11.1425\tD(x): 1.0000\tD(G(z)): 0.0000 / 0.0000\n",
            "[8/100][100/235]\tLoss_D: 0.0000\tLoss_G: 10.8291\tD(x): 1.0000\tD(G(z)): 0.0000 / 0.0000\n",
            "[8/100][150/235]\tLoss_D: 0.0000\tLoss_G: 11.1313\tD(x): 1.0000\tD(G(z)): 0.0000 / 0.0000\n",
            "[8/100][200/235]\tLoss_D: 0.0000\tLoss_G: 11.1305\tD(x): 1.0000\tD(G(z)): 0.0000 / 0.0000\n",
            "[9/100][0/235]\tLoss_D: 0.0000\tLoss_G: 11.1507\tD(x): 1.0000\tD(G(z)): 0.0000 / 0.0000\n",
            "[9/100][50/235]\tLoss_D: 0.0000\tLoss_G: 11.1779\tD(x): 1.0000\tD(G(z)): 0.0000 / 0.0000\n",
            "[9/100][100/235]\tLoss_D: 0.0000\tLoss_G: 11.5458\tD(x): 1.0000\tD(G(z)): 0.0000 / 0.0000\n",
            "[9/100][150/235]\tLoss_D: 0.0000\tLoss_G: 11.5240\tD(x): 1.0000\tD(G(z)): 0.0000 / 0.0000\n",
            "[9/100][200/235]\tLoss_D: 0.0000\tLoss_G: 11.6646\tD(x): 1.0000\tD(G(z)): 0.0000 / 0.0000\n",
            "[10/100][0/235]\tLoss_D: 0.0000\tLoss_G: 11.5644\tD(x): 1.0000\tD(G(z)): 0.0000 / 0.0000\n",
            "[10/100][50/235]\tLoss_D: 0.0000\tLoss_G: 11.4212\tD(x): 1.0000\tD(G(z)): 0.0000 / 0.0000\n",
            "[10/100][100/235]\tLoss_D: 0.0000\tLoss_G: 11.7441\tD(x): 1.0000\tD(G(z)): 0.0000 / 0.0000\n",
            "[10/100][150/235]\tLoss_D: 0.0000\tLoss_G: 11.8274\tD(x): 1.0000\tD(G(z)): 0.0000 / 0.0000\n",
            "[10/100][200/235]\tLoss_D: 0.0000\tLoss_G: 11.6819\tD(x): 1.0000\tD(G(z)): 0.0000 / 0.0000\n",
            "[11/100][0/235]\tLoss_D: 0.0000\tLoss_G: 11.8637\tD(x): 1.0000\tD(G(z)): 0.0000 / 0.0000\n",
            "[11/100][50/235]\tLoss_D: 0.0000\tLoss_G: 11.7657\tD(x): 1.0000\tD(G(z)): 0.0000 / 0.0000\n",
            "[11/100][100/235]\tLoss_D: 0.0000\tLoss_G: 11.9249\tD(x): 1.0000\tD(G(z)): 0.0000 / 0.0000\n",
            "[11/100][150/235]\tLoss_D: 0.0000\tLoss_G: 12.1658\tD(x): 1.0000\tD(G(z)): 0.0000 / 0.0000\n",
            "[11/100][200/235]\tLoss_D: 0.0000\tLoss_G: 11.8822\tD(x): 1.0000\tD(G(z)): 0.0000 / 0.0000\n",
            "[12/100][0/235]\tLoss_D: 0.0000\tLoss_G: 11.7303\tD(x): 1.0000\tD(G(z)): 0.0000 / 0.0000\n",
            "[12/100][50/235]\tLoss_D: 0.0000\tLoss_G: 11.9041\tD(x): 1.0000\tD(G(z)): 0.0000 / 0.0000\n",
            "[12/100][100/235]\tLoss_D: 0.0000\tLoss_G: 12.0193\tD(x): 1.0000\tD(G(z)): 0.0000 / 0.0000\n",
            "[12/100][150/235]\tLoss_D: 0.0000\tLoss_G: 11.8354\tD(x): 1.0000\tD(G(z)): 0.0000 / 0.0000\n",
            "[12/100][200/235]\tLoss_D: 0.0000\tLoss_G: 11.8931\tD(x): 1.0000\tD(G(z)): 0.0000 / 0.0000\n",
            "[13/100][0/235]\tLoss_D: 0.0000\tLoss_G: 12.1215\tD(x): 1.0000\tD(G(z)): 0.0000 / 0.0000\n",
            "[13/100][50/235]\tLoss_D: 0.0000\tLoss_G: 11.9744\tD(x): 1.0000\tD(G(z)): 0.0000 / 0.0000\n",
            "[13/100][100/235]\tLoss_D: 0.0000\tLoss_G: 12.2354\tD(x): 1.0000\tD(G(z)): 0.0000 / 0.0000\n",
            "[13/100][150/235]\tLoss_D: 0.0000\tLoss_G: 12.3829\tD(x): 1.0000\tD(G(z)): 0.0000 / 0.0000\n",
            "[13/100][200/235]\tLoss_D: 0.0000\tLoss_G: 12.2138\tD(x): 1.0000\tD(G(z)): 0.0000 / 0.0000\n",
            "[14/100][0/235]\tLoss_D: 0.0000\tLoss_G: 12.1691\tD(x): 1.0000\tD(G(z)): 0.0000 / 0.0000\n",
            "[14/100][50/235]\tLoss_D: 0.0000\tLoss_G: 12.3326\tD(x): 1.0000\tD(G(z)): 0.0000 / 0.0000\n",
            "[14/100][100/235]\tLoss_D: 0.0000\tLoss_G: 12.3029\tD(x): 1.0000\tD(G(z)): 0.0000 / 0.0000\n",
            "[14/100][150/235]\tLoss_D: 0.0000\tLoss_G: 12.4708\tD(x): 1.0000\tD(G(z)): 0.0000 / 0.0000\n",
            "[14/100][200/235]\tLoss_D: 0.0000\tLoss_G: 12.0959\tD(x): 1.0000\tD(G(z)): 0.0000 / 0.0000\n",
            "[15/100][0/235]\tLoss_D: 0.0000\tLoss_G: 12.1942\tD(x): 1.0000\tD(G(z)): 0.0000 / 0.0000\n",
            "[15/100][50/235]\tLoss_D: 0.0000\tLoss_G: 12.0698\tD(x): 1.0000\tD(G(z)): 0.0000 / 0.0000\n",
            "[15/100][100/235]\tLoss_D: 0.0000\tLoss_G: 12.1029\tD(x): 1.0000\tD(G(z)): 0.0000 / 0.0000\n",
            "[15/100][150/235]\tLoss_D: 0.0000\tLoss_G: 11.6878\tD(x): 1.0000\tD(G(z)): 0.0000 / 0.0000\n",
            "[15/100][200/235]\tLoss_D: 0.0000\tLoss_G: 11.2189\tD(x): 1.0000\tD(G(z)): 0.0000 / 0.0000\n",
            "[16/100][0/235]\tLoss_D: 0.0001\tLoss_G: 10.7190\tD(x): 1.0000\tD(G(z)): 0.0000 / 0.0000\n",
            "[16/100][50/235]\tLoss_D: 63.0228\tLoss_G: 69.9057\tD(x): 0.0000\tD(G(z)): 0.0000 / 0.0000\n",
            "[16/100][100/235]\tLoss_D: 63.0878\tLoss_G: 69.9102\tD(x): 0.0000\tD(G(z)): 0.0000 / 0.0000\n",
            "[16/100][150/235]\tLoss_D: 63.0842\tLoss_G: 69.9066\tD(x): 0.0000\tD(G(z)): 0.0000 / 0.0000\n",
            "[16/100][200/235]\tLoss_D: 63.0477\tLoss_G: 69.9067\tD(x): 0.0000\tD(G(z)): 0.0000 / 0.0000\n",
            "[17/100][0/235]\tLoss_D: 63.1369\tLoss_G: 69.9102\tD(x): 0.0000\tD(G(z)): 0.0000 / 0.0000\n",
            "[17/100][50/235]\tLoss_D: 63.0210\tLoss_G: 69.9085\tD(x): 0.0000\tD(G(z)): 0.0000 / 0.0000\n",
            "[17/100][100/235]\tLoss_D: 63.0289\tLoss_G: 69.9056\tD(x): 0.0000\tD(G(z)): 0.0000 / 0.0000\n",
            "[17/100][150/235]\tLoss_D: 63.0460\tLoss_G: 69.9087\tD(x): 0.0000\tD(G(z)): 0.0000 / 0.0000\n",
            "[17/100][200/235]\tLoss_D: 63.1799\tLoss_G: 69.9114\tD(x): 0.0000\tD(G(z)): 0.0000 / 0.0000\n",
            "[18/100][0/235]\tLoss_D: 63.0497\tLoss_G: 69.9085\tD(x): 0.0000\tD(G(z)): 0.0000 / 0.0000\n",
            "[18/100][50/235]\tLoss_D: 62.9528\tLoss_G: 69.9103\tD(x): 0.0000\tD(G(z)): 0.0000 / 0.0000\n",
            "[18/100][100/235]\tLoss_D: 63.1004\tLoss_G: 69.9064\tD(x): 0.0000\tD(G(z)): 0.0000 / 0.0000\n",
            "[18/100][150/235]\tLoss_D: 63.0715\tLoss_G: 69.9069\tD(x): 0.0000\tD(G(z)): 0.0000 / 0.0000\n",
            "[18/100][200/235]\tLoss_D: 63.1622\tLoss_G: 69.9078\tD(x): 0.0000\tD(G(z)): 0.0000 / 0.0000\n",
            "[19/100][0/235]\tLoss_D: 63.0502\tLoss_G: 69.9090\tD(x): 0.0000\tD(G(z)): 0.0000 / 0.0000\n",
            "[19/100][50/235]\tLoss_D: 63.0867\tLoss_G: 69.9093\tD(x): 0.0000\tD(G(z)): 0.0000 / 0.0000\n",
            "[19/100][100/235]\tLoss_D: 63.0635\tLoss_G: 69.9094\tD(x): 0.0000\tD(G(z)): 0.0000 / 0.0000\n",
            "[19/100][150/235]\tLoss_D: 63.0658\tLoss_G: 69.9069\tD(x): 0.0000\tD(G(z)): 0.0000 / 0.0000\n",
            "[19/100][200/235]\tLoss_D: 63.0531\tLoss_G: 69.9080\tD(x): 0.0000\tD(G(z)): 0.0000 / 0.0000\n",
            "[20/100][0/235]\tLoss_D: 63.1030\tLoss_G: 69.9100\tD(x): 0.0000\tD(G(z)): 0.0000 / 0.0000\n",
            "[20/100][50/235]\tLoss_D: 62.9945\tLoss_G: 69.9088\tD(x): 0.0000\tD(G(z)): 0.0000 / 0.0000\n",
            "[20/100][100/235]\tLoss_D: 63.2688\tLoss_G: 69.9067\tD(x): 0.0000\tD(G(z)): 0.0000 / 0.0000\n",
            "[20/100][150/235]\tLoss_D: 63.0397\tLoss_G: 69.9116\tD(x): 0.0000\tD(G(z)): 0.0000 / 0.0000\n",
            "[20/100][200/235]\tLoss_D: 63.0705\tLoss_G: 69.9082\tD(x): 0.0000\tD(G(z)): 0.0000 / 0.0000\n",
            "[21/100][0/235]\tLoss_D: 63.0328\tLoss_G: 69.9074\tD(x): 0.0000\tD(G(z)): 0.0000 / 0.0000\n",
            "[21/100][50/235]\tLoss_D: 62.9797\tLoss_G: 69.9090\tD(x): 0.0000\tD(G(z)): 0.0000 / 0.0000\n",
            "[21/100][100/235]\tLoss_D: 63.1179\tLoss_G: 69.9078\tD(x): 0.0000\tD(G(z)): 0.0000 / 0.0000\n",
            "[21/100][150/235]\tLoss_D: 63.0203\tLoss_G: 69.9081\tD(x): 0.0000\tD(G(z)): 0.0000 / 0.0000\n",
            "[21/100][200/235]\tLoss_D: 63.1049\tLoss_G: 69.9055\tD(x): 0.0000\tD(G(z)): 0.0000 / 0.0000\n",
            "[22/100][0/235]\tLoss_D: 63.2072\tLoss_G: 69.9093\tD(x): 0.0000\tD(G(z)): 0.0000 / 0.0000\n",
            "[22/100][50/235]\tLoss_D: 63.0210\tLoss_G: 69.9079\tD(x): 0.0000\tD(G(z)): 0.0000 / 0.0000\n",
            "[22/100][100/235]\tLoss_D: 62.9337\tLoss_G: 69.9089\tD(x): 0.0000\tD(G(z)): 0.0000 / 0.0000\n",
            "[22/100][150/235]\tLoss_D: 63.0666\tLoss_G: 69.9036\tD(x): 0.0000\tD(G(z)): 0.0000 / 0.0000\n",
            "[22/100][200/235]\tLoss_D: 63.1487\tLoss_G: 69.9092\tD(x): 0.0000\tD(G(z)): 0.0000 / 0.0000\n",
            "[23/100][0/235]\tLoss_D: 62.9727\tLoss_G: 69.9073\tD(x): 0.0000\tD(G(z)): 0.0000 / 0.0000\n",
            "[23/100][50/235]\tLoss_D: 63.0685\tLoss_G: 69.9089\tD(x): 0.0000\tD(G(z)): 0.0000 / 0.0000\n",
            "[23/100][100/235]\tLoss_D: 63.1066\tLoss_G: 69.9083\tD(x): 0.0000\tD(G(z)): 0.0000 / 0.0000\n",
            "[23/100][150/235]\tLoss_D: 63.0336\tLoss_G: 69.9053\tD(x): 0.0000\tD(G(z)): 0.0000 / 0.0000\n",
            "[23/100][200/235]\tLoss_D: 63.0952\tLoss_G: 69.9049\tD(x): 0.0000\tD(G(z)): 0.0000 / 0.0000\n",
            "[24/100][0/235]\tLoss_D: 63.0908\tLoss_G: 69.9091\tD(x): 0.0000\tD(G(z)): 0.0000 / 0.0000\n",
            "[24/100][50/235]\tLoss_D: 63.0993\tLoss_G: 69.9080\tD(x): 0.0000\tD(G(z)): 0.0000 / 0.0000\n",
            "[24/100][100/235]\tLoss_D: 63.1219\tLoss_G: 69.9060\tD(x): 0.0000\tD(G(z)): 0.0000 / 0.0000\n",
            "[24/100][150/235]\tLoss_D: 63.1422\tLoss_G: 69.9091\tD(x): 0.0000\tD(G(z)): 0.0000 / 0.0000\n",
            "[24/100][200/235]\tLoss_D: 63.1249\tLoss_G: 69.9079\tD(x): 0.0000\tD(G(z)): 0.0000 / 0.0000\n",
            "[25/100][0/235]\tLoss_D: 63.0573\tLoss_G: 69.9089\tD(x): 0.0000\tD(G(z)): 0.0000 / 0.0000\n",
            "[25/100][50/235]\tLoss_D: 63.1279\tLoss_G: 69.9103\tD(x): 0.0000\tD(G(z)): 0.0000 / 0.0000\n",
            "[25/100][100/235]\tLoss_D: 63.0770\tLoss_G: 69.9072\tD(x): 0.0000\tD(G(z)): 0.0000 / 0.0000\n",
            "[25/100][150/235]\tLoss_D: 63.1111\tLoss_G: 69.9088\tD(x): 0.0000\tD(G(z)): 0.0000 / 0.0000\n",
            "[25/100][200/235]\tLoss_D: 63.1373\tLoss_G: 69.9074\tD(x): 0.0000\tD(G(z)): 0.0000 / 0.0000\n",
            "[26/100][0/235]\tLoss_D: 63.0920\tLoss_G: 69.9078\tD(x): 0.0000\tD(G(z)): 0.0000 / 0.0000\n",
            "[26/100][50/235]\tLoss_D: 63.0087\tLoss_G: 69.9020\tD(x): 0.0000\tD(G(z)): 0.0000 / 0.0000\n",
            "[26/100][100/235]\tLoss_D: 63.0226\tLoss_G: 69.9071\tD(x): 0.0000\tD(G(z)): 0.0000 / 0.0000\n",
            "[26/100][150/235]\tLoss_D: 63.1650\tLoss_G: 69.9063\tD(x): 0.0000\tD(G(z)): 0.0000 / 0.0000\n",
            "[26/100][200/235]\tLoss_D: 63.1459\tLoss_G: 69.9079\tD(x): 0.0000\tD(G(z)): 0.0000 / 0.0000\n",
            "[27/100][0/235]\tLoss_D: 63.0139\tLoss_G: 69.9064\tD(x): 0.0000\tD(G(z)): 0.0000 / 0.0000\n",
            "[27/100][50/235]\tLoss_D: 63.0744\tLoss_G: 69.9080\tD(x): 0.0000\tD(G(z)): 0.0000 / 0.0000\n",
            "[27/100][100/235]\tLoss_D: 63.1067\tLoss_G: 69.9086\tD(x): 0.0000\tD(G(z)): 0.0000 / 0.0000\n",
            "[27/100][150/235]\tLoss_D: 63.1614\tLoss_G: 69.9078\tD(x): 0.0000\tD(G(z)): 0.0000 / 0.0000\n",
            "[27/100][200/235]\tLoss_D: 63.0149\tLoss_G: 69.9111\tD(x): 0.0000\tD(G(z)): 0.0000 / 0.0000\n",
            "[28/100][0/235]\tLoss_D: 63.0558\tLoss_G: 69.9060\tD(x): 0.0000\tD(G(z)): 0.0000 / 0.0000\n",
            "[28/100][50/235]\tLoss_D: 63.1778\tLoss_G: 69.9094\tD(x): 0.0000\tD(G(z)): 0.0000 / 0.0000\n",
            "[28/100][100/235]\tLoss_D: 63.0521\tLoss_G: 69.9103\tD(x): 0.0000\tD(G(z)): 0.0000 / 0.0000\n",
            "[28/100][150/235]\tLoss_D: 63.0490\tLoss_G: 69.9033\tD(x): 0.0000\tD(G(z)): 0.0000 / 0.0000\n",
            "[28/100][200/235]\tLoss_D: 63.0427\tLoss_G: 69.9064\tD(x): 0.0000\tD(G(z)): 0.0000 / 0.0000\n",
            "[29/100][0/235]\tLoss_D: 63.1146\tLoss_G: 69.9071\tD(x): 0.0000\tD(G(z)): 0.0000 / 0.0000\n",
            "[29/100][50/235]\tLoss_D: 63.0454\tLoss_G: 69.9081\tD(x): 0.0000\tD(G(z)): 0.0000 / 0.0000\n",
            "[29/100][100/235]\tLoss_D: 63.0119\tLoss_G: 69.9057\tD(x): 0.0000\tD(G(z)): 0.0000 / 0.0000\n",
            "[29/100][150/235]\tLoss_D: 63.1274\tLoss_G: 69.9126\tD(x): 0.0000\tD(G(z)): 0.0000 / 0.0000\n",
            "[29/100][200/235]\tLoss_D: 63.0657\tLoss_G: 69.9059\tD(x): 0.0000\tD(G(z)): 0.0000 / 0.0000\n",
            "[30/100][0/235]\tLoss_D: 62.9728\tLoss_G: 69.9062\tD(x): 0.0000\tD(G(z)): 0.0000 / 0.0000\n",
            "[30/100][50/235]\tLoss_D: 63.0951\tLoss_G: 69.9086\tD(x): 0.0000\tD(G(z)): 0.0000 / 0.0000\n",
            "[30/100][100/235]\tLoss_D: 63.1157\tLoss_G: 69.9084\tD(x): 0.0000\tD(G(z)): 0.0000 / 0.0000\n",
            "[30/100][150/235]\tLoss_D: 63.1241\tLoss_G: 69.9123\tD(x): 0.0000\tD(G(z)): 0.0000 / 0.0000\n",
            "[30/100][200/235]\tLoss_D: 63.0264\tLoss_G: 69.9069\tD(x): 0.0000\tD(G(z)): 0.0000 / 0.0000\n",
            "[31/100][0/235]\tLoss_D: 63.0593\tLoss_G: 69.9076\tD(x): 0.0000\tD(G(z)): 0.0000 / 0.0000\n",
            "[31/100][50/235]\tLoss_D: 63.0726\tLoss_G: 69.9104\tD(x): 0.0000\tD(G(z)): 0.0000 / 0.0000\n",
            "[31/100][100/235]\tLoss_D: 63.0432\tLoss_G: 69.9074\tD(x): 0.0000\tD(G(z)): 0.0000 / 0.0000\n",
            "[31/100][150/235]\tLoss_D: 63.0571\tLoss_G: 69.9120\tD(x): 0.0000\tD(G(z)): 0.0000 / 0.0000\n",
            "[31/100][200/235]\tLoss_D: 63.0439\tLoss_G: 69.9048\tD(x): 0.0000\tD(G(z)): 0.0000 / 0.0000\n",
            "[32/100][0/235]\tLoss_D: 63.1598\tLoss_G: 69.9065\tD(x): 0.0000\tD(G(z)): 0.0000 / 0.0000\n",
            "[32/100][50/235]\tLoss_D: 63.1180\tLoss_G: 69.9111\tD(x): 0.0000\tD(G(z)): 0.0000 / 0.0000\n",
            "[32/100][100/235]\tLoss_D: 63.0304\tLoss_G: 69.9082\tD(x): 0.0000\tD(G(z)): 0.0000 / 0.0000\n",
            "[32/100][150/235]\tLoss_D: 63.0424\tLoss_G: 69.9064\tD(x): 0.0000\tD(G(z)): 0.0000 / 0.0000\n",
            "[32/100][200/235]\tLoss_D: 63.1831\tLoss_G: 69.9105\tD(x): 0.0000\tD(G(z)): 0.0000 / 0.0000\n",
            "[33/100][0/235]\tLoss_D: 63.1401\tLoss_G: 69.9127\tD(x): 0.0000\tD(G(z)): 0.0000 / 0.0000\n",
            "[33/100][50/235]\tLoss_D: 63.0212\tLoss_G: 69.9073\tD(x): 0.0000\tD(G(z)): 0.0000 / 0.0000\n",
            "[33/100][100/235]\tLoss_D: 63.0134\tLoss_G: 69.9090\tD(x): 0.0000\tD(G(z)): 0.0000 / 0.0000\n",
            "[33/100][150/235]\tLoss_D: 63.1098\tLoss_G: 69.9093\tD(x): 0.0000\tD(G(z)): 0.0000 / 0.0000\n",
            "[33/100][200/235]\tLoss_D: 63.0420\tLoss_G: 69.9051\tD(x): 0.0000\tD(G(z)): 0.0000 / 0.0000\n",
            "[34/100][0/235]\tLoss_D: 63.1156\tLoss_G: 69.9090\tD(x): 0.0000\tD(G(z)): 0.0000 / 0.0000\n",
            "[34/100][50/235]\tLoss_D: 63.0326\tLoss_G: 69.9107\tD(x): 0.0000\tD(G(z)): 0.0000 / 0.0000\n",
            "[34/100][100/235]\tLoss_D: 63.1065\tLoss_G: 69.9098\tD(x): 0.0000\tD(G(z)): 0.0000 / 0.0000\n",
            "[34/100][150/235]\tLoss_D: 63.0260\tLoss_G: 69.9057\tD(x): 0.0000\tD(G(z)): 0.0000 / 0.0000\n",
            "[34/100][200/235]\tLoss_D: 63.0884\tLoss_G: 69.9088\tD(x): 0.0000\tD(G(z)): 0.0000 / 0.0000\n",
            "[35/100][0/235]\tLoss_D: 63.0700\tLoss_G: 69.9073\tD(x): 0.0000\tD(G(z)): 0.0000 / 0.0000\n",
            "[35/100][50/235]\tLoss_D: 63.0221\tLoss_G: 69.9085\tD(x): 0.0000\tD(G(z)): 0.0000 / 0.0000\n",
            "[35/100][100/235]\tLoss_D: 63.1050\tLoss_G: 69.9072\tD(x): 0.0000\tD(G(z)): 0.0000 / 0.0000\n",
            "[35/100][150/235]\tLoss_D: 63.0416\tLoss_G: 69.9096\tD(x): 0.0000\tD(G(z)): 0.0000 / 0.0000\n",
            "[35/100][200/235]\tLoss_D: 63.0258\tLoss_G: 69.9030\tD(x): 0.0000\tD(G(z)): 0.0000 / 0.0000\n",
            "[36/100][0/235]\tLoss_D: 63.0413\tLoss_G: 69.9102\tD(x): 0.0000\tD(G(z)): 0.0000 / 0.0000\n",
            "[36/100][50/235]\tLoss_D: 63.0382\tLoss_G: 69.9086\tD(x): 0.0000\tD(G(z)): 0.0000 / 0.0000\n",
            "[36/100][100/235]\tLoss_D: 63.0583\tLoss_G: 69.9074\tD(x): 0.0000\tD(G(z)): 0.0000 / 0.0000\n",
            "[36/100][150/235]\tLoss_D: 63.0313\tLoss_G: 69.9127\tD(x): 0.0000\tD(G(z)): 0.0000 / 0.0000\n",
            "[36/100][200/235]\tLoss_D: 63.1201\tLoss_G: 69.9090\tD(x): 0.0000\tD(G(z)): 0.0000 / 0.0000\n",
            "[37/100][0/235]\tLoss_D: 62.9694\tLoss_G: 69.9099\tD(x): 0.0000\tD(G(z)): 0.0000 / 0.0000\n",
            "[37/100][50/235]\tLoss_D: 63.1049\tLoss_G: 69.9074\tD(x): 0.0000\tD(G(z)): 0.0000 / 0.0000\n",
            "[37/100][100/235]\tLoss_D: 63.1744\tLoss_G: 69.9064\tD(x): 0.0000\tD(G(z)): 0.0000 / 0.0000\n",
            "[37/100][150/235]\tLoss_D: 63.0407\tLoss_G: 69.9067\tD(x): 0.0000\tD(G(z)): 0.0000 / 0.0000\n",
            "[37/100][200/235]\tLoss_D: 63.0191\tLoss_G: 69.9057\tD(x): 0.0000\tD(G(z)): 0.0000 / 0.0000\n",
            "[38/100][0/235]\tLoss_D: 63.1480\tLoss_G: 69.9063\tD(x): 0.0000\tD(G(z)): 0.0000 / 0.0000\n",
            "[38/100][50/235]\tLoss_D: 63.1049\tLoss_G: 69.9125\tD(x): 0.0000\tD(G(z)): 0.0000 / 0.0000\n",
            "[38/100][100/235]\tLoss_D: 63.0226\tLoss_G: 69.9085\tD(x): 0.0000\tD(G(z)): 0.0000 / 0.0000\n",
            "[38/100][150/235]\tLoss_D: 63.1945\tLoss_G: 69.9059\tD(x): 0.0000\tD(G(z)): 0.0000 / 0.0000\n",
            "[38/100][200/235]\tLoss_D: 62.9821\tLoss_G: 69.9084\tD(x): 0.0000\tD(G(z)): 0.0000 / 0.0000\n",
            "[39/100][0/235]\tLoss_D: 63.0485\tLoss_G: 69.9072\tD(x): 0.0000\tD(G(z)): 0.0000 / 0.0000\n",
            "[39/100][50/235]\tLoss_D: 63.0182\tLoss_G: 69.9104\tD(x): 0.0000\tD(G(z)): 0.0000 / 0.0000\n",
            "[39/100][100/235]\tLoss_D: 63.0437\tLoss_G: 69.9099\tD(x): 0.0000\tD(G(z)): 0.0000 / 0.0000\n",
            "[39/100][150/235]\tLoss_D: 63.0832\tLoss_G: 69.9093\tD(x): 0.0000\tD(G(z)): 0.0000 / 0.0000\n",
            "[39/100][200/235]\tLoss_D: 63.1694\tLoss_G: 69.9103\tD(x): 0.0000\tD(G(z)): 0.0000 / 0.0000\n",
            "[40/100][0/235]\tLoss_D: 63.0347\tLoss_G: 69.9061\tD(x): 0.0000\tD(G(z)): 0.0000 / 0.0000\n",
            "[40/100][50/235]\tLoss_D: 63.0699\tLoss_G: 69.9091\tD(x): 0.0000\tD(G(z)): 0.0000 / 0.0000\n",
            "[40/100][100/235]\tLoss_D: 63.1055\tLoss_G: 69.9078\tD(x): 0.0000\tD(G(z)): 0.0000 / 0.0000\n",
            "[40/100][150/235]\tLoss_D: 63.0769\tLoss_G: 69.9082\tD(x): 0.0000\tD(G(z)): 0.0000 / 0.0000\n",
            "[40/100][200/235]\tLoss_D: 63.0479\tLoss_G: 69.9091\tD(x): 0.0000\tD(G(z)): 0.0000 / 0.0000\n",
            "[41/100][0/235]\tLoss_D: 63.0977\tLoss_G: 69.9066\tD(x): 0.0000\tD(G(z)): 0.0000 / 0.0000\n",
            "[41/100][50/235]\tLoss_D: 62.9280\tLoss_G: 69.9113\tD(x): 0.0000\tD(G(z)): 0.0000 / 0.0000\n",
            "[41/100][100/235]\tLoss_D: 63.1201\tLoss_G: 69.9090\tD(x): 0.0000\tD(G(z)): 0.0000 / 0.0000\n",
            "[41/100][150/235]\tLoss_D: 63.0974\tLoss_G: 69.9058\tD(x): 0.0000\tD(G(z)): 0.0000 / 0.0000\n",
            "[41/100][200/235]\tLoss_D: 63.0150\tLoss_G: 69.9063\tD(x): 0.0000\tD(G(z)): 0.0000 / 0.0000\n",
            "[42/100][0/235]\tLoss_D: 63.0356\tLoss_G: 69.9120\tD(x): 0.0000\tD(G(z)): 0.0000 / 0.0000\n",
            "[42/100][50/235]\tLoss_D: 63.0312\tLoss_G: 69.9101\tD(x): 0.0000\tD(G(z)): 0.0000 / 0.0000\n",
            "[42/100][100/235]\tLoss_D: 63.0886\tLoss_G: 69.9100\tD(x): 0.0000\tD(G(z)): 0.0000 / 0.0000\n",
            "[42/100][150/235]\tLoss_D: 63.0911\tLoss_G: 69.9081\tD(x): 0.0000\tD(G(z)): 0.0000 / 0.0000\n",
            "[42/100][200/235]\tLoss_D: 62.9843\tLoss_G: 69.9088\tD(x): 0.0000\tD(G(z)): 0.0000 / 0.0000\n",
            "[43/100][0/235]\tLoss_D: 63.1048\tLoss_G: 69.9088\tD(x): 0.0000\tD(G(z)): 0.0000 / 0.0000\n",
            "[43/100][50/235]\tLoss_D: 63.0440\tLoss_G: 69.9127\tD(x): 0.0000\tD(G(z)): 0.0000 / 0.0000\n",
            "[43/100][100/235]\tLoss_D: 63.0864\tLoss_G: 69.9066\tD(x): 0.0000\tD(G(z)): 0.0000 / 0.0000\n",
            "[43/100][150/235]\tLoss_D: 63.1472\tLoss_G: 69.9077\tD(x): 0.0000\tD(G(z)): 0.0000 / 0.0000\n",
            "[43/100][200/235]\tLoss_D: 63.0172\tLoss_G: 69.9098\tD(x): 0.0000\tD(G(z)): 0.0000 / 0.0000\n",
            "[44/100][0/235]\tLoss_D: 63.0848\tLoss_G: 69.9089\tD(x): 0.0000\tD(G(z)): 0.0000 / 0.0000\n",
            "[44/100][50/235]\tLoss_D: 63.0571\tLoss_G: 69.9078\tD(x): 0.0000\tD(G(z)): 0.0000 / 0.0000\n",
            "[44/100][100/235]\tLoss_D: 63.0462\tLoss_G: 69.9096\tD(x): 0.0000\tD(G(z)): 0.0000 / 0.0000\n",
            "[44/100][150/235]\tLoss_D: 63.1917\tLoss_G: 69.9121\tD(x): 0.0000\tD(G(z)): 0.0000 / 0.0000\n",
            "[44/100][200/235]\tLoss_D: 63.0903\tLoss_G: 69.9069\tD(x): 0.0000\tD(G(z)): 0.0000 / 0.0000\n",
            "[45/100][0/235]\tLoss_D: 63.0126\tLoss_G: 69.9086\tD(x): 0.0000\tD(G(z)): 0.0000 / 0.0000\n",
            "[45/100][50/235]\tLoss_D: 63.0203\tLoss_G: 69.9125\tD(x): 0.0000\tD(G(z)): 0.0000 / 0.0000\n",
            "[45/100][100/235]\tLoss_D: 63.0865\tLoss_G: 69.9066\tD(x): 0.0000\tD(G(z)): 0.0000 / 0.0000\n",
            "[45/100][150/235]\tLoss_D: 63.1443\tLoss_G: 69.9076\tD(x): 0.0000\tD(G(z)): 0.0000 / 0.0000\n",
            "[45/100][200/235]\tLoss_D: 63.0018\tLoss_G: 69.9061\tD(x): 0.0000\tD(G(z)): 0.0000 / 0.0000\n",
            "[46/100][0/235]\tLoss_D: 63.1744\tLoss_G: 69.9056\tD(x): 0.0000\tD(G(z)): 0.0000 / 0.0000\n",
            "[46/100][50/235]\tLoss_D: 63.1318\tLoss_G: 69.9071\tD(x): 0.0000\tD(G(z)): 0.0000 / 0.0000\n",
            "[46/100][100/235]\tLoss_D: 63.0785\tLoss_G: 69.9107\tD(x): 0.0000\tD(G(z)): 0.0000 / 0.0000\n",
            "[46/100][150/235]\tLoss_D: 63.0015\tLoss_G: 69.9101\tD(x): 0.0000\tD(G(z)): 0.0000 / 0.0000\n",
            "[46/100][200/235]\tLoss_D: 63.0229\tLoss_G: 69.9081\tD(x): 0.0000\tD(G(z)): 0.0000 / 0.0000\n",
            "[47/100][0/235]\tLoss_D: 63.0838\tLoss_G: 69.9089\tD(x): 0.0000\tD(G(z)): 0.0000 / 0.0000\n",
            "[47/100][50/235]\tLoss_D: 63.0169\tLoss_G: 69.9059\tD(x): 0.0000\tD(G(z)): 0.0000 / 0.0000\n",
            "[47/100][100/235]\tLoss_D: 63.1305\tLoss_G: 69.9096\tD(x): 0.0000\tD(G(z)): 0.0000 / 0.0000\n",
            "[47/100][150/235]\tLoss_D: 63.0932\tLoss_G: 69.9075\tD(x): 0.0000\tD(G(z)): 0.0000 / 0.0000\n",
            "[47/100][200/235]\tLoss_D: 63.0589\tLoss_G: 69.9059\tD(x): 0.0000\tD(G(z)): 0.0000 / 0.0000\n",
            "[48/100][0/235]\tLoss_D: 63.0994\tLoss_G: 69.9084\tD(x): 0.0000\tD(G(z)): 0.0000 / 0.0000\n",
            "[48/100][50/235]\tLoss_D: 63.0183\tLoss_G: 69.9081\tD(x): 0.0000\tD(G(z)): 0.0000 / 0.0000\n",
            "[48/100][100/235]\tLoss_D: 62.9468\tLoss_G: 69.9117\tD(x): 0.0000\tD(G(z)): 0.0000 / 0.0000\n",
            "[48/100][150/235]\tLoss_D: 63.0554\tLoss_G: 69.9036\tD(x): 0.0000\tD(G(z)): 0.0000 / 0.0000\n",
            "[48/100][200/235]\tLoss_D: 63.0214\tLoss_G: 69.9137\tD(x): 0.0000\tD(G(z)): 0.0000 / 0.0000\n",
            "[49/100][0/235]\tLoss_D: 63.1038\tLoss_G: 69.9082\tD(x): 0.0000\tD(G(z)): 0.0000 / 0.0000\n",
            "[49/100][50/235]\tLoss_D: 63.0658\tLoss_G: 69.9095\tD(x): 0.0000\tD(G(z)): 0.0000 / 0.0000\n",
            "[49/100][100/235]\tLoss_D: 63.1174\tLoss_G: 69.9084\tD(x): 0.0000\tD(G(z)): 0.0000 / 0.0000\n",
            "[49/100][150/235]\tLoss_D: 63.1403\tLoss_G: 69.9071\tD(x): 0.0000\tD(G(z)): 0.0000 / 0.0000\n",
            "[49/100][200/235]\tLoss_D: 63.0660\tLoss_G: 69.9109\tD(x): 0.0000\tD(G(z)): 0.0000 / 0.0000\n",
            "[50/100][0/235]\tLoss_D: 63.0606\tLoss_G: 69.9077\tD(x): 0.0000\tD(G(z)): 0.0000 / 0.0000\n",
            "[50/100][50/235]\tLoss_D: 63.0203\tLoss_G: 69.9096\tD(x): 0.0000\tD(G(z)): 0.0000 / 0.0000\n",
            "[50/100][100/235]\tLoss_D: 63.1603\tLoss_G: 69.9063\tD(x): 0.0000\tD(G(z)): 0.0000 / 0.0000\n",
            "[50/100][150/235]\tLoss_D: 63.0485\tLoss_G: 69.9094\tD(x): 0.0000\tD(G(z)): 0.0000 / 0.0000\n",
            "[50/100][200/235]\tLoss_D: 63.0388\tLoss_G: 69.9032\tD(x): 0.0000\tD(G(z)): 0.0000 / 0.0000\n",
            "[51/100][0/235]\tLoss_D: 63.0766\tLoss_G: 69.9092\tD(x): 0.0000\tD(G(z)): 0.0000 / 0.0000\n",
            "[51/100][50/235]\tLoss_D: 63.0331\tLoss_G: 69.9110\tD(x): 0.0000\tD(G(z)): 0.0000 / 0.0000\n",
            "[51/100][100/235]\tLoss_D: 63.1593\tLoss_G: 69.9072\tD(x): 0.0000\tD(G(z)): 0.0000 / 0.0000\n",
            "[51/100][150/235]\tLoss_D: 63.0686\tLoss_G: 69.9059\tD(x): 0.0000\tD(G(z)): 0.0000 / 0.0000\n",
            "[51/100][200/235]\tLoss_D: 63.0831\tLoss_G: 69.9071\tD(x): 0.0000\tD(G(z)): 0.0000 / 0.0000\n",
            "[52/100][0/235]\tLoss_D: 63.0700\tLoss_G: 69.9074\tD(x): 0.0000\tD(G(z)): 0.0000 / 0.0000\n",
            "[52/100][50/235]\tLoss_D: 63.0908\tLoss_G: 69.9052\tD(x): 0.0000\tD(G(z)): 0.0000 / 0.0000\n",
            "[52/100][100/235]\tLoss_D: 63.0420\tLoss_G: 69.9030\tD(x): 0.0000\tD(G(z)): 0.0000 / 0.0000\n",
            "[52/100][150/235]\tLoss_D: 63.0328\tLoss_G: 69.9103\tD(x): 0.0000\tD(G(z)): 0.0000 / 0.0000\n",
            "[52/100][200/235]\tLoss_D: 62.9647\tLoss_G: 69.9078\tD(x): 0.0000\tD(G(z)): 0.0000 / 0.0000\n",
            "[53/100][0/235]\tLoss_D: 63.0867\tLoss_G: 69.9087\tD(x): 0.0000\tD(G(z)): 0.0000 / 0.0000\n",
            "[53/100][50/235]\tLoss_D: 63.0459\tLoss_G: 69.9086\tD(x): 0.0000\tD(G(z)): 0.0000 / 0.0000\n",
            "[53/100][100/235]\tLoss_D: 63.1321\tLoss_G: 69.9062\tD(x): 0.0000\tD(G(z)): 0.0000 / 0.0000\n",
            "[53/100][150/235]\tLoss_D: 63.0498\tLoss_G: 69.9108\tD(x): 0.0000\tD(G(z)): 0.0000 / 0.0000\n",
            "[53/100][200/235]\tLoss_D: 63.1239\tLoss_G: 69.9087\tD(x): 0.0000\tD(G(z)): 0.0000 / 0.0000\n",
            "[54/100][0/235]\tLoss_D: 63.0768\tLoss_G: 69.9080\tD(x): 0.0000\tD(G(z)): 0.0000 / 0.0000\n",
            "[54/100][50/235]\tLoss_D: 63.1344\tLoss_G: 69.9068\tD(x): 0.0000\tD(G(z)): 0.0000 / 0.0000\n",
            "[54/100][100/235]\tLoss_D: 63.0432\tLoss_G: 69.9123\tD(x): 0.0000\tD(G(z)): 0.0000 / 0.0000\n",
            "[54/100][150/235]\tLoss_D: 63.0854\tLoss_G: 69.9119\tD(x): 0.0000\tD(G(z)): 0.0000 / 0.0000\n",
            "[54/100][200/235]\tLoss_D: 63.0656\tLoss_G: 69.9083\tD(x): 0.0000\tD(G(z)): 0.0000 / 0.0000\n",
            "[55/100][0/235]\tLoss_D: 62.9675\tLoss_G: 69.9084\tD(x): 0.0000\tD(G(z)): 0.0000 / 0.0000\n",
            "[55/100][50/235]\tLoss_D: 63.0966\tLoss_G: 69.9121\tD(x): 0.0000\tD(G(z)): 0.0000 / 0.0000\n",
            "[55/100][100/235]\tLoss_D: 63.0738\tLoss_G: 69.9059\tD(x): 0.0000\tD(G(z)): 0.0000 / 0.0000\n",
            "[55/100][150/235]\tLoss_D: 63.0727\tLoss_G: 69.9063\tD(x): 0.0000\tD(G(z)): 0.0000 / 0.0000\n",
            "[55/100][200/235]\tLoss_D: 63.1370\tLoss_G: 69.9081\tD(x): 0.0000\tD(G(z)): 0.0000 / 0.0000\n",
            "[56/100][0/235]\tLoss_D: 63.1543\tLoss_G: 69.9062\tD(x): 0.0000\tD(G(z)): 0.0000 / 0.0000\n",
            "[56/100][50/235]\tLoss_D: 63.0602\tLoss_G: 69.9089\tD(x): 0.0000\tD(G(z)): 0.0000 / 0.0000\n",
            "[56/100][100/235]\tLoss_D: 63.0273\tLoss_G: 69.9117\tD(x): 0.0000\tD(G(z)): 0.0000 / 0.0000\n",
            "[56/100][150/235]\tLoss_D: 63.1554\tLoss_G: 69.9068\tD(x): 0.0000\tD(G(z)): 0.0000 / 0.0000\n",
            "[56/100][200/235]\tLoss_D: 62.9819\tLoss_G: 69.9056\tD(x): 0.0000\tD(G(z)): 0.0000 / 0.0000\n",
            "[57/100][0/235]\tLoss_D: 63.1575\tLoss_G: 69.9107\tD(x): 0.0000\tD(G(z)): 0.0000 / 0.0000\n",
            "[57/100][50/235]\tLoss_D: 63.0079\tLoss_G: 69.9091\tD(x): 0.0000\tD(G(z)): 0.0000 / 0.0000\n",
            "[57/100][100/235]\tLoss_D: 63.1413\tLoss_G: 69.9111\tD(x): 0.0000\tD(G(z)): 0.0000 / 0.0000\n",
            "[57/100][150/235]\tLoss_D: 63.0540\tLoss_G: 69.9072\tD(x): 0.0000\tD(G(z)): 0.0000 / 0.0000\n",
            "[57/100][200/235]\tLoss_D: 63.1093\tLoss_G: 69.9103\tD(x): 0.0000\tD(G(z)): 0.0000 / 0.0000\n",
            "[58/100][0/235]\tLoss_D: 63.1677\tLoss_G: 69.9118\tD(x): 0.0000\tD(G(z)): 0.0000 / 0.0000\n",
            "[58/100][50/235]\tLoss_D: 63.0560\tLoss_G: 69.9105\tD(x): 0.0000\tD(G(z)): 0.0000 / 0.0000\n",
            "[58/100][100/235]\tLoss_D: 63.1003\tLoss_G: 69.9075\tD(x): 0.0000\tD(G(z)): 0.0000 / 0.0000\n",
            "[58/100][150/235]\tLoss_D: 63.1219\tLoss_G: 69.9069\tD(x): 0.0000\tD(G(z)): 0.0000 / 0.0000\n",
            "[58/100][200/235]\tLoss_D: 63.0687\tLoss_G: 69.9098\tD(x): 0.0000\tD(G(z)): 0.0000 / 0.0000\n",
            "[59/100][0/235]\tLoss_D: 62.9998\tLoss_G: 69.9110\tD(x): 0.0000\tD(G(z)): 0.0000 / 0.0000\n",
            "[59/100][50/235]\tLoss_D: 63.0177\tLoss_G: 69.9059\tD(x): 0.0000\tD(G(z)): 0.0000 / 0.0000\n",
            "[59/100][100/235]\tLoss_D: 63.1093\tLoss_G: 69.9058\tD(x): 0.0000\tD(G(z)): 0.0000 / 0.0000\n",
            "[59/100][150/235]\tLoss_D: 63.1377\tLoss_G: 69.9111\tD(x): 0.0000\tD(G(z)): 0.0000 / 0.0000\n",
            "[59/100][200/235]\tLoss_D: 63.2147\tLoss_G: 69.9093\tD(x): 0.0000\tD(G(z)): 0.0000 / 0.0000\n",
            "[60/100][0/235]\tLoss_D: 63.0799\tLoss_G: 69.9080\tD(x): 0.0000\tD(G(z)): 0.0000 / 0.0000\n",
            "[60/100][50/235]\tLoss_D: 63.0759\tLoss_G: 69.9083\tD(x): 0.0000\tD(G(z)): 0.0000 / 0.0000\n",
            "[60/100][100/235]\tLoss_D: 63.0756\tLoss_G: 69.9072\tD(x): 0.0000\tD(G(z)): 0.0000 / 0.0000\n",
            "[60/100][150/235]\tLoss_D: 63.0568\tLoss_G: 69.9126\tD(x): 0.0000\tD(G(z)): 0.0000 / 0.0000\n",
            "[60/100][200/235]\tLoss_D: 63.0731\tLoss_G: 69.9089\tD(x): 0.0000\tD(G(z)): 0.0000 / 0.0000\n",
            "[61/100][0/235]\tLoss_D: 63.1138\tLoss_G: 69.9077\tD(x): 0.0000\tD(G(z)): 0.0000 / 0.0000\n",
            "[61/100][50/235]\tLoss_D: 63.1480\tLoss_G: 69.9082\tD(x): 0.0000\tD(G(z)): 0.0000 / 0.0000\n",
            "[61/100][100/235]\tLoss_D: 63.0435\tLoss_G: 69.9116\tD(x): 0.0000\tD(G(z)): 0.0000 / 0.0000\n",
            "[61/100][150/235]\tLoss_D: 63.0499\tLoss_G: 69.9065\tD(x): 0.0000\tD(G(z)): 0.0000 / 0.0000\n",
            "[61/100][200/235]\tLoss_D: 63.1140\tLoss_G: 69.9115\tD(x): 0.0000\tD(G(z)): 0.0000 / 0.0000\n",
            "[62/100][0/235]\tLoss_D: 63.1210\tLoss_G: 69.9060\tD(x): 0.0000\tD(G(z)): 0.0000 / 0.0000\n",
            "[62/100][50/235]\tLoss_D: 63.0732\tLoss_G: 69.9091\tD(x): 0.0000\tD(G(z)): 0.0000 / 0.0000\n",
            "[62/100][100/235]\tLoss_D: 63.0840\tLoss_G: 69.9080\tD(x): 0.0000\tD(G(z)): 0.0000 / 0.0000\n",
            "[62/100][150/235]\tLoss_D: 63.0977\tLoss_G: 69.9098\tD(x): 0.0000\tD(G(z)): 0.0000 / 0.0000\n",
            "[62/100][200/235]\tLoss_D: 63.0414\tLoss_G: 69.9075\tD(x): 0.0000\tD(G(z)): 0.0000 / 0.0000\n",
            "[63/100][0/235]\tLoss_D: 63.0856\tLoss_G: 69.9075\tD(x): 0.0000\tD(G(z)): 0.0000 / 0.0000\n",
            "[63/100][50/235]\tLoss_D: 63.0032\tLoss_G: 69.9098\tD(x): 0.0000\tD(G(z)): 0.0000 / 0.0000\n",
            "[63/100][100/235]\tLoss_D: 63.1146\tLoss_G: 69.9111\tD(x): 0.0000\tD(G(z)): 0.0000 / 0.0000\n",
            "[63/100][150/235]\tLoss_D: 63.0734\tLoss_G: 69.9063\tD(x): 0.0000\tD(G(z)): 0.0000 / 0.0000\n",
            "[63/100][200/235]\tLoss_D: 63.1430\tLoss_G: 69.9066\tD(x): 0.0000\tD(G(z)): 0.0000 / 0.0000\n",
            "[64/100][0/235]\tLoss_D: 63.0967\tLoss_G: 69.9087\tD(x): 0.0000\tD(G(z)): 0.0000 / 0.0000\n",
            "[64/100][50/235]\tLoss_D: 62.9836\tLoss_G: 69.9124\tD(x): 0.0000\tD(G(z)): 0.0000 / 0.0000\n",
            "[64/100][100/235]\tLoss_D: 63.1117\tLoss_G: 69.9138\tD(x): 0.0000\tD(G(z)): 0.0000 / 0.0000\n",
            "[64/100][150/235]\tLoss_D: 63.1489\tLoss_G: 69.9069\tD(x): 0.0000\tD(G(z)): 0.0000 / 0.0000\n",
            "[64/100][200/235]\tLoss_D: 63.0907\tLoss_G: 69.9046\tD(x): 0.0000\tD(G(z)): 0.0000 / 0.0000\n",
            "[65/100][0/235]\tLoss_D: 63.0581\tLoss_G: 69.9092\tD(x): 0.0000\tD(G(z)): 0.0000 / 0.0000\n",
            "[65/100][50/235]\tLoss_D: 63.0474\tLoss_G: 69.9093\tD(x): 0.0000\tD(G(z)): 0.0000 / 0.0000\n",
            "[65/100][100/235]\tLoss_D: 63.0937\tLoss_G: 69.9065\tD(x): 0.0000\tD(G(z)): 0.0000 / 0.0000\n",
            "[65/100][150/235]\tLoss_D: 63.1056\tLoss_G: 69.9056\tD(x): 0.0000\tD(G(z)): 0.0000 / 0.0000\n",
            "[65/100][200/235]\tLoss_D: 63.1246\tLoss_G: 69.9082\tD(x): 0.0000\tD(G(z)): 0.0000 / 0.0000\n",
            "[66/100][0/235]\tLoss_D: 63.0170\tLoss_G: 69.9063\tD(x): 0.0000\tD(G(z)): 0.0000 / 0.0000\n",
            "[66/100][50/235]\tLoss_D: 63.0937\tLoss_G: 69.9094\tD(x): 0.0000\tD(G(z)): 0.0000 / 0.0000\n",
            "[66/100][100/235]\tLoss_D: 63.1283\tLoss_G: 69.9098\tD(x): 0.0000\tD(G(z)): 0.0000 / 0.0000\n",
            "[66/100][150/235]\tLoss_D: 63.0631\tLoss_G: 69.9064\tD(x): 0.0000\tD(G(z)): 0.0000 / 0.0000\n",
            "[66/100][200/235]\tLoss_D: 63.1493\tLoss_G: 69.9074\tD(x): 0.0000\tD(G(z)): 0.0000 / 0.0000\n",
            "[67/100][0/235]\tLoss_D: 63.1200\tLoss_G: 69.9082\tD(x): 0.0000\tD(G(z)): 0.0000 / 0.0000\n",
            "[67/100][50/235]\tLoss_D: 63.0737\tLoss_G: 69.9086\tD(x): 0.0000\tD(G(z)): 0.0000 / 0.0000\n",
            "[67/100][100/235]\tLoss_D: 63.1105\tLoss_G: 69.9059\tD(x): 0.0000\tD(G(z)): 0.0000 / 0.0000\n",
            "[67/100][150/235]\tLoss_D: 63.1852\tLoss_G: 69.9128\tD(x): 0.0000\tD(G(z)): 0.0000 / 0.0000\n",
            "[67/100][200/235]\tLoss_D: 63.0459\tLoss_G: 69.9076\tD(x): 0.0000\tD(G(z)): 0.0000 / 0.0000\n",
            "[68/100][0/235]\tLoss_D: 63.0715\tLoss_G: 69.9078\tD(x): 0.0000\tD(G(z)): 0.0000 / 0.0000\n",
            "[68/100][50/235]\tLoss_D: 63.1005\tLoss_G: 69.9112\tD(x): 0.0000\tD(G(z)): 0.0000 / 0.0000\n",
            "[68/100][100/235]\tLoss_D: 63.0899\tLoss_G: 69.9075\tD(x): 0.0000\tD(G(z)): 0.0000 / 0.0000\n",
            "[68/100][150/235]\tLoss_D: 63.1326\tLoss_G: 69.9079\tD(x): 0.0000\tD(G(z)): 0.0000 / 0.0000\n",
            "[68/100][200/235]\tLoss_D: 63.1274\tLoss_G: 69.9066\tD(x): 0.0000\tD(G(z)): 0.0000 / 0.0000\n",
            "[69/100][0/235]\tLoss_D: 63.1076\tLoss_G: 69.9068\tD(x): 0.0000\tD(G(z)): 0.0000 / 0.0000\n",
            "[69/100][50/235]\tLoss_D: 63.0714\tLoss_G: 69.9102\tD(x): 0.0000\tD(G(z)): 0.0000 / 0.0000\n",
            "[69/100][100/235]\tLoss_D: 63.0607\tLoss_G: 69.9057\tD(x): 0.0000\tD(G(z)): 0.0000 / 0.0000\n",
            "[69/100][150/235]\tLoss_D: 63.1300\tLoss_G: 69.9091\tD(x): 0.0000\tD(G(z)): 0.0000 / 0.0000\n",
            "[69/100][200/235]\tLoss_D: 63.0543\tLoss_G: 69.9054\tD(x): 0.0000\tD(G(z)): 0.0000 / 0.0000\n",
            "[70/100][0/235]\tLoss_D: 63.0898\tLoss_G: 69.9070\tD(x): 0.0000\tD(G(z)): 0.0000 / 0.0000\n",
            "[70/100][50/235]\tLoss_D: 63.1195\tLoss_G: 69.9088\tD(x): 0.0000\tD(G(z)): 0.0000 / 0.0000\n",
            "[70/100][100/235]\tLoss_D: 63.0104\tLoss_G: 69.9096\tD(x): 0.0000\tD(G(z)): 0.0000 / 0.0000\n",
            "[70/100][150/235]\tLoss_D: 63.0665\tLoss_G: 69.9111\tD(x): 0.0000\tD(G(z)): 0.0000 / 0.0000\n",
            "[70/100][200/235]\tLoss_D: 63.0667\tLoss_G: 69.9115\tD(x): 0.0000\tD(G(z)): 0.0000 / 0.0000\n",
            "[71/100][0/235]\tLoss_D: 63.1240\tLoss_G: 69.9090\tD(x): 0.0000\tD(G(z)): 0.0000 / 0.0000\n",
            "[71/100][50/235]\tLoss_D: 63.0281\tLoss_G: 69.9083\tD(x): 0.0000\tD(G(z)): 0.0000 / 0.0000\n",
            "[71/100][100/235]\tLoss_D: 63.1797\tLoss_G: 69.9071\tD(x): 0.0000\tD(G(z)): 0.0000 / 0.0000\n",
            "[71/100][150/235]\tLoss_D: 63.0154\tLoss_G: 69.9133\tD(x): 0.0000\tD(G(z)): 0.0000 / 0.0000\n",
            "[71/100][200/235]\tLoss_D: 63.0588\tLoss_G: 69.9072\tD(x): 0.0000\tD(G(z)): 0.0000 / 0.0000\n",
            "[72/100][0/235]\tLoss_D: 63.0441\tLoss_G: 69.9024\tD(x): 0.0000\tD(G(z)): 0.0000 / 0.0000\n",
            "[72/100][50/235]\tLoss_D: 63.1039\tLoss_G: 69.9123\tD(x): 0.0000\tD(G(z)): 0.0000 / 0.0000\n",
            "[72/100][100/235]\tLoss_D: 63.0879\tLoss_G: 69.9068\tD(x): 0.0000\tD(G(z)): 0.0000 / 0.0000\n",
            "[72/100][150/235]\tLoss_D: 63.0886\tLoss_G: 69.9085\tD(x): 0.0000\tD(G(z)): 0.0000 / 0.0000\n",
            "[72/100][200/235]\tLoss_D: 63.1049\tLoss_G: 69.9065\tD(x): 0.0000\tD(G(z)): 0.0000 / 0.0000\n",
            "[73/100][0/235]\tLoss_D: 63.0166\tLoss_G: 69.9069\tD(x): 0.0000\tD(G(z)): 0.0000 / 0.0000\n",
            "[73/100][50/235]\tLoss_D: 63.0057\tLoss_G: 69.9096\tD(x): 0.0000\tD(G(z)): 0.0000 / 0.0000\n",
            "[73/100][100/235]\tLoss_D: 63.0434\tLoss_G: 69.9063\tD(x): 0.0000\tD(G(z)): 0.0000 / 0.0000\n",
            "[73/100][150/235]\tLoss_D: 63.1123\tLoss_G: 69.9061\tD(x): 0.0000\tD(G(z)): 0.0000 / 0.0000\n",
            "[73/100][200/235]\tLoss_D: 63.1197\tLoss_G: 69.9083\tD(x): 0.0000\tD(G(z)): 0.0000 / 0.0000\n",
            "[74/100][0/235]\tLoss_D: 63.0715\tLoss_G: 69.9070\tD(x): 0.0000\tD(G(z)): 0.0000 / 0.0000\n",
            "[74/100][50/235]\tLoss_D: 63.1121\tLoss_G: 69.9140\tD(x): 0.0000\tD(G(z)): 0.0000 / 0.0000\n",
            "[74/100][100/235]\tLoss_D: 63.1148\tLoss_G: 69.9070\tD(x): 0.0000\tD(G(z)): 0.0000 / 0.0000\n",
            "[74/100][150/235]\tLoss_D: 63.1541\tLoss_G: 69.9092\tD(x): 0.0000\tD(G(z)): 0.0000 / 0.0000\n",
            "[74/100][200/235]\tLoss_D: 63.0857\tLoss_G: 69.9103\tD(x): 0.0000\tD(G(z)): 0.0000 / 0.0000\n",
            "[75/100][0/235]\tLoss_D: 63.0705\tLoss_G: 69.9087\tD(x): 0.0000\tD(G(z)): 0.0000 / 0.0000\n",
            "[75/100][50/235]\tLoss_D: 63.1327\tLoss_G: 69.9112\tD(x): 0.0000\tD(G(z)): 0.0000 / 0.0000\n",
            "[75/100][100/235]\tLoss_D: 63.0391\tLoss_G: 69.9078\tD(x): 0.0000\tD(G(z)): 0.0000 / 0.0000\n",
            "[75/100][150/235]\tLoss_D: 63.0031\tLoss_G: 69.9026\tD(x): 0.0000\tD(G(z)): 0.0000 / 0.0000\n",
            "[75/100][200/235]\tLoss_D: 62.9988\tLoss_G: 69.9015\tD(x): 0.0000\tD(G(z)): 0.0000 / 0.0000\n",
            "[76/100][0/235]\tLoss_D: 63.0982\tLoss_G: 69.9055\tD(x): 0.0000\tD(G(z)): 0.0000 / 0.0000\n",
            "[76/100][50/235]\tLoss_D: 62.9711\tLoss_G: 69.9087\tD(x): 0.0000\tD(G(z)): 0.0000 / 0.0000\n",
            "[76/100][100/235]\tLoss_D: 63.1643\tLoss_G: 69.9079\tD(x): 0.0000\tD(G(z)): 0.0000 / 0.0000\n",
            "[76/100][150/235]\tLoss_D: 63.0978\tLoss_G: 69.9078\tD(x): 0.0000\tD(G(z)): 0.0000 / 0.0000\n",
            "[76/100][200/235]\tLoss_D: 63.0415\tLoss_G: 69.9088\tD(x): 0.0000\tD(G(z)): 0.0000 / 0.0000\n",
            "[77/100][0/235]\tLoss_D: 63.0537\tLoss_G: 69.9084\tD(x): 0.0000\tD(G(z)): 0.0000 / 0.0000\n",
            "[77/100][50/235]\tLoss_D: 62.9891\tLoss_G: 69.9074\tD(x): 0.0000\tD(G(z)): 0.0000 / 0.0000\n",
            "[77/100][100/235]\tLoss_D: 63.1305\tLoss_G: 69.9098\tD(x): 0.0000\tD(G(z)): 0.0000 / 0.0000\n",
            "[77/100][150/235]\tLoss_D: 63.0717\tLoss_G: 69.9111\tD(x): 0.0000\tD(G(z)): 0.0000 / 0.0000\n",
            "[77/100][200/235]\tLoss_D: 63.0501\tLoss_G: 69.9085\tD(x): 0.0000\tD(G(z)): 0.0000 / 0.0000\n",
            "[78/100][0/235]\tLoss_D: 63.0987\tLoss_G: 69.9083\tD(x): 0.0000\tD(G(z)): 0.0000 / 0.0000\n",
            "[78/100][50/235]\tLoss_D: 63.0669\tLoss_G: 69.9061\tD(x): 0.0000\tD(G(z)): 0.0000 / 0.0000\n",
            "[78/100][100/235]\tLoss_D: 63.1107\tLoss_G: 69.9038\tD(x): 0.0000\tD(G(z)): 0.0000 / 0.0000\n",
            "[78/100][150/235]\tLoss_D: 63.0325\tLoss_G: 69.9056\tD(x): 0.0000\tD(G(z)): 0.0000 / 0.0000\n",
            "[78/100][200/235]\tLoss_D: 63.1397\tLoss_G: 69.9072\tD(x): 0.0000\tD(G(z)): 0.0000 / 0.0000\n",
            "[79/100][0/235]\tLoss_D: 63.0251\tLoss_G: 69.9112\tD(x): 0.0000\tD(G(z)): 0.0000 / 0.0000\n",
            "[79/100][50/235]\tLoss_D: 63.0769\tLoss_G: 69.9120\tD(x): 0.0000\tD(G(z)): 0.0000 / 0.0000\n",
            "[79/100][100/235]\tLoss_D: 63.1142\tLoss_G: 69.9064\tD(x): 0.0000\tD(G(z)): 0.0000 / 0.0000\n",
            "[79/100][150/235]\tLoss_D: 63.0026\tLoss_G: 69.9064\tD(x): 0.0000\tD(G(z)): 0.0000 / 0.0000\n",
            "[79/100][200/235]\tLoss_D: 63.1212\tLoss_G: 69.9090\tD(x): 0.0000\tD(G(z)): 0.0000 / 0.0000\n",
            "[80/100][0/235]\tLoss_D: 63.0726\tLoss_G: 69.9067\tD(x): 0.0000\tD(G(z)): 0.0000 / 0.0000\n",
            "[80/100][50/235]\tLoss_D: 63.0348\tLoss_G: 69.9082\tD(x): 0.0000\tD(G(z)): 0.0000 / 0.0000\n",
            "[80/100][100/235]\tLoss_D: 63.0537\tLoss_G: 69.9066\tD(x): 0.0000\tD(G(z)): 0.0000 / 0.0000\n",
            "[80/100][150/235]\tLoss_D: 63.0206\tLoss_G: 69.9097\tD(x): 0.0000\tD(G(z)): 0.0000 / 0.0000\n",
            "[80/100][200/235]\tLoss_D: 63.0722\tLoss_G: 69.9100\tD(x): 0.0000\tD(G(z)): 0.0000 / 0.0000\n",
            "[81/100][0/235]\tLoss_D: 63.0920\tLoss_G: 69.9068\tD(x): 0.0000\tD(G(z)): 0.0000 / 0.0000\n",
            "[81/100][50/235]\tLoss_D: 63.0470\tLoss_G: 69.9113\tD(x): 0.0000\tD(G(z)): 0.0000 / 0.0000\n",
            "[81/100][100/235]\tLoss_D: 63.2116\tLoss_G: 69.9077\tD(x): 0.0000\tD(G(z)): 0.0000 / 0.0000\n",
            "[81/100][150/235]\tLoss_D: 63.1076\tLoss_G: 69.9066\tD(x): 0.0000\tD(G(z)): 0.0000 / 0.0000\n",
            "[81/100][200/235]\tLoss_D: 63.0935\tLoss_G: 69.9094\tD(x): 0.0000\tD(G(z)): 0.0000 / 0.0000\n",
            "[82/100][0/235]\tLoss_D: 63.1023\tLoss_G: 69.9080\tD(x): 0.0000\tD(G(z)): 0.0000 / 0.0000\n",
            "[82/100][50/235]\tLoss_D: 63.1284\tLoss_G: 69.9069\tD(x): 0.0000\tD(G(z)): 0.0000 / 0.0000\n",
            "[82/100][100/235]\tLoss_D: 63.1502\tLoss_G: 69.9066\tD(x): 0.0000\tD(G(z)): 0.0000 / 0.0000\n",
            "[82/100][150/235]\tLoss_D: 63.1835\tLoss_G: 69.9064\tD(x): 0.0000\tD(G(z)): 0.0000 / 0.0000\n",
            "[82/100][200/235]\tLoss_D: 63.0207\tLoss_G: 69.9064\tD(x): 0.0000\tD(G(z)): 0.0000 / 0.0000\n",
            "[83/100][0/235]\tLoss_D: 63.0888\tLoss_G: 69.9104\tD(x): 0.0000\tD(G(z)): 0.0000 / 0.0000\n",
            "[83/100][50/235]\tLoss_D: 63.1243\tLoss_G: 69.9113\tD(x): 0.0000\tD(G(z)): 0.0000 / 0.0000\n",
            "[83/100][100/235]\tLoss_D: 63.0825\tLoss_G: 69.9078\tD(x): 0.0000\tD(G(z)): 0.0000 / 0.0000\n",
            "[83/100][150/235]\tLoss_D: 63.0562\tLoss_G: 69.9079\tD(x): 0.0000\tD(G(z)): 0.0000 / 0.0000\n",
            "[83/100][200/235]\tLoss_D: 63.0797\tLoss_G: 69.9046\tD(x): 0.0000\tD(G(z)): 0.0000 / 0.0000\n",
            "[84/100][0/235]\tLoss_D: 63.1317\tLoss_G: 69.9065\tD(x): 0.0000\tD(G(z)): 0.0000 / 0.0000\n",
            "[84/100][50/235]\tLoss_D: 63.0888\tLoss_G: 69.9101\tD(x): 0.0000\tD(G(z)): 0.0000 / 0.0000\n",
            "[84/100][100/235]\tLoss_D: 62.9646\tLoss_G: 69.9085\tD(x): 0.0000\tD(G(z)): 0.0000 / 0.0000\n",
            "[84/100][150/235]\tLoss_D: 63.0398\tLoss_G: 69.9088\tD(x): 0.0000\tD(G(z)): 0.0000 / 0.0000\n",
            "[84/100][200/235]\tLoss_D: 63.0217\tLoss_G: 69.9064\tD(x): 0.0000\tD(G(z)): 0.0000 / 0.0000\n",
            "[85/100][0/235]\tLoss_D: 63.0387\tLoss_G: 69.9098\tD(x): 0.0000\tD(G(z)): 0.0000 / 0.0000\n",
            "[85/100][50/235]\tLoss_D: 63.0621\tLoss_G: 69.9048\tD(x): 0.0000\tD(G(z)): 0.0000 / 0.0000\n",
            "[85/100][100/235]\tLoss_D: 63.0933\tLoss_G: 69.9058\tD(x): 0.0000\tD(G(z)): 0.0000 / 0.0000\n",
            "[85/100][150/235]\tLoss_D: 63.1003\tLoss_G: 69.9128\tD(x): 0.0000\tD(G(z)): 0.0000 / 0.0000\n",
            "[85/100][200/235]\tLoss_D: 63.0577\tLoss_G: 69.9061\tD(x): 0.0000\tD(G(z)): 0.0000 / 0.0000\n",
            "[86/100][0/235]\tLoss_D: 63.1672\tLoss_G: 69.9074\tD(x): 0.0000\tD(G(z)): 0.0000 / 0.0000\n",
            "[86/100][50/235]\tLoss_D: 63.1391\tLoss_G: 69.9055\tD(x): 0.0000\tD(G(z)): 0.0000 / 0.0000\n",
            "[86/100][100/235]\tLoss_D: 63.0348\tLoss_G: 69.9080\tD(x): 0.0000\tD(G(z)): 0.0000 / 0.0000\n",
            "[86/100][150/235]\tLoss_D: 63.1265\tLoss_G: 69.9050\tD(x): 0.0000\tD(G(z)): 0.0000 / 0.0000\n",
            "[86/100][200/235]\tLoss_D: 63.0388\tLoss_G: 69.9091\tD(x): 0.0000\tD(G(z)): 0.0000 / 0.0000\n",
            "[87/100][0/235]\tLoss_D: 63.0922\tLoss_G: 69.9101\tD(x): 0.0000\tD(G(z)): 0.0000 / 0.0000\n",
            "[87/100][50/235]\tLoss_D: 63.1107\tLoss_G: 69.9114\tD(x): 0.0000\tD(G(z)): 0.0000 / 0.0000\n",
            "[87/100][100/235]\tLoss_D: 63.0794\tLoss_G: 69.9098\tD(x): 0.0000\tD(G(z)): 0.0000 / 0.0000\n",
            "[87/100][150/235]\tLoss_D: 63.0684\tLoss_G: 69.9094\tD(x): 0.0000\tD(G(z)): 0.0000 / 0.0000\n",
            "[87/100][200/235]\tLoss_D: 63.1361\tLoss_G: 69.9086\tD(x): 0.0000\tD(G(z)): 0.0000 / 0.0000\n",
            "[88/100][0/235]\tLoss_D: 63.0838\tLoss_G: 69.9068\tD(x): 0.0000\tD(G(z)): 0.0000 / 0.0000\n",
            "[88/100][50/235]\tLoss_D: 63.0156\tLoss_G: 69.9094\tD(x): 0.0000\tD(G(z)): 0.0000 / 0.0000\n",
            "[88/100][100/235]\tLoss_D: 62.9540\tLoss_G: 69.9137\tD(x): 0.0000\tD(G(z)): 0.0000 / 0.0000\n",
            "[88/100][150/235]\tLoss_D: 63.1129\tLoss_G: 69.9098\tD(x): 0.0000\tD(G(z)): 0.0000 / 0.0000\n",
            "[88/100][200/235]\tLoss_D: 63.0720\tLoss_G: 69.9056\tD(x): 0.0000\tD(G(z)): 0.0000 / 0.0000\n",
            "[89/100][0/235]\tLoss_D: 63.0659\tLoss_G: 69.9063\tD(x): 0.0000\tD(G(z)): 0.0000 / 0.0000\n",
            "[89/100][50/235]\tLoss_D: 63.1401\tLoss_G: 69.9033\tD(x): 0.0000\tD(G(z)): 0.0000 / 0.0000\n",
            "[89/100][100/235]\tLoss_D: 63.0818\tLoss_G: 69.9079\tD(x): 0.0000\tD(G(z)): 0.0000 / 0.0000\n",
            "[89/100][150/235]\tLoss_D: 63.0870\tLoss_G: 69.9060\tD(x): 0.0000\tD(G(z)): 0.0000 / 0.0000\n",
            "[89/100][200/235]\tLoss_D: 63.1185\tLoss_G: 69.9056\tD(x): 0.0000\tD(G(z)): 0.0000 / 0.0000\n",
            "[90/100][0/235]\tLoss_D: 63.0718\tLoss_G: 69.9070\tD(x): 0.0000\tD(G(z)): 0.0000 / 0.0000\n",
            "[90/100][50/235]\tLoss_D: 63.0895\tLoss_G: 69.9080\tD(x): 0.0000\tD(G(z)): 0.0000 / 0.0000\n",
            "[90/100][100/235]\tLoss_D: 63.0366\tLoss_G: 69.9079\tD(x): 0.0000\tD(G(z)): 0.0000 / 0.0000\n",
            "[90/100][150/235]\tLoss_D: 63.1707\tLoss_G: 69.9129\tD(x): 0.0000\tD(G(z)): 0.0000 / 0.0000\n",
            "[90/100][200/235]\tLoss_D: 62.9218\tLoss_G: 69.9087\tD(x): 0.0000\tD(G(z)): 0.0000 / 0.0000\n",
            "[91/100][0/235]\tLoss_D: 63.1178\tLoss_G: 69.9081\tD(x): 0.0000\tD(G(z)): 0.0000 / 0.0000\n",
            "[91/100][50/235]\tLoss_D: 63.1081\tLoss_G: 69.9077\tD(x): 0.0000\tD(G(z)): 0.0000 / 0.0000\n",
            "[91/100][100/235]\tLoss_D: 63.1160\tLoss_G: 69.9096\tD(x): 0.0000\tD(G(z)): 0.0000 / 0.0000\n",
            "[91/100][150/235]\tLoss_D: 63.1166\tLoss_G: 69.9106\tD(x): 0.0000\tD(G(z)): 0.0000 / 0.0000\n",
            "[91/100][200/235]\tLoss_D: 63.1439\tLoss_G: 69.9050\tD(x): 0.0000\tD(G(z)): 0.0000 / 0.0000\n",
            "[92/100][0/235]\tLoss_D: 63.0471\tLoss_G: 69.9039\tD(x): 0.0000\tD(G(z)): 0.0000 / 0.0000\n",
            "[92/100][50/235]\tLoss_D: 63.0410\tLoss_G: 69.9095\tD(x): 0.0000\tD(G(z)): 0.0000 / 0.0000\n",
            "[92/100][100/235]\tLoss_D: 63.1395\tLoss_G: 69.9078\tD(x): 0.0000\tD(G(z)): 0.0000 / 0.0000\n",
            "[92/100][150/235]\tLoss_D: 63.1589\tLoss_G: 69.9067\tD(x): 0.0000\tD(G(z)): 0.0000 / 0.0000\n",
            "[92/100][200/235]\tLoss_D: 63.1479\tLoss_G: 69.9072\tD(x): 0.0000\tD(G(z)): 0.0000 / 0.0000\n",
            "[93/100][0/235]\tLoss_D: 63.0787\tLoss_G: 69.9081\tD(x): 0.0000\tD(G(z)): 0.0000 / 0.0000\n",
            "[93/100][50/235]\tLoss_D: 63.0814\tLoss_G: 69.9095\tD(x): 0.0000\tD(G(z)): 0.0000 / 0.0000\n",
            "[93/100][100/235]\tLoss_D: 63.0766\tLoss_G: 69.9098\tD(x): 0.0000\tD(G(z)): 0.0000 / 0.0000\n",
            "[93/100][150/235]\tLoss_D: 63.1110\tLoss_G: 69.9134\tD(x): 0.0000\tD(G(z)): 0.0000 / 0.0000\n",
            "[93/100][200/235]\tLoss_D: 63.0768\tLoss_G: 69.9074\tD(x): 0.0000\tD(G(z)): 0.0000 / 0.0000\n",
            "[94/100][0/235]\tLoss_D: 63.1061\tLoss_G: 69.9085\tD(x): 0.0000\tD(G(z)): 0.0000 / 0.0000\n",
            "[94/100][50/235]\tLoss_D: 63.0925\tLoss_G: 69.9075\tD(x): 0.0000\tD(G(z)): 0.0000 / 0.0000\n",
            "[94/100][100/235]\tLoss_D: 63.0547\tLoss_G: 69.9037\tD(x): 0.0000\tD(G(z)): 0.0000 / 0.0000\n",
            "[94/100][150/235]\tLoss_D: 63.0650\tLoss_G: 69.9079\tD(x): 0.0000\tD(G(z)): 0.0000 / 0.0000\n",
            "[94/100][200/235]\tLoss_D: 63.0990\tLoss_G: 69.9079\tD(x): 0.0000\tD(G(z)): 0.0000 / 0.0000\n",
            "[95/100][0/235]\tLoss_D: 63.0767\tLoss_G: 69.9091\tD(x): 0.0000\tD(G(z)): 0.0000 / 0.0000\n",
            "[95/100][50/235]\tLoss_D: 63.1228\tLoss_G: 69.9075\tD(x): 0.0000\tD(G(z)): 0.0000 / 0.0000\n",
            "[95/100][100/235]\tLoss_D: 63.1216\tLoss_G: 69.9078\tD(x): 0.0000\tD(G(z)): 0.0000 / 0.0000\n",
            "[95/100][150/235]\tLoss_D: 63.1214\tLoss_G: 69.9053\tD(x): 0.0000\tD(G(z)): 0.0000 / 0.0000\n",
            "[95/100][200/235]\tLoss_D: 63.1013\tLoss_G: 69.9097\tD(x): 0.0000\tD(G(z)): 0.0000 / 0.0000\n",
            "[96/100][0/235]\tLoss_D: 63.0849\tLoss_G: 69.9058\tD(x): 0.0000\tD(G(z)): 0.0000 / 0.0000\n",
            "[96/100][50/235]\tLoss_D: 63.0762\tLoss_G: 69.9033\tD(x): 0.0000\tD(G(z)): 0.0000 / 0.0000\n",
            "[96/100][100/235]\tLoss_D: 63.0713\tLoss_G: 69.9063\tD(x): 0.0000\tD(G(z)): 0.0000 / 0.0000\n",
            "[96/100][150/235]\tLoss_D: 63.0865\tLoss_G: 69.9055\tD(x): 0.0000\tD(G(z)): 0.0000 / 0.0000\n",
            "[96/100][200/235]\tLoss_D: 63.0762\tLoss_G: 69.9080\tD(x): 0.0000\tD(G(z)): 0.0000 / 0.0000\n",
            "[97/100][0/235]\tLoss_D: 63.0359\tLoss_G: 69.9045\tD(x): 0.0000\tD(G(z)): 0.0000 / 0.0000\n",
            "[97/100][50/235]\tLoss_D: 63.0243\tLoss_G: 69.9072\tD(x): 0.0000\tD(G(z)): 0.0000 / 0.0000\n",
            "[97/100][100/235]\tLoss_D: 63.0835\tLoss_G: 69.9095\tD(x): 0.0000\tD(G(z)): 0.0000 / 0.0000\n",
            "[97/100][150/235]\tLoss_D: 63.1340\tLoss_G: 69.9127\tD(x): 0.0000\tD(G(z)): 0.0000 / 0.0000\n",
            "[97/100][200/235]\tLoss_D: 63.1598\tLoss_G: 69.9085\tD(x): 0.0000\tD(G(z)): 0.0000 / 0.0000\n",
            "[98/100][0/235]\tLoss_D: 63.0921\tLoss_G: 69.9073\tD(x): 0.0000\tD(G(z)): 0.0000 / 0.0000\n",
            "[98/100][50/235]\tLoss_D: 63.1909\tLoss_G: 69.9124\tD(x): 0.0000\tD(G(z)): 0.0000 / 0.0000\n",
            "[98/100][100/235]\tLoss_D: 63.0388\tLoss_G: 69.9110\tD(x): 0.0000\tD(G(z)): 0.0000 / 0.0000\n",
            "[98/100][150/235]\tLoss_D: 63.0823\tLoss_G: 69.9107\tD(x): 0.0000\tD(G(z)): 0.0000 / 0.0000\n",
            "[98/100][200/235]\tLoss_D: 63.0651\tLoss_G: 69.9079\tD(x): 0.0000\tD(G(z)): 0.0000 / 0.0000\n",
            "[99/100][0/235]\tLoss_D: 62.9708\tLoss_G: 69.9085\tD(x): 0.0000\tD(G(z)): 0.0000 / 0.0000\n",
            "[99/100][50/235]\tLoss_D: 63.0827\tLoss_G: 69.9087\tD(x): 0.0000\tD(G(z)): 0.0000 / 0.0000\n",
            "[99/100][100/235]\tLoss_D: 63.1446\tLoss_G: 69.9049\tD(x): 0.0000\tD(G(z)): 0.0000 / 0.0000\n",
            "[99/100][150/235]\tLoss_D: 63.0656\tLoss_G: 69.9077\tD(x): 0.0000\tD(G(z)): 0.0000 / 0.0000\n",
            "[99/100][200/235]\tLoss_D: 63.0621\tLoss_G: 69.9065\tD(x): 0.0000\tD(G(z)): 0.0000 / 0.0000\n"
          ],
          "name": "stdout"
        }
      ]
    },
    {
      "cell_type": "code",
      "metadata": {
        "colab": {
          "base_uri": "https://localhost:8080/",
          "height": 199
        },
        "id": "GwNCBkaorVtx",
        "outputId": "ea6b1750-4a23-4b53-ba4d-37b1c8a26a85"
      },
      "source": [
        "# # Grab a batch of real images from the dataloader\n",
        "# real_batch = next(iter(dataloader))\n",
        "\n",
        "# # Plot the real images\n",
        "# plt.figure(figsize=(15,15))\n",
        "# plt.subplot(1,2,1)\n",
        "# plt.axis(\"off\")\n",
        "# plt.title(\"Real Images\")\n",
        "# plt.imshow(np.transpose(vutils.make_grid(real_batch[0].to(device)[:64], padding=5, normalize=True).cpu(),(1,2,0)))\n",
        "\n",
        "# Plot the fake images from the last epoch\n",
        "plt.subplot(1,2,2)\n",
        "plt.axis(\"off\")\n",
        "plt.title(\"Fake Images\")\n",
        "plt.imshow(np.transpose(img_list[-1],(1,2,0)))\n",
        "plt.show()"
      ],
      "execution_count": 32,
      "outputs": [
        {
          "output_type": "display_data",
          "data": {
            "image/png": "[encoded data removed]",
            "text/plain": [
              "<Figure size 432x288 with 1 Axes>"
            ]
          },
          "metadata": {
            "tags": [],
            "needs_background": "light"
          }
        }
      ]
    }
  ]
}