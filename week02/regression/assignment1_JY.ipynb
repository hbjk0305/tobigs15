{
 "cells": [
  {
   "cell_type": "markdown",
   "metadata": {},
   "source": [
    "# Assignment1 "
   ]
  },
  {
   "cell_type": "markdown",
   "metadata": {},
   "source": [
    "## Matrix 구현 \n",
    "1. Linear Regression 에서 쓰이는 **정규방정식**을 행렬로 구현하고, sklearn 혹은 OLS 패키지를 통해 구한 **실제 값과 비교**해 주세요 \n",
    "2. LSE에서 쓰이는 Loss Function, **MSE**를 행렬로 구현해 출력해 주세요 "
   ]
  },
  {
   "cell_type": "markdown",
   "metadata": {},
   "source": [
    "### Data Load "
   ]
  },
  {
   "cell_type": "code",
   "execution_count": 3,
   "metadata": {},
   "outputs": [],
   "source": [
    "import pandas as pd \n",
    "data = pd.read_csv(\"assignment1.csv\")"
   ]
  },
  {
   "cell_type": "code",
   "execution_count": 4,
   "metadata": {},
   "outputs": [
    {
     "data": {
      "text/html": [
       "<div>\n",
       "<style scoped>\n",
       "    .dataframe tbody tr th:only-of-type {\n",
       "        vertical-align: middle;\n",
       "    }\n",
       "\n",
       "    .dataframe tbody tr th {\n",
       "        vertical-align: top;\n",
       "    }\n",
       "\n",
       "    .dataframe thead th {\n",
       "        text-align: right;\n",
       "    }\n",
       "</style>\n",
       "<table border=\"1\" class=\"dataframe\">\n",
       "  <thead>\n",
       "    <tr style=\"text-align: right;\">\n",
       "      <th></th>\n",
       "      <th>y</th>\n",
       "      <th>x1</th>\n",
       "      <th>x2</th>\n",
       "      <th>x3</th>\n",
       "      <th>x4</th>\n",
       "      <th>x5</th>\n",
       "    </tr>\n",
       "  </thead>\n",
       "  <tbody>\n",
       "    <tr>\n",
       "      <td>0</td>\n",
       "      <td>10</td>\n",
       "      <td>38.9</td>\n",
       "      <td>64.7</td>\n",
       "      <td>4</td>\n",
       "      <td>868</td>\n",
       "      <td>59.7</td>\n",
       "    </tr>\n",
       "    <tr>\n",
       "      <td>1</td>\n",
       "      <td>13</td>\n",
       "      <td>41.6</td>\n",
       "      <td>45.3</td>\n",
       "      <td>-4</td>\n",
       "      <td>957</td>\n",
       "      <td>61.4</td>\n",
       "    </tr>\n",
       "    <tr>\n",
       "      <td>2</td>\n",
       "      <td>11</td>\n",
       "      <td>39.7</td>\n",
       "      <td>74.1</td>\n",
       "      <td>8</td>\n",
       "      <td>786</td>\n",
       "      <td>61.0</td>\n",
       "    </tr>\n",
       "    <tr>\n",
       "      <td>3</td>\n",
       "      <td>7</td>\n",
       "      <td>37.3</td>\n",
       "      <td>48.0</td>\n",
       "      <td>19</td>\n",
       "      <td>984</td>\n",
       "      <td>67.5</td>\n",
       "    </tr>\n",
       "    <tr>\n",
       "      <td>4</td>\n",
       "      <td>10</td>\n",
       "      <td>39.5</td>\n",
       "      <td>51.9</td>\n",
       "      <td>6</td>\n",
       "      <td>700</td>\n",
       "      <td>57.2</td>\n",
       "    </tr>\n",
       "  </tbody>\n",
       "</table>\n",
       "</div>"
      ],
      "text/plain": [
       "    y    x1    x2  x3   x4    x5\n",
       "0  10  38.9  64.7   4  868  59.7\n",
       "1  13  41.6  45.3  -4  957  61.4\n",
       "2  11  39.7  74.1   8  786  61.0\n",
       "3   7  37.3  48.0  19  984  67.5\n",
       "4  10  39.5  51.9   6  700  57.2"
      ]
     },
     "execution_count": 4,
     "metadata": {},
     "output_type": "execute_result"
    }
   ],
   "source": [
    "data.head()"
   ]
  },
  {
   "cell_type": "code",
   "execution_count": 5,
   "metadata": {},
   "outputs": [
    {
     "data": {
      "text/plain": [
       "(9, 6)"
      ]
     },
     "execution_count": 5,
     "metadata": {},
     "output_type": "execute_result"
    }
   ],
   "source": [
    "data.shape # y:(9,1), X:(9,5)"
   ]
  },
  {
   "cell_type": "code",
   "execution_count": 6,
   "metadata": {},
   "outputs": [],
   "source": [
    "X = data.drop([\"y\"], axis=1)\n",
    "y = data.y"
   ]
  },
  {
   "cell_type": "code",
   "execution_count": 7,
   "metadata": {},
   "outputs": [],
   "source": [
    "# matrix 계산을 위해 numpy 형태로 바꾸어 줍니다 \n",
    "X = X.to_numpy()\n",
    "y = y.to_numpy()"
   ]
  },
  {
   "cell_type": "code",
   "execution_count": 8,
   "metadata": {},
   "outputs": [
    {
     "data": {
      "text/plain": [
       "array([[  38.9,   64.7,    4. ,  868. ,   59.7],\n",
       "       [  41.6,   45.3,   -4. ,  957. ,   61.4],\n",
       "       [  39.7,   74.1,    8. ,  786. ,   61. ],\n",
       "       [  37.3,   48. ,   19. ,  984. ,   67.5],\n",
       "       [  39.5,   51.9,    6. ,  700. ,   57.2],\n",
       "       [  37.4,   53.6,   -5. , 1037. ,   58.8],\n",
       "       [  35.1,   71.4,    3. ,  986. ,   58.6],\n",
       "       [  38.8,   58.3,    6. ,  819. ,   59.2],\n",
       "       [  36.6,   52.6,  -19. ,  791. ,   54.4]])"
      ]
     },
     "execution_count": 8,
     "metadata": {},
     "output_type": "execute_result"
    }
   ],
   "source": [
    "X"
   ]
  },
  {
   "cell_type": "code",
   "execution_count": 9,
   "metadata": {},
   "outputs": [
    {
     "data": {
      "text/plain": [
       "array([10, 13, 11,  7, 10,  9,  9,  6,  5])"
      ]
     },
     "execution_count": 9,
     "metadata": {},
     "output_type": "execute_result"
    }
   ],
   "source": [
    "y"
   ]
  },
  {
   "cell_type": "markdown",
   "metadata": {},
   "source": [
    "### 1. Normal Equation"
   ]
  },
  {
   "cell_type": "code",
   "execution_count": 12,
   "metadata": {},
   "outputs": [],
   "source": [
    "import numpy as np\n",
    "from numpy.linalg import inv "
   ]
  },
  {
   "cell_type": "code",
   "execution_count": 13,
   "metadata": {},
   "outputs": [],
   "source": [
    "def estimate_beta(X, y):\n",
    "    designX = np.concatenate((np.ones((data.shape[0], 1)), X), axis=1)  # 편차를 고려하기 위해 앞에 1인 column을 추가한다.\n",
    "    beta_hat = np.dot(np.dot(np.linalg.inv(np.dot(designX.T, designX)),designX.T),y)  # pdf 72페이지의 행렬식을 이용하여 beta hat을 계산한다.\n",
    "    \n",
    "    return beta_hat"
   ]
  },
  {
   "cell_type": "code",
   "execution_count": 14,
   "metadata": {},
   "outputs": [
    {
     "data": {
      "text/plain": [
       "array([-3.92447368e+01,  1.31232583e+00,  8.53744361e-02,  7.41849897e-02,\n",
       "        1.50018573e-02, -3.42273652e-01])"
      ]
     },
     "execution_count": 14,
     "metadata": {},
     "output_type": "execute_result"
    }
   ],
   "source": [
    "beta_hat = estimate_beta(X, y)\n",
    "beta_hat"
   ]
  },
  {
   "cell_type": "markdown",
   "metadata": {},
   "source": [
    "#### 실제 값과 비교"
   ]
  },
  {
   "cell_type": "code",
   "execution_count": 44,
   "metadata": {},
   "outputs": [],
   "source": [
    "from sklearn.linear_model import LinearRegression"
   ]
  },
  {
   "cell_type": "code",
   "execution_count": 45,
   "metadata": {},
   "outputs": [],
   "source": [
    "model = LinearRegression()\n",
    "model.fit(X, y)\n",
    "\n",
    "pred = model.predict(X)"
   ]
  },
  {
   "cell_type": "code",
   "execution_count": 46,
   "metadata": {},
   "outputs": [
    {
     "name": "stdout",
     "output_type": "stream",
     "text": [
      "-39.24473678135661\n",
      "[ 1.31232583  0.08537444  0.07418499  0.01500186 -0.34227365]\n"
     ]
    }
   ],
   "source": [
    "print(model.intercept_) # intercept\n",
    "print(model.coef_) # 추정된 회귀계수 (intercept제외)"
   ]
  },
  {
   "cell_type": "markdown",
   "metadata": {},
   "source": [
    "실제 값과 normal equation으로 구한 값(편차를 제외한 부분)이 동일한 것을 확인할 수 있었다."
   ]
  },
  {
   "cell_type": "markdown",
   "metadata": {},
   "source": [
    "### 2. MSE"
   ]
  },
  {
   "cell_type": "code",
   "execution_count": 25,
   "metadata": {},
   "outputs": [],
   "source": [
    "def MSE(X, y, beta_hat):\n",
    "    designX = np.concatenate((np.ones((data.shape[0], 1)), X), axis=1)  # 편차를 고려하기 위해 앞에 1인 column을 추가한다.\n",
    "    y_pred = np.dot(designX, beta_hat)\n",
    "    mse = np.sum((y_pred-y)**2, axis = None)  # pred와 y를 elementwise 차이를 구하고 제곱을 한 후 평균을 구한다.\n",
    "    mse /= X.shape[0]-X.shape[1]-1\n",
    "    return mse"
   ]
  },
  {
   "cell_type": "code",
   "execution_count": 26,
   "metadata": {},
   "outputs": [
    {
     "data": {
      "text/plain": [
       "4.846793168705742"
      ]
     },
     "execution_count": 26,
     "metadata": {},
     "output_type": "execute_result"
    }
   ],
   "source": [
    "MSE(X, y, estimate_beta(X, y))"
   ]
  },
  {
   "cell_type": "markdown",
   "metadata": {},
   "source": [
    "### 3.MLE"
   ]
  },
  {
   "cell_type": "markdown",
   "metadata": {},
   "source": [
    "#### 바구니 안에 파란구슬과 빨간구슬이 들어있을 때, 10개를 추출하여보니 파란구슬이 2개 빨간구슬이 8개가 추출되었습니다. \n",
    "#### 이때 바구니안에는 파란구슬과 빨간구슬이 각각 몇개있는지에 대해서 최대우도추정법을 이용해 논리적으로 설명해주세요. \n",
    "- 수식은 있어도 좋고 말로 풀어쓰셔도 좋습니다\n",
    "- 추출은 복원추출을 전제로 합니다\n",
    "- 글자수 제한은 없습니다. 많이 쓰라는 얘기가 아니라 정말 제한이 없습니다. 너무 부담가지고 쓰지마세요."
   ]
  },
  {
   "cell_type": "markdown",
   "metadata": {},
   "source": [
    "바구니에서 구슬을 하나 추출하였을 때, 빨간구슬일 확률을 $\\pi$ 라 하자.\n",
    "\n",
    "그러면 관측값 $y_i=0.8$에서의 확률분포는 $f(y_i)=\\pi^{y_i}(1-\\pi)^{1-y_i}$\n",
    "\n",
    "\n",
    "wolframalpha를 이용하여 확률이 최대가 되는 $\\pi$를 구한 결과, $\\pi={4\\over 5}=0.8$로 추정된다.\n",
    "\n",
    "따라서 MLE를 이용하면 빨간구슬이 뽑힐 확률은 80%정도로 추정할 수 있다."
   ]
  },
  {
   "cell_type": "code",
   "execution_count": null,
   "metadata": {},
   "outputs": [],
   "source": []
  }
 ],
 "metadata": {
  "kernelspec": {
   "display_name": "Python 3",
   "language": "python",
   "name": "python3"
  },
  "language_info": {
   "codemirror_mode": {
    "name": "ipython",
    "version": 3
   },
   "file_extension": ".py",
   "mimetype": "text/x-python",
   "name": "python",
   "nbconvert_exporter": "python",
   "pygments_lexer": "ipython3",
   "version": "3.6.9"
  }
 },
 "nbformat": 4,
 "nbformat_minor": 4
}
