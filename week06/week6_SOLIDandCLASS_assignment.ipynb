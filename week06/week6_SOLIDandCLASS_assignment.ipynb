{
 "cells": [
  {
   "cell_type": "markdown",
   "metadata": {},
   "source": [
    "# 1. SOLID 원칙이란?"
   ]
  },
  {
   "cell_type": "markdown",
   "metadata": {},
   "source": [
    "SOLID 원칙은 Robert C. Martin이 그의 논문 Design Principles and Design Patterns, 2000)에서 발표한 OOP design 원칙으로 현재 널리 사용되고 있다. SOLID는 다음 다섯가지 원칙의 앞글자를 딴 것이다.\n",
    "1. **S**ingle responsibility principle\n",
    "    - 클래스는 하나의 이유만을 위해 존재하고 작동해야 한다. \n",
    "    - 하나의 클래스가 다양한 기능을 가지면 코드를 수정할 때, 오류가 발생할 가능성이 크다.\n",
    "    - 또한, 이 원칙이 지켜지지 않을 경우 거대한 코드에서 해당 역할을 하는 코드를 찾기 어려울 수 있다.\n",
    "2. **O**pen-closed principle\n",
    "    - object나 entity는 확장은 가능하되, 수정은 불가능해야 한다.\n",
    "3. **L**iskov substitution principle\n",
    "    - subclass는 superclass의 능력을 확장하기 위한 용도로 쓰여야 한다. 즉, 모든 subclass는 superclass를 대체할 수 있어야 한다.\n",
    "4. **I**nterface segregation principle\n",
    "    - 사용하지 않는 인터페이스는 구현해서는 안된다.\n",
    "    - 또한, 인터페이스들은 용도에 따라 분리해야 한다.\n",
    "5. **D**ependency inversion principle\n",
    "    - entity들은 concretion이 아닌 abstraction에 기반되어야 한다. 즉, high-level module은 low-level module에 의존하는 것이 아니라 interface와 같은 abstraction에 기반하여야 한다."
   ]
  },
  {
   "cell_type": "markdown",
   "metadata": {},
   "source": [
    "# 2. SOLID 원칙을 준수하는 클래스를 작성하세요.\n",
    "클래스는 최소 3개의 parameter과 3개의 method들이 포함되어야 합니다."
   ]
  },
  {
   "cell_type": "code",
   "execution_count": 79,
   "metadata": {},
   "outputs": [],
   "source": [
    "class Person:\n",
    "    def __init__(self, name: str):\n",
    "        self.name = name\n",
    "    def introduce(self):\n",
    "        pass"
   ]
  },
  {
   "cell_type": "code",
   "execution_count": 80,
   "metadata": {},
   "outputs": [],
   "source": [
    "class Student(Person):\n",
    "    def introduce(self):\n",
    "        print(\"Hello, my name is {} and I am student!\".format(self.name))\n",
    "    def sayHello(self, person: Person):\n",
    "        print(\"{0}: Hello, {1}\".format(self.name, person.name))"
   ]
  },
  {
   "cell_type": "code",
   "execution_count": 81,
   "metadata": {},
   "outputs": [],
   "source": [
    "from datetime import datetime\n",
    "\n",
    "class Employee(Person):\n",
    "    # 직장인은 일하거나 월급을 받을 수 있다.\n",
    "    def __init__(self, name: str):\n",
    "        super().__init__(name)\n",
    "        self.salary = 0\n",
    "        self.workingTime = 0\n",
    "        self.firstDayofWork = datetime.today()\n",
    "    \n",
    "    def introduce(self):\n",
    "        print(\"Hello, my name is {} and I'm Employee\".format(self.name))\n",
    "        \n",
    "    def work(self, time):\n",
    "        self.workingTime += time\n",
    "        print(\"{0} is working for {1}hrs.\".format(self.name, time))\n",
    "        \n",
    "    def get_salary(self):\n",
    "        if self.salary<=0:\n",
    "            print(self.name+ \": NO MONEY\")\n",
    "        else:\n",
    "            print(self.name+\": Yeah, I got {}dollars!!!!\".format(self.salary))"
   ]
  },
  {
   "cell_type": "code",
   "execution_count": 82,
   "metadata": {},
   "outputs": [],
   "source": [
    "class Manager(Employee):\n",
    "    # 매니저는 직장인을 고용하거나 월급을 주거나 해고할 수 있다.\n",
    "    def __init__(self, name, salary_rate):\n",
    "        super().__init__(name)\n",
    "        self.salary_rate = salary_rate\n",
    "        self.emp_list = []\n",
    "        \n",
    "    def introduce(self):\n",
    "        print(\"Hello, my name is {0}, and I am Manager.\".format(self.name))\n",
    "\n",
    "    def set_salary(self, employee: Employee):\n",
    "        employee.salary += employee.workingTime * self.salary_rate\n",
    "        employee.workingTime = 0\n",
    "        \n",
    "    def add_employee(self, employee: Employee):\n",
    "        self.emp_list.append(employee)\n",
    "        \n",
    "    def fire(self, number:int):\n",
    "        if number <0 or number>= len(self.emp_list):\n",
    "            print(self.name+\": You don't have that employee\")\n",
    "        else:\n",
    "            print(self.name+\": {}! You are Fire!!!!\".format(self.emp_list[number].name))\n",
    "            del self.emp_list[number]"
   ]
  },
  {
   "cell_type": "markdown",
   "metadata": {},
   "source": [
    "# 3. 클래스를 실행할 수 있는 코드도 만들어주세요."
   ]
  },
  {
   "cell_type": "code",
   "execution_count": 83,
   "metadata": {},
   "outputs": [
    {
     "name": "stdout",
     "output_type": "stream",
     "text": [
      "Hello, my name is John, and I am Manager.\n",
      "Hello, my name is Alice and I'm Employee\n",
      "Hello, my name is Bob and I'm Employee\n",
      "Hello, my name is Jane and I am student!\n",
      "Jane: Hello, John\n",
      "Jane: Hello, Bob\n",
      "Bob is working for 5hrs.\n",
      "Alice is working for 10hrs.\n",
      "John is working for 100hrs.\n",
      "Alice: Yeah, I got 100dollars!!!!\n",
      "Bob: NO MONEY\n",
      "John: Donald! You are Fire!!!!\n"
     ]
    }
   ],
   "source": [
    "manager = Manager(\"John\", 10)\n",
    "manager.introduce()\n",
    "\n",
    "alice = Employee(\"Alice\")\n",
    "alice.introduce()\n",
    "\n",
    "bob = Employee(\"Bob\")\n",
    "bob.introduce()\n",
    "\n",
    "stu = Student(\"Jane\")\n",
    "stu.introduce()\n",
    "\n",
    "stu.sayHello(manager)\n",
    "stu.sayHello(bob)\n",
    "\n",
    "manager.add_employee(alice)\n",
    "manager.add_employee(bob)\n",
    "manager.add_employee(Employee(\"Caroline\"))\n",
    "manager.add_employee(Employee(\"Donald\"))\n",
    "\n",
    "bob.work(5)\n",
    "alice.work(10)\n",
    "manager.work(100)\n",
    "\n",
    "manager.set_salary(alice)\n",
    "\n",
    "alice.get_salary()\n",
    "bob.get_salary()\n",
    "\n",
    "manager.fire(3) # 3번 직원을 삭제\n"
   ]
  },
  {
   "cell_type": "markdown",
   "metadata": {},
   "source": [
    "# 4. 왜 자신이 작성한 클래스와 코드가 SOLID 원칙을 준수하는 지 작성해주세요. (최소 300자 이상)"
   ]
  },
  {
   "cell_type": "markdown",
   "metadata": {},
   "source": [
    "1. **S**ingle responsibility principle\n",
    "    - 각각의 직업에 따라 다른 클래스를 선언했다. 또한 클래스 내의 각각의 함수들은 모두 함수명에 맞는 하나의 작업만을 수행한다.\n",
    "2. **O**pen-closed principle\n",
    "    - introduce라는 함수를 상속받아 각각의 클래스마다 다른 인삿말을 한다. 이 함수는 subclass에서 새로이 구현은 가능하나 기존의 것을 수정할 수는 없다.\n",
    "3. **L**iskov substitution principle\n",
    "    - subclass인 Employee, Manager, Student superclass의 메소드와 변수를 모두 사용할 수 있다. \n",
    "4. **I**nterface segregation principle\n",
    "    - 클래스와 메서드들을 모두 사용하였으며, 각각의 용도는 확연히 분리되어 있다. Person이라는 클래스를 상속받아 Student, Employee 클래스를 다르게 구현하였다. \n",
    "5. **D**ependency inversion principle\n",
    "    - Student class에는 sayHello라는 함수가 있다. 이 함수는 Person entity를 인자로 받아서 인사를 한다. 여기서 타입을 Person으로 지정했기 때문에 실제 함수가 호출될 때, Manger class, Employee class 모두 인자로 전달될 수 있다."
   ]
  }
 ],
 "metadata": {
  "kernelspec": {
   "display_name": "tobigs15",
   "language": "python",
   "name": "tobigs15"
  },
  "language_info": {
   "codemirror_mode": {
    "name": "ipython",
    "version": 3
   },
   "file_extension": ".py",
   "mimetype": "text/x-python",
   "name": "python",
   "nbconvert_exporter": "python",
   "pygments_lexer": "ipython3",
   "version": "3.7.9"
  }
 },
 "nbformat": 4,
 "nbformat_minor": 2
}
