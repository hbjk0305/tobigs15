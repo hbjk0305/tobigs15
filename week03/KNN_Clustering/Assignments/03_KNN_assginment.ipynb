{
 "cells": [
  {
   "cell_type": "code",
   "execution_count": 11,
   "metadata": {},
   "outputs": [],
   "source": [
    "import pandas as pd\n",
    "import numpy as np\n",
    "from sklearn import datasets\n",
    "import matplotlib.pyplot as plt\n",
    "import seaborn as sns\n",
    "%matplotlib inline\n",
    "\n",
    "import warnings\n",
    "warnings.filterwarnings(\"ignore\")\n",
    "plt.style.use('seaborn') # matplotlib 테마"
   ]
  },
  {
   "cell_type": "markdown",
   "metadata": {},
   "source": [
    "# 0. Load the Dataset"
   ]
  },
  {
   "cell_type": "code",
   "execution_count": 12,
   "metadata": {},
   "outputs": [
    {
     "name": "stdout",
     "output_type": "stream",
     "text": [
      "<class 'pandas.core.frame.DataFrame'>\n",
      "RangeIndex: 537577 entries, 0 to 537576\n",
      "Data columns (total 12 columns):\n",
      " #   Column                      Non-Null Count   Dtype  \n",
      "---  ------                      --------------   -----  \n",
      " 0   User_ID                     537577 non-null  int64  \n",
      " 1   Product_ID                  537577 non-null  object \n",
      " 2   Gender                      537577 non-null  object \n",
      " 3   Age                         537577 non-null  object \n",
      " 4   Occupation                  537577 non-null  int64  \n",
      " 5   City_Category               537577 non-null  object \n",
      " 6   Stay_In_Current_City_Years  537577 non-null  object \n",
      " 7   Marital_Status              537577 non-null  int64  \n",
      " 8   Product_Category_1          537577 non-null  int64  \n",
      " 9   Product_Category_2          370591 non-null  float64\n",
      " 10  Product_Category_3          164278 non-null  float64\n",
      " 11  Purchase                    537577 non-null  int64  \n",
      "dtypes: float64(2), int64(5), object(5)\n",
      "memory usage: 49.2+ MB\n",
      "None\n"
     ]
    },
    {
     "data": {
      "text/html": [
       "<div>\n",
       "<style scoped>\n",
       "    .dataframe tbody tr th:only-of-type {\n",
       "        vertical-align: middle;\n",
       "    }\n",
       "\n",
       "    .dataframe tbody tr th {\n",
       "        vertical-align: top;\n",
       "    }\n",
       "\n",
       "    .dataframe thead th {\n",
       "        text-align: right;\n",
       "    }\n",
       "</style>\n",
       "<table border=\"1\" class=\"dataframe\">\n",
       "  <thead>\n",
       "    <tr style=\"text-align: right;\">\n",
       "      <th></th>\n",
       "      <th>User_ID</th>\n",
       "      <th>Product_ID</th>\n",
       "      <th>Gender</th>\n",
       "      <th>Age</th>\n",
       "      <th>Occupation</th>\n",
       "      <th>City_Category</th>\n",
       "      <th>Stay_In_Current_City_Years</th>\n",
       "      <th>Marital_Status</th>\n",
       "      <th>Product_Category_1</th>\n",
       "      <th>Product_Category_2</th>\n",
       "      <th>Product_Category_3</th>\n",
       "      <th>Purchase</th>\n",
       "    </tr>\n",
       "  </thead>\n",
       "  <tbody>\n",
       "    <tr>\n",
       "      <th>0</th>\n",
       "      <td>1000001</td>\n",
       "      <td>P00069042</td>\n",
       "      <td>F</td>\n",
       "      <td>0-17</td>\n",
       "      <td>10</td>\n",
       "      <td>A</td>\n",
       "      <td>2</td>\n",
       "      <td>0</td>\n",
       "      <td>3</td>\n",
       "      <td>NaN</td>\n",
       "      <td>NaN</td>\n",
       "      <td>8370</td>\n",
       "    </tr>\n",
       "    <tr>\n",
       "      <th>1</th>\n",
       "      <td>1000001</td>\n",
       "      <td>P00248942</td>\n",
       "      <td>F</td>\n",
       "      <td>0-17</td>\n",
       "      <td>10</td>\n",
       "      <td>A</td>\n",
       "      <td>2</td>\n",
       "      <td>0</td>\n",
       "      <td>1</td>\n",
       "      <td>6.0</td>\n",
       "      <td>14.0</td>\n",
       "      <td>15200</td>\n",
       "    </tr>\n",
       "    <tr>\n",
       "      <th>2</th>\n",
       "      <td>1000001</td>\n",
       "      <td>P00087842</td>\n",
       "      <td>F</td>\n",
       "      <td>0-17</td>\n",
       "      <td>10</td>\n",
       "      <td>A</td>\n",
       "      <td>2</td>\n",
       "      <td>0</td>\n",
       "      <td>12</td>\n",
       "      <td>NaN</td>\n",
       "      <td>NaN</td>\n",
       "      <td>1422</td>\n",
       "    </tr>\n",
       "    <tr>\n",
       "      <th>3</th>\n",
       "      <td>1000001</td>\n",
       "      <td>P00085442</td>\n",
       "      <td>F</td>\n",
       "      <td>0-17</td>\n",
       "      <td>10</td>\n",
       "      <td>A</td>\n",
       "      <td>2</td>\n",
       "      <td>0</td>\n",
       "      <td>12</td>\n",
       "      <td>14.0</td>\n",
       "      <td>NaN</td>\n",
       "      <td>1057</td>\n",
       "    </tr>\n",
       "    <tr>\n",
       "      <th>4</th>\n",
       "      <td>1000002</td>\n",
       "      <td>P00285442</td>\n",
       "      <td>M</td>\n",
       "      <td>55+</td>\n",
       "      <td>16</td>\n",
       "      <td>C</td>\n",
       "      <td>4+</td>\n",
       "      <td>0</td>\n",
       "      <td>8</td>\n",
       "      <td>NaN</td>\n",
       "      <td>NaN</td>\n",
       "      <td>7969</td>\n",
       "    </tr>\n",
       "  </tbody>\n",
       "</table>\n",
       "</div>"
      ],
      "text/plain": [
       "   User_ID Product_ID Gender   Age  Occupation City_Category  \\\n",
       "0  1000001  P00069042      F  0-17          10             A   \n",
       "1  1000001  P00248942      F  0-17          10             A   \n",
       "2  1000001  P00087842      F  0-17          10             A   \n",
       "3  1000001  P00085442      F  0-17          10             A   \n",
       "4  1000002  P00285442      M   55+          16             C   \n",
       "\n",
       "  Stay_In_Current_City_Years  Marital_Status  Product_Category_1  \\\n",
       "0                          2               0                   3   \n",
       "1                          2               0                   1   \n",
       "2                          2               0                  12   \n",
       "3                          2               0                  12   \n",
       "4                         4+               0                   8   \n",
       "\n",
       "   Product_Category_2  Product_Category_3  Purchase  \n",
       "0                 NaN                 NaN      8370  \n",
       "1                 6.0                14.0     15200  \n",
       "2                 NaN                 NaN      1422  \n",
       "3                14.0                 NaN      1057  \n",
       "4                 NaN                 NaN      7969  "
      ]
     },
     "execution_count": 12,
     "metadata": {},
     "output_type": "execute_result"
    }
   ],
   "source": [
    "dat = pd.read_csv(\"BlackFriday.csv\", encoding=\"UTF8\")\n",
    "print(dat.info())\n",
    "dat.head()"
   ]
  },
  {
   "cell_type": "markdown",
   "metadata": {},
   "source": [
    "`Product_Category_2`(제품의 2차 분류) 와 `Product_Category_3`(제품의 3차분류) 에 NaN값이 많아 보인다. 제품에 대한 특별한 정보가 없는 상태에서 2차 분류와 3차 분류를 대체할 값을 찾을 수 없으므로 이 column들을 drop하는 것이 나아보인다."
   ]
  },
  {
   "cell_type": "code",
   "execution_count": 13,
   "metadata": {},
   "outputs": [],
   "source": [
    "dat.drop(['Product_Category_2', 'Product_Category_3'], axis = 'columns', inplace=True)"
   ]
  },
  {
   "cell_type": "markdown",
   "metadata": {},
   "source": [
    "# 1. EDA and Preprocessing"
   ]
  },
  {
   "cell_type": "code",
   "execution_count": 14,
   "metadata": {},
   "outputs": [
    {
     "name": "stdout",
     "output_type": "stream",
     "text": [
      "<Unique Value per Columns>\n",
      "*User_ID : 5891\n",
      "\t[1000001 1000002 1000003 1000004 1000005]...[1006036 1006037 1006038 1006039 1006040]\n",
      "*Product_ID : 3623\n",
      "\t['P00000142' 'P00000242' 'P00000342' 'P00000442' 'P00000542']...['P0099442' 'P0099642' 'P0099742' 'P0099842' 'P0099942']\n",
      "*Gender : 2\n",
      "\t['F' 'M']\n",
      "*Age : 7\n",
      "\t['0-17' '18-25' '26-35' '36-45' '46-50' '51-55' '55+']\n",
      "*Occupation : 21\n",
      "\t[0 1 2 3 4]...[16 17 18 19 20]\n",
      "*City_Category : 3\n",
      "\t['A' 'B' 'C']\n",
      "*Stay_In_Current_City_Years : 5\n",
      "\t['0' '1' '2' '3' '4+']\n",
      "*Marital_Status : 2\n",
      "\t[0 1]\n",
      "*Product_Category_1 : 18\n",
      "\t[1 2 3 4 5]...[14 15 16 17 18]\n",
      "*Purchase : 17959\n",
      "\t[185 186 187 188 189]...[23956 23958 23959 23960 23961]\n"
     ]
    }
   ],
   "source": [
    "# Column별로 unique한 데이터의 개수를 출력하였다. \n",
    "# 이 때, unique한 데이터의 개수가 너무 많으면 앞과 뒤에서 5개씩만 print한다.\n",
    "print('<Unique Value per Columns>')\n",
    "for i in dat.columns:\n",
    "    print('*{} : {}'.format(i, len(np.unique(dat[i]))), end = '\\n\\t')\n",
    "    if (len(np.unique(dat[i])) > 10):\n",
    "        print(np.unique(dat[i])[:5], end ='...')\n",
    "        print(np.unique(dat[i])[-5:])\n",
    "    else:\n",
    "        print(np.unique(dat[i]))"
   ]
  },
  {
   "cell_type": "markdown",
   "metadata": {},
   "source": [
    "본 데이터셋은 블랙 프라이데이 시즌에 구매내역에 대한 내용을 담고 있다.\n",
    "\n",
    "Variable|Unique|Explanation\n",
    ":-|:-|:-\n",
    "User_ID|5891|user는 총 5891명이다.\n",
    "Product_ID |3623|제품은 3623가지 종류가 있다.\n",
    "Gender|2|여성은 F, 남성은 M이다.\n",
    "Age|7|연령은 7가지 계층으로 구분한다.\n",
    "Occupation|21|직업의 종류는 21가지이다.\n",
    "City_Category|3|도시는 세 종류가 있다.\n",
    "Stay_In_Current_City_Years|5| 해당 도시에서 살고 있는 년수를 의미한다.\n",
    "Material_Status|2| 결혼 여부를 의미한다.\n",
    "Product_Category_1|18| 제품의 1차 분류는 총 18가지가 있다.\n",
    "Purchase|17959| 구매 가격으로 추정된다.\n",
    "  "
   ]
  },
  {
   "cell_type": "code",
   "execution_count": 15,
   "metadata": {},
   "outputs": [
    {
     "data": {
      "image/png": "[encoded data removed]",
      "text/plain": [
       "<Figure size 1656x720 with 8 Axes>"
      ]
     },
     "metadata": {},
     "output_type": "display_data"
    }
   ],
   "source": [
    "f, axes = plt.subplots(ncols=4, nrows=2, figsize=(23, 10))\n",
    "sns.countplot(x = 'Gender',data = dat, ax = axes[0][0], palette = 'Pastel1')\n",
    "sns.countplot(x = \"Age\", data = dat, ax = axes[0][1], palette = 'Greys')\n",
    "sns.countplot(x='Occupation',data = dat, ax = axes[0][2], color = 'darkseagreen')\n",
    "sns.countplot(x='City_Category',data = dat, ax = axes[0][3], palette= 'Set2')\n",
    "\n",
    "sns.countplot(x='Stay_In_Current_City_Years',data = dat, ax = axes[1][0], palette = 'Greys')\n",
    "sns.countplot(x = \"Marital_Status\",data = dat, ax = axes[1][1], palette = 'Paired')\n",
    "sns.countplot(x = 'Product_Category_1', data = dat, ax = axes[1][2], color = 'sandybrown')\n",
    "sns.histplot(x = 'Purchase', data = dat, ax = axes[1][3], color = 'crimson', bins=15)\n",
    "plt.show()"
   ]
  },
  {
   "cell_type": "markdown",
   "metadata": {},
   "source": [
    "Variable|Note\n",
    ":-|:-\n",
    "Gender|남성 회원의 구매내역이 훨씬 많다. (Target)\n",
    "Age|26-35세 회원의 구매내역이 가장 많다.\n",
    "Occupation|4번 직업을 가진 사람이 가장 많다.\n",
    "City_Category|B지역에 사는 사람이 가장 많지만 지역별 차이가 매우 크지는 않다.\n",
    "Stay_In_Current_City_Years|1년간 거주한 사람이 가장 많다. \n",
    "Material_Status|미혼 고객이 다소 더 많다.\n",
    "Product_Category_1|5번 분류의 제품이 가장 많이 팔렸다. 다음으로 1번, 8번 분류의 제품이 많이 팔렸다. 나머지 제품군과의 차이가 많이 난다.\n",
    "Purchase|구매 가격은 7000정도가 가장 많다."
   ]
  },
  {
   "cell_type": "code",
   "execution_count": 16,
   "metadata": {},
   "outputs": [],
   "source": [
    "# 각 연령층의 중간값으로 바꿔주었다. 55세 이상은 임의로 65로 지정하였다. \n",
    "dat['Age']=dat.Age.map({'0-17':8.5, '18-25':21.5, '26-35':30.5, '36-45':40.5, '46-50':48, '51-55':53, '55+':65}) \n",
    "\n",
    "dat['Marital_Status']=dat.Marital_Status.map({0: 'False', 1:'True'}) \n",
    "dat['Stay_In_Current_City_Years']=dat.Stay_In_Current_City_Years.map({'0': 0, '1': 1, '2': 2, '3': 3, '4+':4})"
   ]
  },
  {
   "cell_type": "code",
   "execution_count": 17,
   "metadata": {},
   "outputs": [],
   "source": [
    "#Categorical Feature들은 one-hot encoding해주었다.\n",
    "data_dum = pd.get_dummies(dat.drop(['User_ID', 'Product_ID'], axis='columns'))"
   ]
  },
  {
   "cell_type": "code",
   "execution_count": 109,
   "metadata": {},
   "outputs": [
    {
     "data": {
      "text/html": [
       "<div>\n",
       "<style scoped>\n",
       "    .dataframe tbody tr th:only-of-type {\n",
       "        vertical-align: middle;\n",
       "    }\n",
       "\n",
       "    .dataframe tbody tr th {\n",
       "        vertical-align: top;\n",
       "    }\n",
       "\n",
       "    .dataframe thead th {\n",
       "        text-align: right;\n",
       "    }\n",
       "</style>\n",
       "<table border=\"1\" class=\"dataframe\">\n",
       "  <thead>\n",
       "    <tr style=\"text-align: right;\">\n",
       "      <th></th>\n",
       "      <th>Age</th>\n",
       "      <th>Occupation</th>\n",
       "      <th>Stay_In_Current_City_Years</th>\n",
       "      <th>Product_Category_1</th>\n",
       "      <th>Purchase</th>\n",
       "      <th>City_Category_A</th>\n",
       "      <th>City_Category_B</th>\n",
       "      <th>City_Category_C</th>\n",
       "      <th>Marital_Status_False</th>\n",
       "      <th>Marital_Status_True</th>\n",
       "    </tr>\n",
       "  </thead>\n",
       "  <tbody>\n",
       "    <tr>\n",
       "      <th>0</th>\n",
       "      <td>8.5</td>\n",
       "      <td>10</td>\n",
       "      <td>2</td>\n",
       "      <td>3</td>\n",
       "      <td>8370</td>\n",
       "      <td>1</td>\n",
       "      <td>0</td>\n",
       "      <td>0</td>\n",
       "      <td>1</td>\n",
       "      <td>0</td>\n",
       "    </tr>\n",
       "    <tr>\n",
       "      <th>1</th>\n",
       "      <td>8.5</td>\n",
       "      <td>10</td>\n",
       "      <td>2</td>\n",
       "      <td>1</td>\n",
       "      <td>15200</td>\n",
       "      <td>1</td>\n",
       "      <td>0</td>\n",
       "      <td>0</td>\n",
       "      <td>1</td>\n",
       "      <td>0</td>\n",
       "    </tr>\n",
       "    <tr>\n",
       "      <th>2</th>\n",
       "      <td>8.5</td>\n",
       "      <td>10</td>\n",
       "      <td>2</td>\n",
       "      <td>12</td>\n",
       "      <td>1422</td>\n",
       "      <td>1</td>\n",
       "      <td>0</td>\n",
       "      <td>0</td>\n",
       "      <td>1</td>\n",
       "      <td>0</td>\n",
       "    </tr>\n",
       "    <tr>\n",
       "      <th>3</th>\n",
       "      <td>8.5</td>\n",
       "      <td>10</td>\n",
       "      <td>2</td>\n",
       "      <td>12</td>\n",
       "      <td>1057</td>\n",
       "      <td>1</td>\n",
       "      <td>0</td>\n",
       "      <td>0</td>\n",
       "      <td>1</td>\n",
       "      <td>0</td>\n",
       "    </tr>\n",
       "    <tr>\n",
       "      <th>4</th>\n",
       "      <td>65.0</td>\n",
       "      <td>16</td>\n",
       "      <td>4</td>\n",
       "      <td>8</td>\n",
       "      <td>7969</td>\n",
       "      <td>0</td>\n",
       "      <td>0</td>\n",
       "      <td>1</td>\n",
       "      <td>1</td>\n",
       "      <td>0</td>\n",
       "    </tr>\n",
       "  </tbody>\n",
       "</table>\n",
       "</div>"
      ],
      "text/plain": [
       "    Age  Occupation  Stay_In_Current_City_Years  Product_Category_1  Purchase  \\\n",
       "0   8.5          10                           2                   3      8370   \n",
       "1   8.5          10                           2                   1     15200   \n",
       "2   8.5          10                           2                  12      1422   \n",
       "3   8.5          10                           2                  12      1057   \n",
       "4  65.0          16                           4                   8      7969   \n",
       "\n",
       "   City_Category_A  City_Category_B  City_Category_C  Marital_Status_False  \\\n",
       "0                1                0                0                     1   \n",
       "1                1                0                0                     1   \n",
       "2                1                0                0                     1   \n",
       "3                1                0                0                     1   \n",
       "4                0                0                1                     1   \n",
       "\n",
       "   Marital_Status_True  \n",
       "0                    0  \n",
       "1                    0  \n",
       "2                    0  \n",
       "3                    0  \n",
       "4                    0  "
      ]
     },
     "execution_count": 109,
     "metadata": {},
     "output_type": "execute_result"
    }
   ],
   "source": [
    "X = dat.drop(['User_ID', 'Product_ID', 'Gender'], axis='columns')\n",
    "X = pd.get_dummies(X)\n",
    "y = dat['Gender'] # target feature인 성별을 분리한다.\n",
    "X.head()"
   ]
  },
  {
   "cell_type": "markdown",
   "metadata": {},
   "source": [
    "## 2. KNN"
   ]
  },
  {
   "cell_type": "code",
   "execution_count": 110,
   "metadata": {},
   "outputs": [],
   "source": [
    "from sklearn.neighbors import KNeighborsClassifier\n",
    "from sklearn.model_selection import train_test_split\n",
    "from math import sqrt\n",
    "X_train, X_test, y_train, y_test = train_test_split(X, y, random_state=12, test_size = 0.3)"
   ]
  },
  {
   "cell_type": "code",
   "execution_count": 111,
   "metadata": {},
   "outputs": [],
   "source": [
    "from sklearn.preprocessing import StandardScaler\n",
    "scaler = StandardScaler()\n",
    "scaler.fit(X_train)\n",
    "\n",
    "X_train = scaler.transform(X_train)\n",
    "X_test = scaler.transform(X_test)"
   ]
  },
  {
   "cell_type": "markdown",
   "metadata": {},
   "source": [
    "데이터의 크기 분포에 대한 차이가 너무 크면, 하나의 feature가 class를 결정하는 데 너무 큰 영향을 미치므로 scaler를 사용하여 정규화를 해준다."
   ]
  },
  {
   "cell_type": "code",
   "execution_count": 74,
   "metadata": {},
   "outputs": [
    {
     "name": "stdout",
     "output_type": "stream",
     "text": [
      "Fitting 3 folds for each of 40 candidates, totalling 120 fits\n"
     ]
    },
    {
     "name": "stderr",
     "output_type": "stream",
     "text": [
      "[Parallel(n_jobs=-1)]: Done  34 tasks      | elapsed: 18.5min\n",
      "[Parallel(n_jobs=-1)]: Done 120 out of 120 | elapsed: 55.1min finished\n"
     ]
    }
   ],
   "source": [
    "from sklearn.model_selection import GridSearchCV\n",
    "grid_params = {\n",
    "    'n_neighbors':range(1, 20, 2),\n",
    "    'weights': ['uniform', 'distance'],\n",
    "    'metric': ['euclidean', 'manhattan']\n",
    "}\n",
    "gs = GridSearchCV(KNeighborsClassifier(), grid_params, verbose = 1, n_jobs = -1, scoring='accuracy')\n",
    "gs_results = gs.fit(X_train, y_train)"
   ]
  },
  {
   "cell_type": "markdown",
   "metadata": {},
   "source": [
    "GridSearchCV를 통해 파라미터를 바꿔가면서 가장 좋은 성능을 보이는 모델을 찾고자 하였다.\n",
    "\n",
    "후보 파라미터로는 neighbor의 개수를 (1, 3, ..., 19), 거리에 따른 가중치를 주느냐 마느냐, euclidean distance를 쓸 것인가 mangattan distance를 쓸것인가이다."
   ]
  },
  {
   "cell_type": "code",
   "execution_count": 77,
   "metadata": {},
   "outputs": [
    {
     "data": {
      "text/plain": [
       "GridSearchCV(cv=None, error_score='raise',\n",
       "       estimator=KNeighborsClassifier(algorithm='auto', leaf_size=30, metric='minkowski',\n",
       "           metric_params=None, n_jobs=1, n_neighbors=5, p=2,\n",
       "           weights='uniform'),\n",
       "       fit_params=None, iid=True, n_jobs=-1,\n",
       "       param_grid={'n_neighbors': range(1, 20, 2), 'weights': ['uniform', 'distance'], 'metric': ['euclidean', 'manhattan']},\n",
       "       pre_dispatch='2*n_jobs', refit=True, return_train_score='warn',\n",
       "       scoring='accuracy', verbose=1)"
      ]
     },
     "execution_count": 77,
     "metadata": {},
     "output_type": "execute_result"
    }
   ],
   "source": [
    "gs_results"
   ]
  },
  {
   "cell_type": "markdown",
   "metadata": {},
   "source": [
    "GridSearch의 결과로\n",
    "\n",
    "`KNeighborsClassifier(algorithm='auto', leaf_size=30, metric='minkowski',\n",
    "           metric_params=None, n_jobs=1, n_neighbors=5, p=2,\n",
    "           weights='uniform')`\n",
    "\n",
    "를 얻을 수 있었다."
   ]
  },
  {
   "cell_type": "code",
   "execution_count": 115,
   "metadata": {},
   "outputs": [],
   "source": [
    "best_knn = gs_results.best_estimator_.fit(X_train, y_train)\n",
    "pred = best_knn.predict(X_test)"
   ]
  },
  {
   "cell_type": "code",
   "execution_count": 116,
   "metadata": {},
   "outputs": [
    {
     "name": "stdout",
     "output_type": "stream",
     "text": [
      "             precision    recall  f1-score   support\n",
      "\n",
      "          F      0.684     0.602     0.640     39349\n",
      "          M      0.876     0.910     0.893    121925\n",
      "\n",
      "avg / total      0.829     0.835     0.831    161274\n",
      "\n",
      "Accuracy: 0.835\n"
     ]
    }
   ],
   "source": [
    "from sklearn.metrics import accuracy_score, classification_report\n",
    "\n",
    "print(classification_report(y_test,pred, digits=3))\n",
    "acc = accuracy_score(y_test, pred)\n",
    "print(\"Accuracy: %.3f\"%(acc))"
   ]
  },
  {
   "cell_type": "code",
   "execution_count": 117,
   "metadata": {},
   "outputs": [
    {
     "data": {
      "text/html": [
       "<div>\n",
       "<style scoped>\n",
       "    .dataframe tbody tr th:only-of-type {\n",
       "        vertical-align: middle;\n",
       "    }\n",
       "\n",
       "    .dataframe tbody tr th {\n",
       "        vertical-align: top;\n",
       "    }\n",
       "\n",
       "    .dataframe thead th {\n",
       "        text-align: right;\n",
       "    }\n",
       "</style>\n",
       "<table border=\"1\" class=\"dataframe\">\n",
       "  <thead>\n",
       "    <tr style=\"text-align: right;\">\n",
       "      <th>Predict</th>\n",
       "      <th>F</th>\n",
       "      <th>M</th>\n",
       "      <th>Total</th>\n",
       "    </tr>\n",
       "    <tr>\n",
       "      <th>Label</th>\n",
       "      <th></th>\n",
       "      <th></th>\n",
       "      <th></th>\n",
       "    </tr>\n",
       "  </thead>\n",
       "  <tbody>\n",
       "    <tr>\n",
       "      <th>F</th>\n",
       "      <td>23688</td>\n",
       "      <td>15661</td>\n",
       "      <td>39349</td>\n",
       "    </tr>\n",
       "    <tr>\n",
       "      <th>M</th>\n",
       "      <td>10940</td>\n",
       "      <td>110985</td>\n",
       "      <td>121925</td>\n",
       "    </tr>\n",
       "    <tr>\n",
       "      <th>Total</th>\n",
       "      <td>34628</td>\n",
       "      <td>126646</td>\n",
       "      <td>161274</td>\n",
       "    </tr>\n",
       "  </tbody>\n",
       "</table>\n",
       "</div>"
      ],
      "text/plain": [
       "Predict      F       M   Total\n",
       "Label                         \n",
       "F        23688   15661   39349\n",
       "M        10940  110985  121925\n",
       "Total    34628  126646  161274"
      ]
     },
     "execution_count": 117,
     "metadata": {},
     "output_type": "execute_result"
    }
   ],
   "source": [
    "# y_test =y_test.map({0: 'Male', 1:'Female'})\n",
    "# pred = pred.replace({0: 'Male', 1:'Female'})\n",
    "pd.crosstab(y_test, pred, rownames=['Label'], colnames=['Predict'], margins=True, margins_name='Total')"
   ]
  },
  {
   "cell_type": "markdown",
   "metadata": {},
   "source": [
    "test set에 대해 모델을 실행한 결과, 위와 같은 결과를 얻을 수 있었다. accuracy는 **83.6%**로 양호한 편이다. classification report에서 보면 Male에 대한 모델의 성능이 더 좋은 것을 확인할 수 있다. 이는, 앞의 EDA에서 봤듯이 본 데이터셋은 남성에 대한 정보가 더 많은 imbalanced dataset이기 때문에 model이 학습됨에 있어서 bias가 발생한 것으로 추측된다."
   ]
  }
 ],
 "metadata": {
  "kernelspec": {
   "display_name": "tobigs15",
   "language": "python",
   "name": "tobigs15"
  },
  "language_info": {
   "codemirror_mode": {
    "name": "ipython",
    "version": 3
   },
   "file_extension": ".py",
   "mimetype": "text/x-python",
   "name": "python",
   "nbconvert_exporter": "python",
   "pygments_lexer": "ipython3",
   "version": "3.7.9"
  }
 },
 "nbformat": 4,
 "nbformat_minor": 2
}
